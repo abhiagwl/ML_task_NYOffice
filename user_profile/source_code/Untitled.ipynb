{
 "cells": [
  {
   "cell_type": "code",
   "execution_count": 37,
   "metadata": {
    "collapsed": false
   },
   "outputs": [
    {
     "name": "stdout",
     "output_type": "stream",
     "text": [
      "scraped_data_25.csv\n",
      "scraped_data_50.csv\n",
      "scraped_data_75.csv\n",
      "scraped_data_100.csv\n",
      "scraped_data_125.csv\n"
     ]
    }
   ],
   "source": [
    "scraps=[]\n",
    "for n,dom in enumerate(domains[1][:125]):\n",
    "    t1=tim()\n",
    "    scraps=scraps+scraper(dom,2)[1:]\n",
    "    t2=tim()\n",
    "    print(t2-t1)\n",
    "    if (n+1)%25==0:\n",
    "        Series(scraps).to_csv(os.path.join(data_dir,\"scraped_data_\"+str(n+1)+\".csv\"))\n",
    "\n",
    "len(scraps)\n",
    "\n",
    "int(domains[1][:4].index.values[-1:])\n",
    "\n",
    "os.path.exists(final_data)\n",
    "\n"
   ]
  },
  {
   "cell_type": "code",
   "execution_count": 1,
   "metadata": {
    "collapsed": true
   },
   "outputs": [],
   "source": [
    "-\n"
   ]
  },
  {
   "cell_type": "code",
   "execution_count": 2,
   "metadata": {
    "collapsed": false
   },
   "outputs": [],
   "source": [
    "final_data=os.path.join(data_dir,\"final_scrap\")"
   ]
  },
  {
   "cell_type": "code",
   "execution_count": null,
   "metadata": {
    "collapsed": false,
    "scrolled": true
   },
   "outputs": [
    {
     "name": "stdout",
     "output_type": "stream",
     "text": [
      "194.751921892\n",
      "2.22423195839\n",
      "8.24457597733\n",
      "217.448575974\n",
      "3.34938502312\n",
      "13.4696619511\n",
      "189.579473972\n",
      "148.757947922\n",
      "90.3442020416\n",
      "159.621577024\n",
      "1.73655700684\n",
      "1.15670800209\n",
      "18.0961639881\n",
      "6.90892291069\n",
      "7.24434804916\n",
      "124.378511906\n",
      "3.43828105927\n",
      "11.1292979717\n",
      "32.9287221432\n",
      "144.899539948\n",
      "142.859950066\n",
      "431.467484951\n",
      "2.63235402107\n",
      "7.32353711128\n",
      "1.77055716515\n",
      "27.0764169693\n",
      "11.6666040421\n",
      "6.07244205475\n",
      "36.0739839077\n",
      "16.7323179245\n",
      "6.58916902542\n",
      "157.045274019\n",
      "58.8701758385\n",
      "56.9023110867\n",
      "5.26991200447\n",
      "4.45962905884\n",
      "51.3621180058\n",
      "185.357097864\n",
      "4.70995378494\n",
      "1.11519598961\n",
      "3.19915294647\n",
      "118.754016876\n",
      "1.5171649456\n",
      "3.49164509773\n",
      "28.1384451389\n",
      "6.47755694389\n",
      "3.33137083054\n",
      "58.0593419075\n",
      "20.3020398617\n",
      "398.862386942\n",
      "2.85668897629\n",
      "48.1289877892\n",
      "40.48447299\n",
      "8.8074529171\n",
      "99.5584480762\n",
      "120.472240925\n",
      "47.5047490597\n",
      "12.7014000416\n",
      "138.53344202\n",
      "242.047641039\n",
      "6.67265200615\n",
      "65.193048954\n",
      "0.177645206451\n",
      "44.9455378056\n",
      "128.099573135\n",
      "169.554277182\n",
      "179.418523073\n",
      "119.261615038\n",
      "2.57776498795\n",
      "232.475931883\n",
      "215.131099224\n",
      "33.9975500107\n",
      "60.6170918941\n",
      "2.02988696098\n",
      "58.5834050179\n",
      "230.89860487\n",
      "16.203815937\n",
      "357.258817911\n",
      "9.27284193039\n",
      "107.923258066\n",
      "30.8095300198\n",
      "178.547682047\n",
      "218.81850791\n",
      "5.06183409691\n",
      "45.3452651501\n",
      "39.2561178207\n",
      "26.4156041145\n",
      "294.315361023\n",
      "338.457037926\n",
      "43.2516131401\n",
      "3.06707787514\n",
      "108.999185085\n",
      "0.927648067474\n",
      "111.783458948\n",
      "139.526983976\n"
     ]
    }
   ],
   "source": [
    "scraps=[]\n",
    "for dom,n in zip(domains[1][:125],domains[1][:125].index.values):\n",
    "    t1=tim()\n",
    "    scraps=scraps+scraper(dom,2)[1:]\n",
    "    t2=tim()\n",
    "    print(t2-t1)\n",
    "    if (n+1)%25==0:\n",
    "        Series(scraps).to_csv(os.path.join(final_data,\"scraped_data_\"+str(n+1)+\".csv\"))"
   ]
  }
 ],
 "metadata": {
  "kernelspec": {
   "display_name": "Python 2",
   "language": "python",
   "name": "python2"
  },
  "language_info": {
   "codemirror_mode": {
    "name": "ipython",
    "version": 2
   },
   "file_extension": ".py",
   "mimetype": "text/x-python",
   "name": "python",
   "nbconvert_exporter": "python",
   "pygments_lexer": "ipython2",
   "version": "2.7.11"
  }
 },
 "nbformat": 4,
 "nbformat_minor": 0
}
