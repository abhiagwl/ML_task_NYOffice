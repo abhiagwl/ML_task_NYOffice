{
 "cells": [
  {
   "cell_type": "code",
   "execution_count": 1,
   "metadata": {
    "collapsed": true
   },
   "outputs": [],
   "source": [
    "from time import time as tim\n",
    "import pandas as pd\n",
    "import numpy as np \n",
    "from pandas import Series\n",
    "domains=pd.read_csv(\"all_domain.csv\",header=None)\n",
    "\n",
    "import os\n",
    "root_dir = os.path.abspath('../..')\n",
    "task_dir= os.path.join(root_dir,'user_profile')\n",
    "data_dir=os.path.join(task_dir,'data')\n",
    "\n",
    "import urllib\n",
    "import re\n",
    "import time\n",
    "from threading import Thread\n",
    "import MySQLdb\n",
    "import mechanize\n",
    "import readability\n",
    "from bs4 import BeautifulSoup\n",
    "from readability.readability import Document\n",
    "import urlparse\n",
    "\n",
    "def scraper(root,steps):\n",
    "    urls = [root]\n",
    "    visited = [root]\n",
    "    counter = 0\n",
    "    scraped=[]\n",
    "    while counter < steps:\n",
    "        step_url = scrapeStep(urls,scraped)\n",
    "        urls = []\n",
    "        for u in step_url:\n",
    "            if u not in visited and str(urlparse.urlparse(u).hostname) in urlparse.urlparse(root).hostname :\n",
    "                urls.append(u)\n",
    "                visited.append(u)\n",
    "        counter+=1\n",
    "    return visited\n",
    "\n",
    "def scrapeStep(root,scraped):\n",
    "    result_urls = []\n",
    "    br = mechanize.Browser()\n",
    "    br.set_handle_robots(False)\n",
    "    br.addheaders = [('User-agent', 'Firefox')]\n",
    "\n",
    "    for url in root:\n",
    "        if url not in scraped:\n",
    "            try:\n",
    "                br.open(url)\n",
    "                for link in br.links():\n",
    "                    newurl = urlparse.urljoin(link.base_url,link.url)\n",
    "                    result_urls.append(newurl)\n",
    "                scraped.append(url)\n",
    "            except:\n",
    "                error= \"error\"\n",
    "    return result_urls\n"
   ]
  },
  {
   "cell_type": "code",
   "execution_count": 3,
   "metadata": {
    "collapsed": true
   },
   "outputs": [],
   "source": [
    "final_data=os.path.join(data_dir,\"final_scrap\")"
   ]
  },
  {
   "cell_type": "code",
   "execution_count": 5,
   "metadata": {
    "collapsed": false,
    "scrolled": true
   },
   "outputs": [
    {
     "name": "stdout",
     "output_type": "stream",
     "text": [
      "5.34344100952\n",
      "50.4716658592\n",
      "616.801604986\n",
      "32.2649579048\n",
      "7.67685818672\n",
      "716.954243898\n",
      "1.77405691147\n",
      "296.019224882\n",
      "1.18274211884\n",
      "12.5332219601\n",
      "19.0739688873\n",
      "1.97746300697\n",
      "136.117748976\n",
      "69.0562539101\n",
      "102.963871002\n",
      "5.76077008247\n",
      "98.4016549587\n",
      "45.429090023\n",
      "9.08870911598\n",
      "0.583708047867\n",
      "2.6023850441\n",
      "7.12493109703\n",
      "20.0779650211\n",
      "90.37154603\n",
      "18.1409358978\n"
     ]
    }
   ],
   "source": [
    "for dom,n in zip(domains[1][350:375],domains[1][350:375].index.values):\n",
    "    t1=tim()\n",
    "    scraps=scraps+scraper(dom,2)[1:]\n",
    "    t2=tim()\n",
    "    print(t2-t1)\n",
    "    if (n+1)%25==0:\n",
    "        Series(scraps).to_csv(os.path.join(final_data,\"scraped_data_\"+str(n+1)+\".csv\"))"
   ]
  },
  {
   "cell_type": "code",
   "execution_count": 4,
   "metadata": {
    "collapsed": true
   },
   "outputs": [],
   "source": [
    "Series(scraps).to_csv(os.path.join(final_data,\"scraped_data_\"+str(n+1)+\".csv\"))"
   ]
  },
  {
   "cell_type": "code",
   "execution_count": 7,
   "metadata": {
    "collapsed": false,
    "scrolled": false
   },
   "outputs": [
    {
     "name": "stdout",
     "output_type": "stream",
     "text": [
      "3.16114997864\n",
      "8.69353508949\n",
      "6.39048409462\n",
      "12.2380709648\n",
      "3.11665916443\n",
      "79.9232580662\n",
      "20.2743659019\n",
      "19.8978898525\n",
      "28831.6408279\n",
      "10.8119850159\n",
      "252.141764164\n",
      "130.159817934\n",
      "4.13930988312\n",
      "1.88302898407\n",
      "92.7507081032\n",
      "22.1193580627\n",
      "6.32464599609\n",
      "3.04909110069\n",
      "156.504127979\n",
      "2.55001306534\n"
     ]
    }
   ],
   "source": [
    "scraps=[]\n",
    "for dom,n in zip(domains[1][105:125],domains[1][105:125].index.values):\n",
    "    t1=tim()\n",
    "    scraps=scraps+scraper(dom,2)[1:]\n",
    "    t2=tim()\n",
    "    print(t2-t1)\n",
    "    if (n+1)%25==0:\n",
    "        Series(scraps).to_csv(os.path.join(final_data,\"scraped_data_\"+str(n+1)+\".csv\"))"
   ]
  },
  {
   "cell_type": "code",
   "execution_count": 9,
   "metadata": {
    "collapsed": false
   },
   "outputs": [
    {
     "data": {
      "text/plain": [
       "25"
      ]
     },
     "execution_count": 9,
     "metadata": {},
     "output_type": "execute_result"
    }
   ],
   "source": [
    "st=\"\"\"5.34344100952\n",
    "50.4716658592\n",
    "616.801604986\n",
    "32.2649579048\n",
    "7.67685818672\n",
    "716.954243898\n",
    "1.77405691147\n",
    "296.019224882\n",
    "1.18274211884\n",
    "12.5332219601\n",
    "19.0739688873\n",
    "1.97746300697\n",
    "136.117748976\n",
    "69.0562539101\n",
    "102.963871002\n",
    "5.76077008247\n",
    "98.4016549587\n",
    "45.429090023\n",
    "9.08870911598\n",
    "0.583708047867\n",
    "2.6023850441\n",
    "7.12493109703\n",
    "20.0779650211\n",
    "90.37154603\n",
    "18.1409358978\"\"\"\n",
    "len(st.split())"
   ]
  },
  {
   "cell_type": "code",
   "execution_count": null,
   "metadata": {
    "collapsed": true
   },
   "outputs": [],
   "source": []
  }
 ],
 "metadata": {
  "kernelspec": {
   "display_name": "Python 2",
   "language": "python",
   "name": "python2"
  },
  "language_info": {
   "codemirror_mode": {
    "name": "ipython",
    "version": 2
   },
   "file_extension": ".py",
   "mimetype": "text/x-python",
   "name": "python",
   "nbconvert_exporter": "python",
   "pygments_lexer": "ipython2",
   "version": "2.7.11"
  }
 },
 "nbformat": 4,
 "nbformat_minor": 0
}
