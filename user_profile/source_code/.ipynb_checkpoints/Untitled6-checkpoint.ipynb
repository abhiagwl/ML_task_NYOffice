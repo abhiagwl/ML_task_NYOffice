{
 "cells": [
  {
   "cell_type": "code",
   "execution_count": 101,
   "metadata": {
    "collapsed": false
   },
   "outputs": [],
   "source": [
    "from nltk import ngrams\n",
    "import cPickle\n",
    "from scipy.sparse import hstack\n",
    "import re\n",
    "\n",
    "\n",
    "def string_feature_gen(x):\n",
    "    temp=x\n",
    "    temp=\"\".join(re.findall(r\"\\w+\",x.lower().replace(\"http\",\".\").replace(\"www\",\".\")))\n",
    "    temp=[\" \".join([\"\".join(gram) for gram in ngrams(temp, 3)])]\n",
    "    with open('feature_genrator_special_charac.pkl', 'rb') as fid:\n",
    "        vec_special=cPickle.load(fid)\n",
    "    with open('feature_genrator.pkl', 'rb') as fid:\n",
    "        vec_aplha=cPickle.load(fid)\n",
    "    special_characters=['#','/', '%', '~', '=','?','&',\"-\",\"(\",\")\",\"+\",\"@\",\"[\",\"]\",\"'\",\"*\"]\n",
    "    x_alpha_features=vec_aplha.transform(temp)\n",
    "    temp=\" \".join(re.findall(\"[^\\:\\w\\.]\",x.replace(\"http://|https://\",\"\")))\n",
    "    for n,spcl in enumerate(special_characters):\n",
    "        temp=temp.replace(spcl,str(n+10))\n",
    "    x_special_features=vec_special.transform([temp])\n",
    "    return hstack([x_alpha_features,x_special_features,len(x)])\n",
    "\n",
    "\n",
    "def predict(url):\n",
    "    with open('svm_with_higher_recall.pkl', 'rb') as fid:\n",
    "        clf_loaded = cPickle.load(fid)\n",
    "    y_pred=clf_loaded.predict(string_feature_gen(url))\n",
    "    \"\"\"if y_pred==1:\n",
    "        print(\"it is a profile\")\n",
    "    else:\n",
    "        print(\"sorry, not profile as far as i have learnt\")\n",
    "    \"\"\"\n",
    "    return bool(y_pred)\n"
   ]
  },
  {
   "cell_type": "code",
   "execution_count": null,
   "metadata": {
    "collapsed": true
   },
   "outputs": [],
   "source": []
  }
 ],
 "metadata": {
  "kernelspec": {
   "display_name": "Python 2",
   "language": "python",
   "name": "python2"
  },
  "language_info": {
   "codemirror_mode": {
    "name": "ipython",
    "version": 2
   },
   "file_extension": ".py",
   "mimetype": "text/x-python",
   "name": "python",
   "nbconvert_exporter": "python",
   "pygments_lexer": "ipython2",
   "version": "2.7.11"
  }
 },
 "nbformat": 4,
 "nbformat_minor": 0
}
