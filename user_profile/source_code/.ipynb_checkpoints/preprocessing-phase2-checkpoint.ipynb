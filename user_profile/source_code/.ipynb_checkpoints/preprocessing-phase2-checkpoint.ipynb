{
 "cells": [
  {
   "cell_type": "code",
   "execution_count": 121,
   "metadata": {
    "collapsed": false
   },
   "outputs": [],
   "source": [
    "save_sparse_csr(\"full_working_data\",x_data)\n",
    "save_sparse_csr(\"labels_of_full_working_data\",y_data)"
   ]
  },
  {
   "cell_type": "code",
   "execution_count": 148,
   "metadata": {
    "collapsed": false
   },
   "outputs": [],
   "source": [
    "%reset_selective -f vocab"
   ]
  },
  {
   "cell_type": "code",
   "execution_count": 371,
   "metadata": {
    "collapsed": false
   },
   "outputs": [
    {
     "data": {
      "text/plain": [
       "['AdaBoostClassifier',\n",
       " 'CountVectorizer',\n",
       " 'Series',\n",
       " 'Sources',\n",
       " 'a',\n",
       " 'cPickle',\n",
       " 'char1',\n",
       " 'char2',\n",
       " 'char3',\n",
       " 'character_extracter',\n",
       " 'clf',\n",
       " 'clf2',\n",
       " 'clf_loaded',\n",
       " 'complete_processor',\n",
       " 'coo_matrix',\n",
       " 'corpus',\n",
       " 'csr_matrix',\n",
       " 'data_dir',\n",
       " 'f',\n",
       " 'feature_generator',\n",
       " 'fid',\n",
       " 'final_data',\n",
       " 'gram_generator',\n",
       " 'hostname',\n",
       " 'hstack',\n",
       " 'joined',\n",
       " 'label_formatter',\n",
       " 'le',\n",
       " 'load_sparse_csr',\n",
       " 'ngrams',\n",
       " 'np',\n",
       " 'path',\n",
       " 'pd',\n",
       " 'pickle',\n",
       " 'preprocessing',\n",
       " 'preprocessor',\n",
       " 'punctuation_marks',\n",
       " 'root_dir',\n",
       " 's',\n",
       " 'save_sparse_csr',\n",
       " 'shuffle',\n",
       " 'special_characters',\n",
       " 'svm',\n",
       " 'task_dir',\n",
       " 'temp',\n",
       " 'the_filename',\n",
       " 'urlparse',\n",
       " 'vectorizerY',\n",
       " 'vocab_',\n",
       " 'vstack',\n",
       " 'x']"
      ]
     },
     "execution_count": 371,
     "metadata": {},
     "output_type": "execute_result"
    }
   ],
   "source": [
    "%who_ls"
   ]
  },
  {
   "cell_type": "code",
   "execution_count": 159,
   "metadata": {
    "collapsed": true
   },
   "outputs": [],
   "source": [
    "punctuation_marks=['.', '-', '~', '_']"
   ]
  },
  {
   "cell_type": "code",
   "execution_count": 158,
   "metadata": {
    "collapsed": false,
    "scrolled": true
   },
   "outputs": [],
   "source": [
    "special_characters=['!', '#','$', '%', '&', '=','?','@']"
   ]
  },
  {
   "cell_type": "code",
   "execution_count": 151,
   "metadata": {
    "collapsed": false
   },
   "outputs": [
    {
     "data": {
      "text/plain": [
       "array([2, 2, 1])"
      ]
     },
     "execution_count": 151,
     "metadata": {},
     "output_type": "execute_result"
    }
   ],
   "source": [
    ">>> from sklearn import preprocessing\n",
    ">>> le = preprocessing.LabelEncoder()\n",
    ">>> le.fit([\"paris\", \"paris\", \"tokyo\", \"amsterdam\"])\n",
    ">>> le.transform([\"tokyo\", \"tokyo\", \"paris\"])"
   ]
  },
  {
   "cell_type": "code",
   "execution_count": 369,
   "metadata": {
    "collapsed": false,
    "scrolled": true
   },
   "outputs": [
    {
     "data": {
      "text/plain": [
       "array(['#', '/', '/ /', '/ / / /', '/ / /', '/ / #', '/ ~ /', '/ ~ / /',\n",
       "       '/ / ? =', '/ - /', '/ #', '/ / / / #', '/ / / / /', '/ / / / / /',\n",
       "       '/ / / #', '/ / -', '/ / ? = - -', '/ / ? = -', '/ / - -', '/ ~',\n",
       "       '/ / / ? =', '/ / / / / / / / / / - - - - - / #', '/ / ? = & =',\n",
       "       '/ ~ / / /', '/ ~ / -', '/ ~ / / - /', '/ % /', '/ / / % /',\n",
       "       '/ / / % / -', '/ % / -', '/ ~ / - -', '/ ~ / / -', '/ / ? = #',\n",
       "       '/ - / #', '/ / / -', '/ / / - -',\n",
       "       '/ / % % / / / / - - - - - - - -', '/ / / - /', '/ / # -',\n",
       "       '/ / / % % % -', '/ / / %', '/ / / % %', '/ / / % % % %',\n",
       "       '/ / / % % %', '/ ? - = - - - & - = - - - & - =', '/ / - #',\n",
       "       '/ / - # -', '/ / - - #', '/ / / - - - - / / / / / - - - -',\n",
       "       '/ / - - # -', '/ / - /', '/ / - / - - - - -', '/ / - / /',\n",
       "       '/ / / % % % - #', '/ / / # -', '/ / / - - - - -',\n",
       "       '/ / / - - - - - # -', '/ / / - - -', '/ / / / - - - - - - - - - /',\n",
       "       '/ / / - - - # -', '/ / / / - - - - - - - /', '/ / / - - - - - -',\n",
       "       '/ / / / - - /', '/ / / - - - - - - # -', '/ / / - - - -',\n",
       "       '/ / / - - - - # -', '/ / / - - - - - - -',\n",
       "       '/ / / - - - - - - - # -', '/ / / - # -', '/ / / / - - - - - - /',\n",
       "       '/ / / / - - - - - /', '/ / / % % % - ? - = - - - & - = & = & - =',\n",
       "       '/ / / % #', '/ / / % ? - = - - - & - = & = & - =', '/ / / % % #',\n",
       "       '/ / / % % ? - = - - - & - = & = & - =', '/ / / / - - - - /',\n",
       "       '/ / / ? - = - - - & - = & = & - =', '/ / / - - / /',\n",
       "       '/ / / / - - - - - - - - - - - /', '/ / / % % % % #',\n",
       "       '/ / / % % % % ? - = - - - & - = & = & - =', '/ / / % % % #',\n",
       "       '/ / / % % % ? - = - - - & - = & = & - =', '/ / / - - # -',\n",
       "       '/ / / / - - - /', '/ / / / - - - - - - - - - - - - /',\n",
       "       '/ / / - - - - - - - -', '/ / / - - - - - - - - # -',\n",
       "       '/ - / / - - - - - -', '/ - / /',\n",
       "       '/ ? - = - - - & - = - - - & - = #', '/ / / - - - - - - - - -',\n",
       "       '/ / / - - - - - - - - - # -',\n",
       "       '/ ? - = - - - & - = - - - & - = & = & - =', '/ ? - = - - - & - =',\n",
       "       '/ / / - #', '/ ? - = - - - & - = & - =', '/ / / - - - - - - - /',\n",
       "       '/ # - -', '/ / - - -', '/ / - - - - - - - - - - - -',\n",
       "       '/ / - - - - - - - - - - - - - -', '/ / - - - - - - -',\n",
       "       '/ / - - - - - - - - -', '/ / / / -', '/ -', '/ - -',\n",
       "       '/ / - - - # - -', '/ / - - - - - - - - - - - - # - -',\n",
       "       '/ / - - - - - - - - - - - - - - # - -', '/ / - - - - - - - # - -',\n",
       "       '/ / - - - - - - - - - # - -', '/ / # - -', '/ / - - - -',\n",
       "       '/ / - - - - - -', '/ / - - - - -', '/ / - - - - - - - - - -',\n",
       "       '/ / - - - - - - - -', '/ / - - - - - - - - - - -', '/ / / / # -',\n",
       "       '/ / / / ( )', '/ ~ / - /', '/ / / ? = & =', '/ / / ? = & = +',\n",
       "       '/ / / ? = & = & =', '/ / / - # - -', '/ / / - ? = # -',\n",
       "       '/ / / # - -', '/ / / / - -', '/ / - # - -', '/ / / - - # - -',\n",
       "       '/ / / - - #', '/ / / - - # ,', '/ / / / / -', '/ / / / # - -',\n",
       "       '/ - - -', '/ / / / / % % % - - %', '/ / / / - # - -',\n",
       "       '/ / / / - - - - -', '/ / / / - - - -', '/ / / / - / -',\n",
       "       '/ / / / - /', '/ - # - -', '/ - #', '/ / / / / % % % %',\n",
       "       '/ / / / / % % % % % %', '/ / / - / - -', '/ / / - / -',\n",
       "       '/ / / - / - - -', '/ / / - / - - - -', '/ / / / - - -',\n",
       "       '/ / / / / / -', '/ / / - / #', '/ / / / - # -', '/ - - # - -',\n",
       "       '/ / - / # - -', '/ / / / / % % %', '/ % % / % / ~ /',\n",
       "       '/ / / ? = # -', '/ / - - - - - - - - - - /', '/ / - - /',\n",
       "       '/ - - - /', '/ - - - - -', '/ / / - - /', '/ - ?', '/ - - - -',\n",
       "       '/ - / -', '/ - - - - - - - -', '/ - / - - - - -', '/ - / - - - -',\n",
       "       '/ / - - / - - - - -', '/ - / - - - - - -', '/ / - / - -',\n",
       "       '/ / - / - - - -', '/ / - / - - - - - -', '/ / - / - - -',\n",
       "       '/ / - / - - - - - - - - -', '/ / - / -', '/ / - / - - - - - - -',\n",
       "       '/ / - / - +', '/ / / / - - - - - - -', '/ / / - - / - -',\n",
       "       '/ / / - - / / - - - -', '/ - / - -', '/ - / - - -', '/ - / - - /',\n",
       "       '/ - / - - #', '/ / - - / /', '/ / / - ( )', '/ / / - - ( )',\n",
       "       '/ / / + -', '/ / / / / - -', '/ / ? = ; =', '/ / / / - % % %',\n",
       "       '/ % @ %', '/ % / /', '/ / / / ? =', '/ %', '/ / % %', '/ / % % %',\n",
       "       '/ / / - / /', '/ / / / - / % % %', '/ / ? = %', '/ - - - - /',\n",
       "       '/ - - /', '/ - / / / - -', '/ - / / /', '/ - / / / -',\n",
       "       '/ - / / / - - - -', '/ - / / / - - -', '/ - - - - - - - /',\n",
       "       '/ - - - - - - - - - - - /', '/ - - - - - - /',\n",
       "       '/ - - - - - - - - - /', '/ / - - - - /', '/ / - - - - - /',\n",
       "       '/ / - - - - - - - - - - - - - % % % % % % - - - - - /',\n",
       "       '/ / - - - - - - - - - - - - - /', '/ / ? = & = & =',\n",
       "       '/ / - - - - - - - - - - - /', '/ - - / - - - -', '/ ? =',\n",
       "       '/ - / / / - - - - -', '/ - / / / - - - - - -', '/ - - - - - /',\n",
       "       '/ - - - / - -', '/ - - - / -', '/ - - - / - - -',\n",
       "       '/ / - - - - / ? = & = & =', '/ / - - - - - / ? = & = & =',\n",
       "       '/ / - - - - - - - - - - - - - % % % % % % - - - - - / ? = & = & =',\n",
       "       '/ / - - - - - - - - - - - - - / ? = & = & =',\n",
       "       '/ / - - / ? = & = & =', '/ - - - - - - - - /',\n",
       "       '/ - - - - - - - - - - - - /', '/ - - - - - - - - - - /',\n",
       "       '/ - - - - - - - - - - - - - - - - - - /', '# -',\n",
       "       '/ / - / - - - - - - - -', '/ / - / - - - - - - - - - - - - -',\n",
       "       '/ / - / - - - - - - - - - -', '/ / / / / %', '/ / / / / - - -',\n",
       "       '/ # -', '/ - - - - - - -', '/ / / / / % % - -',\n",
       "       '/ / / / / - % - % - % % %', '/ / / / / % - %', '/ / / / / % % % -'], dtype=object)"
      ]
     },
     "execution_count": 369,
     "metadata": {},
     "output_type": "execute_result"
    }
   ],
   "source": [
    "non_profile_urls.str.replace(\"http://|https://\",\"\").str.findall(\"[^\\:\\w\\.]\").apply(joined)."
   ]
  },
  {
   "cell_type": "code",
   "execution_count": null,
   "metadata": {
    "collapsed": false,
    "scrolled": true
   },
   "outputs": [],
   "source": [
    "le.transform([profile_urls[0]])"
   ]
  },
  {
   "cell_type": "code",
   "execution_count": 40,
   "metadata": {
    "collapsed": false
   },
   "outputs": [],
   "source": [
    "from nltk import ngrams\n",
    "import pandas as pd\n",
    "import numpy as np \n",
    "from pandas import Series\n",
    "import pickle\n",
    "pd.options.display.max_rows=3000\n",
    "root_dir = os.path.abspath('../..')\n",
    "task_dir= os.path.join(root_dir,'user_profile')\n",
    "data_dir=os.path.join(task_dir,'data')\n",
    "final_data=os.path.join(data_dir,\"final_scrap\")"
   ]
  },
  {
   "cell_type": "code",
   "execution_count": 275,
   "metadata": {
    "collapsed": true
   },
   "outputs": [],
   "source": [
    "import urlparse\n",
    "def hostname(x):\n",
    "    return urlparse.urlparse(x).hostname\n",
    "\n",
    "def path(x):\n",
    "    return urlparse.urlparse(x).path\n",
    "\n",
    "def preprocessor(list_):\n",
    "    return list(\"\".join(list_))\n",
    "\n",
    "def gram_generator(x):\n",
    "    grams = ngrams(x, 3)\n",
    "    return [\"\".join(gram) for gram in grams]\n",
    "\n",
    "def character_extracter(x):\n",
    "    return x.str.lower().str.replace(\"http\",\".\").str.replace(\"www\",\".\").str.findall(r\"\\w+\").apply(preprocessor)\n",
    "\n",
    "\n",
    "def joined(list_):\n",
    "    return \" \".join(list_)"
   ]
  },
  {
   "cell_type": "code",
   "execution_count": 88,
   "metadata": {
    "collapsed": true
   },
   "outputs": [],
   "source": [
    "from scipy.sparse import csr_matrix\n",
    "from scipy.sparse import coo_matrix, vstack, hstack"
   ]
  },
  {
   "cell_type": "code",
   "execution_count": 106,
   "metadata": {
    "collapsed": true
   },
   "outputs": [],
   "source": [
    "def save_sparse_csr(filename,array):\n",
    "    np.savez(filename,data = array.data ,indices=array.indices,\n",
    "             indptr =array.indptr, shape=array.shape )\n",
    "\n",
    "def load_sparse_csr(filename):\n",
    "    loader = np.load(filename)\n",
    "    return csr_matrix((  loader['data'], loader['indices'], loader['indptr']),\n",
    "                         shape = loader['shape'])"
   ]
  },
  {
   "cell_type": "code",
   "execution_count": 196,
   "metadata": {
    "collapsed": false
   },
   "outputs": [
    {
     "data": {
      "text/plain": [
       "0.75"
      ]
     },
     "execution_count": 196,
     "metadata": {},
     "output_type": "execute_result"
    }
   ],
   "source": [
    "from sklearn import svm\n",
    "from sklearn.utils import shuffle"
   ]
  },
  {
   "cell_type": "code",
   "execution_count": 224,
   "metadata": {
    "collapsed": false,
    "scrolled": true
   },
   "outputs": [
    {
     "data": {
      "text/plain": [
       "array([[1, 1, 1, ..., 1, 1, 1]])"
      ]
     },
     "execution_count": 224,
     "metadata": {},
     "output_type": "execute_result"
    }
   ],
   "source": [
    "from sklearn.feature_extraction.text import CountVectorizer\n",
    "vectorizerY= CountVectorizer(min_df=1)\n",
    "vectorizerY.fit_transform(vocab_)"
   ]
  },
  {
   "cell_type": "code",
   "execution_count": 223,
   "metadata": {
    "collapsed": true
   },
   "outputs": [],
   "source": [
    "\"\"\"Opens and stores the vocab for generating 3-gram features into vocab_ list for vectorizer input\"\"\"\n",
    "\n",
    "the_filename=\"test_vocab\"\n",
    "with open(the_filename, 'rb') as f:\n",
    "    vocab_ = pickle.load(f)"
   ]
  },
  {
   "cell_type": "code",
   "execution_count": 370,
   "metadata": {
    "collapsed": true
   },
   "outputs": [],
   "source": [
    "%reset_selective -f profile_urls\n",
    "%reset_selective -f non_profile_urls\n",
    "%reset_selective -f x_\n",
    "%reset_selective -f y_"
   ]
  },
  {
   "cell_type": "code",
   "execution_count": 368,
   "metadata": {
    "collapsed": true
   },
   "outputs": [],
   "source": [
    "#load the saved files\n",
    "profile_urls=pd.read_csv(os.path.join(final_data,\"profile_urls_from_working_data.csv\"),header=None)[1]\n",
    "non_profile_urls=pd.read_csv(os.path.join(final_data,\"non_profile_urls_from_working_data.csv\"),header=None)[1]"
   ]
  },
  {
   "cell_type": "code",
   "execution_count": 342,
   "metadata": {
    "collapsed": false
   },
   "outputs": [],
   "source": [
    "x_positive,y_positive=complete_processor(profile_urls,type_=1)\n",
    "x_negative,y_negative=complete_processor(non_profile_urls,type_=0)"
   ]
  },
  {
   "cell_type": "code",
   "execution_count": 341,
   "metadata": {
    "collapsed": false
   },
   "outputs": [],
   "source": [
    "def complete_processor(x,type_=1):\n",
    "    x=x.iloc[np.random.permutation(x.shape[0])]\n",
    "    x=character_extracter(x)\n",
    "    x=x.apply(gram_generator).apply(joined).values\n",
    "    x_=vectorizerY.transform(x)\n",
    "    if type_==1:\n",
    "        y_=csr_matrix(np.ones((x_.shape[0],1)))\n",
    "    elif type_==0:\n",
    "        y_=csr_matrix(np.zeros((x.shape[0],1)))\n",
    "\n",
    "    return x_,y_"
   ]
  },
  {
   "cell_type": "code",
   "execution_count": 348,
   "metadata": {
    "collapsed": true
   },
   "outputs": [],
   "source": [
    "def label_formatter(y):\n",
    "    return np.reshape(y.toarray(),(y.shape[0],))"
   ]
  },
  {
   "cell_type": "code",
   "execution_count": 343,
   "metadata": {
    "collapsed": false,
    "scrolled": true
   },
   "outputs": [],
   "source": [
    "x_data=vstack([x_negative,x_positive])\n",
    "y_data=vstack([y_negative,y_positive])\n",
    "x_data,y_data=shuffle(x_data,y_data)"
   ]
  },
  {
   "cell_type": "code",
   "execution_count": 362,
   "metadata": {
    "collapsed": true
   },
   "outputs": [],
   "source": [
    "x_train=x_data[:60000,:]\n",
    "y_train=y_data[:60000,:]\n",
    "x_val=x_data[60000:75000,:]\n",
    "y_val=y_data[60000:75000,:]\n",
    "x_test=x_data[75000:,:]\n",
    "y_test=y_data[75000:,:]"
   ]
  },
  {
   "cell_type": "code",
   "execution_count": 347,
   "metadata": {
    "collapsed": false,
    "scrolled": true
   },
   "outputs": [],
   "source": [
    "clf=svm.LinearSVC(C=1.0).fit(x_train,y_train)"
   ]
  },
  {
   "cell_type": "code",
   "execution_count": 366,
   "metadata": {
    "collapsed": false
   },
   "outputs": [
    {
     "data": {
      "text/plain": [
       "0.97425755007220438"
      ]
     },
     "execution_count": 366,
     "metadata": {},
     "output_type": "execute_result"
    }
   ],
   "source": [
    "clf_loaded.score(x_test,label_formatter(y_test))"
   ]
  },
  {
   "cell_type": "code",
   "execution_count": 360,
   "metadata": {
    "collapsed": false,
    "scrolled": true
   },
   "outputs": [
    {
     "name": "stdout",
     "output_type": "stream",
     "text": [
      "1000 loops, best of 3: 398 µs per loop\n"
     ]
    }
   ],
   "source": [
    "%timeit clf.score(x_val[:2,:],label_formatter(y_val)[:2])"
   ]
  },
  {
   "cell_type": "code",
   "execution_count": 353,
   "metadata": {
    "collapsed": false,
    "scrolled": true
   },
   "outputs": [],
   "source": [
    "from sklearn.ensemble import AdaBoostClassifier\n",
    "clf2=AdaBoostClassifier(n_estimators=100)"
   ]
  },
  {
   "cell_type": "code",
   "execution_count": 355,
   "metadata": {
    "collapsed": false
   },
   "outputs": [
    {
     "data": {
      "text/plain": [
       "AdaBoostClassifier(algorithm='SAMME.R', base_estimator=None,\n",
       "          learning_rate=1.0, n_estimators=100, random_state=None)"
      ]
     },
     "execution_count": 355,
     "metadata": {},
     "output_type": "execute_result"
    }
   ],
   "source": [
    "clf2.fit(x_train,y_train)"
   ]
  },
  {
   "cell_type": "code",
   "execution_count": 358,
   "metadata": {
    "collapsed": false
   },
   "outputs": [
    {
     "data": {
      "text/plain": [
       "0.94913333333333338"
      ]
     },
     "execution_count": 358,
     "metadata": {},
     "output_type": "execute_result"
    }
   ],
   "source": [
    "np.mean(clf2.predict(x_val)==label_formatter(y_val))"
   ]
  },
  {
   "cell_type": "code",
   "execution_count": 363,
   "metadata": {
    "collapsed": true
   },
   "outputs": [],
   "source": [
    "save_sparse_csr(os.path.join(final_data,\"x_test\"),x_test)\n",
    "save_sparse_csr(os.path.join(final_data,\"x_val\"),x_val)\n",
    "save_sparse_csr(os.path.join(final_data,\"x_train\"),x_train)\n",
    "save_sparse_csr(os.path.join(final_data,\"y_test\"),y_test)\n",
    "save_sparse_csr(os.path.join(final_data,\"y_val\"),y_val)\n",
    "save_sparse_csr(os.path.join(final_data,\"y_train\"),y_train)"
   ]
  },
  {
   "cell_type": "code",
   "execution_count": 364,
   "metadata": {
    "collapsed": true
   },
   "outputs": [],
   "source": [
    "import cPickle\n",
    "with open('my_dumped_classifier.pkl', 'wb') as fid:\n",
    "    cPickle.dump(clf, fid)    "
   ]
  },
  {
   "cell_type": "code",
   "execution_count": 365,
   "metadata": {
    "collapsed": true
   },
   "outputs": [],
   "source": [
    "# load it again\n",
    "with open('my_dumped_classifier.pkl', 'rb') as fid:\n",
    "    clf_loaded = cPickle.load(fid)"
   ]
  },
  {
   "cell_type": "code",
   "execution_count": null,
   "metadata": {
    "collapsed": true
   },
   "outputs": [],
   "source": [
    "regex12a=\"Resume|resume|cv|CV\"\n",
    "\n",
    "regex12=\"cv\\.pdf|CV\\.pdf|Resume\\.pdf|resume\\.pdf\"\n",
    "\n",
    "regex11=\"\\/faculty\\/content\\/[\\w-]+$|\\/faculty\\/content\\/[\\w-]+\\/$\"\n",
    "\n",
    "regex10=\"~[\\w]+|/user\\/[\\w]+\"\n",
    "\n",
    "regex10a=\"\\/user[\\w\\-\\/]+$\"\n",
    "\n",
    "regex8=\"\\/people\\/[\\w\\-/]+\\/[\\w\\-/]+\"\n",
    "\n",
    "regex9=\"\\/people\\/[\\w\\-/]+\"\n",
    "\n",
    "regex7=\"\\.html\\?uniqname\\=\\w+\"\n",
    "\n",
    "regex=\"~[\\w]+\\/$|~[\\w]+$|faculty\\/[\\w-]+$|faculty\\/[\\w-]+\\/$\"\n",
    "\n",
    "regex2=\"\\.edu\\/[\\w-]+$|\\.edu\\/[\\w-]+\\/$\"\n",
    "\n",
    "regex3=\"Main\\/[\\w-]+$|Main\\/[\\w-]+\\/$\"\n",
    "\n",
    "regex4=\"\\/u\\/[\\w-]+$|\\/u\\/[\\w-]+\\/$\"\n",
    "\n",
    "regex5=\"directory\\/[\\w-]+$|directory\\/[\\w-]+\\/$\"\n",
    "\n",
    "regex6=\"profile\\/[\\w-]+$|profile\\/[\\w-]+\\/$\""
   ]
  },
  {
   "cell_type": "code",
   "execution_count": null,
   "metadata": {
    "collapsed": true
   },
   "outputs": [],
   "source": []
  }
 ],
 "metadata": {
  "kernelspec": {
   "display_name": "Python 2",
   "language": "python",
   "name": "python2"
  },
  "language_info": {
   "codemirror_mode": {
    "name": "ipython",
    "version": 2
   },
   "file_extension": ".py",
   "mimetype": "text/x-python",
   "name": "python",
   "nbconvert_exporter": "python",
   "pygments_lexer": "ipython2",
   "version": "2.7.11"
  }
 },
 "nbformat": 4,
 "nbformat_minor": 0
}
