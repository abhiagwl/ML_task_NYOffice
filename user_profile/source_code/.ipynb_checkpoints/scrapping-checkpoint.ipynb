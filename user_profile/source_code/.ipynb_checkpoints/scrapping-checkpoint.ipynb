{
 "cells": [
  {
   "cell_type": "code",
   "execution_count": null,
   "metadata": {
    "collapsed": false
   },
   "outputs": [],
   "source": [
    "import urllib\n",
    "import re\n",
    "import time\n",
    "from threading import Thread\n",
    "import MySQLdb\n",
    "import mechanize\n",
    "import readability\n",
    "from bs4 import BeautifulSoup\n",
    "from readability.readability import Document\n",
    "import urlparse\n",
    "\n",
    "\n",
    "class MultiScrape:\n",
    "    visited = []\n",
    "    urls = []\n",
    "    glob_visited = []\n",
    "    depth = 0\n",
    "    counter = 0\n",
    "    threadlist = []\n",
    "    root = \"\"\n",
    "\n",
    "    def __init__(self, url, depth):\n",
    "        self.glob_visited.append(url)\n",
    "        self.depth = depth\n",
    "        self.root = url\n",
    "\n",
    "    def run(self):\n",
    "        while self.counter < self.depth:\n",
    "            for w in self.glob_visited:\n",
    "                if w not in self.visited:\n",
    "                    self.visited.append(w)\n",
    "                    self.urls.append(w)\n",
    "            self.glob_visited = []       \n",
    "            for r in self.urls:\n",
    "                try: \n",
    "                    t = Thread(target=self.scrapeStep, args=(r,))\n",
    "                    self.threadlist.append(t)\n",
    "                    t.start()            \n",
    "                except:\n",
    "                    nnn = True \n",
    "            for g in self.threadlist:\n",
    "                g.join() \n",
    "            self.counter+=1\n",
    "        return self.visited  \n",
    "\n",
    "    def scrapeStep(self,root):\n",
    "        result_urls = []\n",
    "        br = mechanize.Browser()\n",
    "        br.set_handle_robots(False)\n",
    "        br.addheaders = [('User-agent', 'Firefox')]\n",
    "        try:\n",
    "            br.open(root)\n",
    "            for link in br.links():\n",
    "                newurl =  urlparse.urljoin(link.base_url,link.url)\n",
    "                if urlparse.urlparse(link.base_url).hostname.replace(\"www.\",\"\") in self.root:\n",
    "                    result_urls.append(newurl)   \n",
    "        except:\n",
    "            err = True     \n",
    "        for res in result_urls:\n",
    "            self.glob_visited.append(res)\n",
    "            \n",
    "    \n",
    "\"\"\"\n",
    "\n",
    "\n",
    "\n",
    "\n",
    "\n",
    "def getReadableArticle(url):\n",
    "    br = mechanize.Browser()\n",
    "    br.set_handle_robots(False)\n",
    "    br.addheaders = [('User-agent', 'Firefox')]\n",
    "\n",
    "    html = br.open(url).read()\n",
    "\n",
    "    readable_article = Document(html).summary()\n",
    "    readable_title = Document(html).short_title()\n",
    "\n",
    "    soup = BeautifulSoup(readable_article)\n",
    "\n",
    "    final_article = soup.text\n",
    "\n",
    "    links = soup.findAll('img', src=True)\n",
    "\n",
    "    title_article = []\n",
    "    title_article.append(final_article)\n",
    "    title_article.append(readable_title)\n",
    "    return title_article\n",
    "\n",
    "    \n",
    "\n",
    "\n",
    "\n",
    "def dungalo(urls):\n",
    "    article_text =getReadableArticle(urls)[0]\n",
    "    d[urls] = article_text\n",
    "\n",
    "        \n",
    "\n",
    "def getMultiHtml(urlsList,steps):\n",
    "    thread\n",
    "\n",
    "    for urls1 in urlsList:\n",
    "        try:\n",
    "            t = Thread(target=scraper, args=(urls1,steps,))\n",
    "            threadlist.append(t)\n",
    "            t.start()            \n",
    "        except:\n",
    "            nnn = True\n",
    "\n",
    "    for g in threadlist:\n",
    "        g.join()\"\"\""
   ]
  },
  {
   "cell_type": "code",
   "execution_count": 6,
   "metadata": {
    "collapsed": false
   },
   "outputs": [
    {
     "data": {
      "text/plain": [
       "'\\n\\nSeries(MultiScrape.visited).to_csv(\"all_scraped_data.csv\",index=False)\\n\\nALL_scrap=Series(MultiScrape.visited)\\n\\ndomains[1][:2].isin(ALL_scrap)\\nt1=tim()\\nfor dom in domains[1].values[42:45]:\\n    MultiScrape(dom,2).run()\\nt2=tim()\\nprint(t2-t1)\\n\\n\\nSeries(MultiScrape.visited).to_csv(\"all_scraped_urls.csv\",index=False)\\n\\nfor dom in domains[1].values[42:50]:\\n    print(dom)\\n\\nSeries(MultiScrape.visited)'"
      ]
     },
     "execution_count": 6,
     "metadata": {},
     "output_type": "execute_result"
    }
   ],
   "source": [
    "from time import time as tim\n",
    "import pandas as pd\n",
    "import numpy as np \n",
    "from pandas import Series\n",
    "domains=pd.read_csv(\"all_domain.csv\",header=None)\n",
    "\"\"\"\n",
    "\n",
    "Series(MultiScrape.visited).to_csv(\"all_scraped_data.csv\",index=False)\n",
    "\n",
    "ALL_scrap=Series(MultiScrape.visited)\n",
    "\n",
    "domains[1][:2].isin(ALL_scrap)\n",
    "t1=tim()\n",
    "for dom in domains[1].values[42:45]:\n",
    "    MultiScrape(dom,2).run()\n",
    "t2=tim()\n",
    "print(t2-t1)\n",
    "\n",
    "\n",
    "Series(MultiScrape.visited).to_csv(\"all_scraped_urls.csv\",index=False)\n",
    "\n",
    "for dom in domains[1].values[42:50]:\n",
    "    print(dom)\n",
    "\n",
    "Series(MultiScrape.visited)\"\"\""
   ]
  },
  {
   "cell_type": "code",
   "execution_count": 3,
   "metadata": {
    "collapsed": true
   },
   "outputs": [],
   "source": [
    "import urllib\n",
    "import re\n",
    "import time\n",
    "from threading import Thread\n",
    "import MySQLdb\n",
    "import mechanize\n",
    "import readability\n",
    "from bs4 import BeautifulSoup\n",
    "from readability.readability import Document\n",
    "import urlparse\n",
    "\n",
    "url=\"http://abdnews.com/area51\"\n",
    "\n",
    "def scraper(root,steps):\n",
    "    urls = [root]\n",
    "    visited = [root]\n",
    "    counter = 0\n",
    "    while counter < steps:\n",
    "        step_url = scrapeStep(urls)\n",
    "        urls = []\n",
    "        for u in step_url:\n",
    "            if u not in visited:\n",
    "                urls.append(u)\n",
    "                visited.append(u)\n",
    "        counter+=1\n",
    "    return visited\n",
    "\n",
    "def scrapeStep(root):\n",
    "    result_urls = []\n",
    "    br = mechanize.Browser()\n",
    "    br.set_handle_robots(False)\n",
    "    br.addheaders = [('User-agent', 'Firefox')]\n",
    "\n",
    "    for url in root:\n",
    "        try:\n",
    "            br.open(url)\n",
    "            for link in br.links():\n",
    "                newurl = urlparse.urljoin(link.base_url,link.url)\n",
    "                result_urls.append(newurl)\n",
    "        except:\n",
    "            print \"error\"\n",
    "    return result_urls\n"
   ]
  },
  {
   "cell_type": "code",
   "execution_count": 18,
   "metadata": {
    "collapsed": false
   },
   "outputs": [
    {
     "name": "stdout",
     "output_type": "stream",
     "text": [
      "error\n"
     ]
    },
    {
     "data": {
      "text/plain": [
       "['http://www.cs.bu.edu']"
      ]
     },
     "execution_count": 18,
     "metadata": {},
     "output_type": "execute_result"
    }
   ],
   "source": [
    "scraper(domains[1][1],1)"
   ]
  },
  {
   "cell_type": "code",
   "execution_count": 12,
   "metadata": {
    "collapsed": false
   },
   "outputs": [
    {
     "data": {
      "text/plain": [
       "'http://pact.cs.cmu.edu'"
      ]
     },
     "execution_count": 12,
     "metadata": {},
     "output_type": "execute_result"
    }
   ],
   "source": [
    "domains[1][42]"
   ]
  },
  {
   "cell_type": "code",
   "execution_count": null,
   "metadata": {
    "collapsed": true
   },
   "outputs": [],
   "source": []
  }
 ],
 "metadata": {
  "kernelspec": {
   "display_name": "Python 2",
   "language": "python",
   "name": "python2"
  },
  "language_info": {
   "codemirror_mode": {
    "name": "ipython",
    "version": 2
   },
   "file_extension": ".py",
   "mimetype": "text/x-python",
   "name": "python",
   "nbconvert_exporter": "python",
   "pygments_lexer": "ipython2",
   "version": "2.7.11"
  }
 },
 "nbformat": 4,
 "nbformat_minor": 0
}
