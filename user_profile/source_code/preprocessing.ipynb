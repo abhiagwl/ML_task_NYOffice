{
 "cells": [
  {
   "cell_type": "code",
   "execution_count": null,
   "metadata": {
    "collapsed": true
   },
   "outputs": [],
   "source": [
    "punctuation_marks=[\"\"]*14"
   ]
  },
  {
   "cell_type": "code",
   "execution_count": null,
   "metadata": {
    "collapsed": false
   },
   "outputs": [],
   "source": [
    "punctuation_marks"
   ]
  },
  {
   "cell_type": "code",
   "execution_count": null,
   "metadata": {
    "collapsed": true
   },
   "outputs": [],
   "source": [
    "punctuation_marks=[',', '.', ':', '!', '[]', '{}', '()', '...', '-', '~', '_']\n"
   ]
  },
  {
   "cell_type": "code",
   "execution_count": null,
   "metadata": {
    "collapsed": false
   },
   "outputs": [],
   "source": [
    "import re "
   ]
  },
  {
   "cell_type": "code",
   "execution_count": null,
   "metadata": {
    "collapsed": true
   },
   "outputs": [],
   "source": [
    "st=\"\"\"! 0033 Exclamation mark\n",
    "# 0035 Number\n",
    "$ 0036 Dollar\n",
    "% 0037 Procenttecken\n",
    "& 0038 Ampersand\n",
    "'' 0039 Single quote\n",
    "( 0040 Open parenthesis (or open bracket)\n",
    ") 0041 Close parenthesis (or close bracket)\n",
    "* 0042 Asterisk\n",
    "+ 0043 Plus\n",
    ", 0044 Comma\n",
    "‐ 0045 Hyphen\n",
    ". 0046 Period, dot or full stop\n",
    "/ 0047 Slash or divide\n",
    ": 0058 Colon\n",
    "; 0059 Semicolon\n",
    "< 0060 Less than (or open angled bracket)\n",
    "= 0061 Equals\n",
    "> 0062 Greater than (or close angled bracket)\n",
    "? 0063 Question mark\n",
    "@ 0064 At symbol\n",
    "A 0065 Uppercase A\n",
    "B 0066 Uppercase B\n",
    "C 0067 Uppercase C\n",
    "D 0068 Uppercase D\n",
    "E 0069 Uppercase E\"\"\""
   ]
  },
  {
   "cell_type": "code",
   "execution_count": null,
   "metadata": {
    "collapsed": false
   },
   "outputs": [],
   "source": [
    "special_characters=[re.findall(\"^\\W\",w) for w in st.replace(\"\\n\",\"~\").split(\"~\")[:-5]]\n",
    "special_characters=[s[0] for s in special_characters]\n",
    "special_characters.remove('\\xe2')\n",
    "special_characters"
   ]
  },
  {
   "cell_type": "code",
   "execution_count": null,
   "metadata": {
    "collapsed": false
   },
   "outputs": [],
   "source": [
    "import nltk\n",
    "\n",
    "#nltk.download()\n",
    "\n",
    "from nltk import *"
   ]
  },
  {
   "cell_type": "code",
   "execution_count": null,
   "metadata": {
    "collapsed": false,
    "scrolled": true
   },
   "outputs": [],
   "source": [
    "s='a'\n",
    "corpus=[]\n",
    "while (s<=\"z\"):\n",
    "    corpus.append(s)\n",
    "    s=chr(ord(s)+1)\n",
    "corpus"
   ]
  },
  {
   "cell_type": "code",
   "execution_count": null,
   "metadata": {
    "collapsed": false
   },
   "outputs": [],
   "source": [
    "vocab_basis=[]\n",
    "for char1 in corpus:\n",
    "    for char2 in corpus:\n",
    "        for char3 in corpus:\n",
    "            vocab_basis.append(char1+char2+char3)\n",
    "len(vocab_basis)    "
   ]
  },
  {
   "cell_type": "code",
   "execution_count": null,
   "metadata": {
    "collapsed": false
   },
   "outputs": [],
   "source": [
    "from nltk import ngrams\n",
    "sentence = 'this is a foo bar sentences and i want to ngramize it'\n",
    "n = 3"
   ]
  },
  {
   "cell_type": "code",
   "execution_count": null,
   "metadata": {
    "collapsed": false
   },
   "outputs": [],
   "source": [
    "grams.close"
   ]
  },
  {
   "cell_type": "code",
   "execution_count": null,
   "metadata": {
    "collapsed": false
   },
   "outputs": [],
   "source": [
    "grams = ngrams(sentence.split(), n)\n",
    "for gram in grams:\n",
    "    print(\"\".join(gram))"
   ]
  },
  {
   "cell_type": "code",
   "execution_count": null,
   "metadata": {
    "collapsed": false
   },
   "outputs": [],
   "source": [
    "grams = ngrams(sentence.split(), n)\n",
    "for gram in grams:\n",
    "    print gram"
   ]
  },
  {
   "cell_type": "code",
   "execution_count": null,
   "metadata": {
    "collapsed": false
   },
   "outputs": [],
   "source": [
    "gram"
   ]
  },
  {
   "cell_type": "code",
   "execution_count": null,
   "metadata": {
    "collapsed": true
   },
   "outputs": [],
   "source": [
    "import pandas as pd\n",
    "import numpy as np \n",
    "from pandas import Series\n",
    "domains=pd.read_csv(\"all_domain.csv\",header=None)"
   ]
  },
  {
   "cell_type": "code",
   "execution_count": null,
   "metadata": {
    "collapsed": false,
    "scrolled": true
   },
   "outputs": [],
   "source": [
    "domains[1]"
   ]
  },
  {
   "cell_type": "code",
   "execution_count": null,
   "metadata": {
    "collapsed": true
   },
   "outputs": [],
   "source": [
    "token=nltk.word_tokenize(domains[1][1])"
   ]
  },
  {
   "cell_type": "code",
   "execution_count": null,
   "metadata": {
    "collapsed": false
   },
   "outputs": [],
   "source": [
    "token"
   ]
  },
  {
   "cell_type": "code",
   "execution_count": null,
   "metadata": {
    "collapsed": false,
    "scrolled": true
   },
   "outputs": [],
   "source": [
    "domains[1].str.findall(r\"\\w+\")"
   ]
  },
  {
   "cell_type": "code",
   "execution_count": null,
   "metadata": {
    "collapsed": false,
    "scrolled": true
   },
   "outputs": [],
   "source": [
    "domains[1].str.replace(\"http\",\".\").str.replace(\"www\",\".\").str.findall(r\"\\w+\")"
   ]
  },
  {
   "cell_type": "code",
   "execution_count": null,
   "metadata": {
    "collapsed": false
   },
   "outputs": [],
   "source": [
    "st=[\"a\",\"asd\",\"asdf\"]\n",
    "list(\"\".join(st))"
   ]
  },
  {
   "cell_type": "code",
   "execution_count": null,
   "metadata": {
    "collapsed": false
   },
   "outputs": [],
   "source": [
    "data=domains[1].str.replace(\"http\",\".\").str.replace(\"www\",\".\").str.findall(r\"\\w+\")"
   ]
  },
  {
   "cell_type": "code",
   "execution_count": null,
   "metadata": {
    "collapsed": true
   },
   "outputs": [],
   "source": [
    "def preprocessor(list_):\n",
    "    return list(\"\".join(list_))"
   ]
  },
  {
   "cell_type": "code",
   "execution_count": null,
   "metadata": {
    "collapsed": false,
    "scrolled": true
   },
   "outputs": [],
   "source": [
    "data=data.apply(preprocessor)"
   ]
  },
  {
   "cell_type": "code",
   "execution_count": null,
   "metadata": {
    "collapsed": false,
    "scrolled": true
   },
   "outputs": [],
   "source": [
    "data"
   ]
  },
  {
   "cell_type": "code",
   "execution_count": null,
   "metadata": {
    "collapsed": false,
    "scrolled": true
   },
   "outputs": [],
   "source": [
    "grams = ngrams(data[1], n)\n",
    "for gram in grams:\n",
    "    print(\"\".join(gram))"
   ]
  },
  {
   "cell_type": "code",
   "execution_count": null,
   "metadata": {
    "collapsed": false,
    "scrolled": true
   },
   "outputs": [],
   "source": [
    "data_odp=pd.read_csv(os.path.join(data_dir,\"dmoz0409.csv\"))\n",
    "\n",
    "data_odp.Adult.unique()\n",
    "\n",
    "data_odp[data_odp.Adult==\"Arts\"][:100]"
   ]
  },
  {
   "cell_type": "code",
   "execution_count": null,
   "metadata": {
    "collapsed": true
   },
   "outputs": [],
   "source": []
  },
  {
   "cell_type": "code",
   "execution_count": null,
   "metadata": {
    "collapsed": false
   },
   "outputs": [],
   "source": [
    "import pandas as pd\n",
    "import numpy as np \n",
    "from pandas import Series\n",
    "pd.options.display.max_rows=3000\n",
    "root_dir = os.path.abspath('../..')\n",
    "task_dir= os.path.join(root_dir,'user_profile')\n",
    "data_dir=os.path.join(task_dir,'data')\n",
    "final_data=os.path.join(data_dir,\"final_scrap\")"
   ]
  },
  {
   "cell_type": "code",
   "execution_count": null,
   "metadata": {
    "collapsed": false,
    "scrolled": true
   },
   "outputs": [],
   "source": [
    "d1=pd.read_csv(os.path.join(final_data,\"scraped_data_100.csv\"),header=None)"
   ]
  },
  {
   "cell_type": "code",
   "execution_count": null,
   "metadata": {
    "collapsed": true
   },
   "outputs": [],
   "source": [
    "d2=pd.read_csv(os.path.join(final_data,\"scraped_data_250.csv\"),header=None)"
   ]
  },
  {
   "cell_type": "code",
   "execution_count": null,
   "metadata": {
    "collapsed": false
   },
   "outputs": [],
   "source": [
    "d3=pd.read_csv(os.path.join(final_data,\"scraped_data_375.csv\"),header=None)"
   ]
  },
  {
   "cell_type": "code",
   "execution_count": null,
   "metadata": {
    "collapsed": true
   },
   "outputs": [],
   "source": [
    "d4=pd.read_csv(os.path.join(final_data,\"scraped_data_486.csv\"),header=None)"
   ]
  },
  {
   "cell_type": "code",
   "execution_count": null,
   "metadata": {
    "collapsed": false
   },
   "outputs": [],
   "source": [
    "d6=pd.read_csv(os.path.join(final_data,\"scraped_data_325.csv\"),header=None)"
   ]
  },
  {
   "cell_type": "code",
   "execution_count": null,
   "metadata": {
    "collapsed": false
   },
   "outputs": [],
   "source": [
    "d6.isin(d5).sum()"
   ]
  },
  {
   "cell_type": "code",
   "execution_count": null,
   "metadata": {
    "collapsed": false
   },
   "outputs": [],
   "source": [
    "d6.head()"
   ]
  },
  {
   "cell_type": "code",
   "execution_count": null,
   "metadata": {
    "collapsed": false
   },
   "outputs": [],
   "source": [
    "d6[1].isin(d3).sum()"
   ]
  },
  {
   "cell_type": "code",
   "execution_count": null,
   "metadata": {
    "collapsed": false
   },
   "outputs": [],
   "source": [
    "d_a=d6[1].append(d3[1],ignore_index=True)"
   ]
  },
  {
   "cell_type": "code",
   "execution_count": null,
   "metadata": {
    "collapsed": false
   },
   "outputs": [],
   "source": [
    "d_a.shape"
   ]
  },
  {
   "cell_type": "code",
   "execution_count": null,
   "metadata": {
    "collapsed": false
   },
   "outputs": [],
   "source": [
    "d3[1].isin(d_a).sum()"
   ]
  },
  {
   "cell_type": "code",
   "execution_count": null,
   "metadata": {
    "collapsed": false
   },
   "outputs": [],
   "source": [
    "d3.shape"
   ]
  },
  {
   "cell_type": "code",
   "execution_count": null,
   "metadata": {
    "collapsed": false
   },
   "outputs": [],
   "source": [
    "d_a.shape"
   ]
  },
  {
   "cell_type": "code",
   "execution_count": null,
   "metadata": {
    "collapsed": false
   },
   "outputs": [],
   "source": [
    "d_a=d_a.append(d4[1],ignore_index=True)"
   ]
  },
  {
   "cell_type": "code",
   "execution_count": null,
   "metadata": {
    "collapsed": false
   },
   "outputs": [],
   "source": [
    "d_a=d_a.append(d2[1],ignore_index=True)"
   ]
  },
  {
   "cell_type": "code",
   "execution_count": null,
   "metadata": {
    "collapsed": false
   },
   "outputs": [],
   "source": [
    "d_a.shape"
   ]
  },
  {
   "cell_type": "code",
   "execution_count": null,
   "metadata": {
    "collapsed": true
   },
   "outputs": [],
   "source": [
    "d8=pd.read_csv(os.path.join(final_data,\"scraped_data_100125.csv\"),header=None)"
   ]
  },
  {
   "cell_type": "code",
   "execution_count": null,
   "metadata": {
    "collapsed": false
   },
   "outputs": [],
   "source": [
    "d8.shape"
   ]
  },
  {
   "cell_type": "code",
   "execution_count": null,
   "metadata": {
    "collapsed": true
   },
   "outputs": [],
   "source": [
    "d9=pd.read_csv(os.path.join(final_data,\"scraped_data_105_125.csv\"),header=None)"
   ]
  },
  {
   "cell_type": "code",
   "execution_count": null,
   "metadata": {
    "collapsed": false
   },
   "outputs": [],
   "source": [
    "d9.shape"
   ]
  },
  {
   "cell_type": "code",
   "execution_count": null,
   "metadata": {
    "collapsed": false,
    "scrolled": true
   },
   "outputs": [],
   "source": [
    "d9[1].isin(d8[1]).sum()"
   ]
  },
  {
   "cell_type": "code",
   "execution_count": null,
   "metadata": {
    "collapsed": false
   },
   "outputs": [],
   "source": [
    "d_a=d_a.append(d8[1],ignore_index=True)\n",
    "d_a=d_a.append(d1[1],ignore_index=True)"
   ]
  },
  {
   "cell_type": "code",
   "execution_count": null,
   "metadata": {
    "collapsed": false
   },
   "outputs": [],
   "source": [
    "d_a.shape"
   ]
  },
  {
   "cell_type": "code",
   "execution_count": null,
   "metadata": {
    "collapsed": true
   },
   "outputs": [],
   "source": [
    "d_a.to_csv(os.path.join(final_data,\"final_scraped_urls.csv\"))"
   ]
  },
  {
   "cell_type": "code",
   "execution_count": null,
   "metadata": {
    "collapsed": false
   },
   "outputs": [],
   "source": [
    "data=pd.read_csv(os.path.join(data_dir,\"data_augmented.csv\"))"
   ]
  },
  {
   "cell_type": "code",
   "execution_count": null,
   "metadata": {
    "collapsed": false
   },
   "outputs": [],
   "source": [
    "Sources=data.Sources1"
   ]
  },
  {
   "cell_type": "code",
   "execution_count": null,
   "metadata": {
    "collapsed": false
   },
   "outputs": [],
   "source": [
    "Sources.isin(d_a).sum()"
   ]
  },
  {
   "cell_type": "code",
   "execution_count": null,
   "metadata": {
    "collapsed": true
   },
   "outputs": [],
   "source": [
    "import urlparse\n",
    "def hostname(x):\n",
    "    return urlparse.urlparse(x).hostname"
   ]
  },
  {
   "cell_type": "code",
   "execution_count": null,
   "metadata": {
    "collapsed": true
   },
   "outputs": [],
   "source": [
    "def path(x):\n",
    "    return urlparse.urlparse(x).path"
   ]
  },
  {
   "cell_type": "code",
   "execution_count": null,
   "metadata": {
    "collapsed": false
   },
   "outputs": [],
   "source": [
    "hostname(\"http://www.cs.umd.edu/~rance/cv.pdf\")"
   ]
  },
  {
   "cell_type": "code",
   "execution_count": null,
   "metadata": {
    "collapsed": false,
    "scrolled": true
   },
   "outputs": [],
   "source": [
    "Sources[Sources.isin(d_a)].apply(hostname).unique()"
   ]
  },
  {
   "cell_type": "code",
   "execution_count": null,
   "metadata": {
    "collapsed": false
   },
   "outputs": [],
   "source": [
    "Sources[np.invert(Sources.isin(d_a))]"
   ]
  },
  {
   "cell_type": "code",
   "execution_count": null,
   "metadata": {
    "collapsed": false
   },
   "outputs": [],
   "source": [
    "Sources[np.invert(Sources.isin(d_a))].apply(hostname).unique()"
   ]
  },
  {
   "cell_type": "code",
   "execution_count": null,
   "metadata": {
    "collapsed": false
   },
   "outputs": [],
   "source": [
    "urlparse.urlparse(Sources[2154])"
   ]
  },
  {
   "cell_type": "code",
   "execution_count": null,
   "metadata": {
    "collapsed": false
   },
   "outputs": [],
   "source": [
    "len(Sources[Sources.isin(d_a)].apply(hostname).unique())"
   ]
  },
  {
   "cell_type": "code",
   "execution_count": null,
   "metadata": {
    "collapsed": false
   },
   "outputs": [],
   "source": [
    "d_a_matched=d_a[d_a.apply(hostname).isin(Sources[Sources.isin(d_a)].apply(hostname).unique())]"
   ]
  },
  {
   "cell_type": "code",
   "execution_count": null,
   "metadata": {
    "collapsed": false
   },
   "outputs": [],
   "source": [
    "d_a_matched[:3000]"
   ]
  },
  {
   "cell_type": "code",
   "execution_count": null,
   "metadata": {
    "collapsed": false
   },
   "outputs": [],
   "source": [
    "Sources[Sources.isin(d_a)].isin(d_a_matched)"
   ]
  },
  {
   "cell_type": "code",
   "execution_count": null,
   "metadata": {
    "collapsed": false
   },
   "outputs": [],
   "source": [
    "d_a_matched[np.invert(d_a_matched.isin(Sources[Sources.isin(d_a)]))].shape"
   ]
  },
  {
   "cell_type": "code",
   "execution_count": null,
   "metadata": {
    "collapsed": false
   },
   "outputs": [],
   "source": [
    "tempor=Series(st.replace(\" \",\"\").split(\"\\n\"))"
   ]
  },
  {
   "cell_type": "code",
   "execution_count": null,
   "metadata": {
    "collapsed": true
   },
   "outputs": [],
   "source": [
    "import re"
   ]
  },
  {
   "cell_type": "code",
   "execution_count": null,
   "metadata": {
    "collapsed": false
   },
   "outputs": [],
   "source": [
    "re.findall(\"\\D+\",st.replace(\" \",\"\").split(\"\\n\")[1])"
   ]
  },
  {
   "cell_type": "code",
   "execution_count": null,
   "metadata": {
    "collapsed": false
   },
   "outputs": [],
   "source": [
    "tempor.str.findall(\"\\D+\")"
   ]
  },
  {
   "cell_type": "code",
   "execution_count": null,
   "metadata": {
    "collapsed": false
   },
   "outputs": [],
   "source": [
    "matched_extended=Series(s.replace(\" \",\"\").split(\"\\n\")).str.findall(\"\\D+\")"
   ]
  },
  {
   "cell_type": "code",
   "execution_count": null,
   "metadata": {
    "collapsed": false
   },
   "outputs": [],
   "source": [
    "d_a_match_not_found[30000:40000]"
   ]
  },
  {
   "cell_type": "code",
   "execution_count": null,
   "metadata": {
    "collapsed": false,
    "scrolled": true
   },
   "outputs": [],
   "source": [
    "d_a_match_not_found[d_a_match_not_found[1].str.contains(regex12a)]"
   ]
  },
  {
   "cell_type": "code",
   "execution_count": null,
   "metadata": {
    "collapsed": true
   },
   "outputs": [],
   "source": [
    "regex12a=\"Resume|resume|cv|CV\""
   ]
  },
  {
   "cell_type": "code",
   "execution_count": null,
   "metadata": {
    "collapsed": true
   },
   "outputs": [],
   "source": [
    "regex12=\"cv\\.pdf|CV\\.pdf|Resume\\.pdf|resume\\.pdf\""
   ]
  },
  {
   "cell_type": "code",
   "execution_count": null,
   "metadata": {
    "collapsed": true
   },
   "outputs": [],
   "source": [
    "regex11=\"\\/faculty\\/content\\/[\\w-]+$|\\/faculty\\/content\\/[\\w-]+\\/$\""
   ]
  },
  {
   "cell_type": "code",
   "execution_count": null,
   "metadata": {
    "collapsed": true
   },
   "outputs": [],
   "source": [
    "regex10=\"~[\\w]+|/user\\/[\\w]+\""
   ]
  },
  {
   "cell_type": "code",
   "execution_count": null,
   "metadata": {
    "collapsed": true
   },
   "outputs": [],
   "source": [
    "regex10a=\"\\/user[\\w\\-\\/]+$\""
   ]
  },
  {
   "cell_type": "code",
   "execution_count": null,
   "metadata": {
    "collapsed": true
   },
   "outputs": [],
   "source": [
    "regex8=\"\\/people\\/[\\w\\-/]+\\/[\\w\\-/]+\""
   ]
  },
  {
   "cell_type": "code",
   "execution_count": null,
   "metadata": {
    "collapsed": true
   },
   "outputs": [],
   "source": [
    "regex9=\"\\/people\\/[\\w\\-/]+\""
   ]
  },
  {
   "cell_type": "code",
   "execution_count": null,
   "metadata": {
    "collapsed": true
   },
   "outputs": [],
   "source": [
    "regex7=\"\\.html\\?uniqname\\=\\w+\""
   ]
  },
  {
   "cell_type": "code",
   "execution_count": null,
   "metadata": {
    "collapsed": false
   },
   "outputs": [],
   "source": [
    "regex=\"~[\\w]+\\/$|~[\\w]+$|faculty\\/[\\w-]+$|faculty\\/[\\w-]+\\/$\""
   ]
  },
  {
   "cell_type": "code",
   "execution_count": null,
   "metadata": {
    "collapsed": true
   },
   "outputs": [],
   "source": [
    "regex2=\"\\.edu\\/[\\w-]+$|\\.edu\\/[\\w-]+\\/$\""
   ]
  },
  {
   "cell_type": "code",
   "execution_count": null,
   "metadata": {
    "collapsed": true
   },
   "outputs": [],
   "source": [
    "regex3=\"Main\\/[\\w-]+$|Main\\/[\\w-]+\\/$\""
   ]
  },
  {
   "cell_type": "code",
   "execution_count": null,
   "metadata": {
    "collapsed": true
   },
   "outputs": [],
   "source": [
    "regex4=\"\\/u\\/[\\w-]+$|\\/u\\/[\\w-]+\\/$\""
   ]
  },
  {
   "cell_type": "code",
   "execution_count": null,
   "metadata": {
    "collapsed": true
   },
   "outputs": [],
   "source": [
    "regex5=\"directory\\/[\\w-]+$|directory\\/[\\w-]+\\/$\""
   ]
  },
  {
   "cell_type": "code",
   "execution_count": null,
   "metadata": {
    "collapsed": true
   },
   "outputs": [],
   "source": [
    "regex6=\"profile\\/[\\w-]+$|profile\\/[\\w-]+\\/$\""
   ]
  },
  {
   "cell_type": "code",
   "execution_count": null,
   "metadata": {
    "collapsed": false
   },
   "outputs": [],
   "source": [
    "d_a_match_not_found=d_a_matched[np.invert(d_a_matched.isin(Sources[Sources.isin(d_a)]))]\n",
    "\n",
    "pd.options.display.max_rows=100000\n",
    "\n",
    "st=\"\"\"http://www.cs.ucla.edu/wp-content/uploads/cs/M...\n",
    "http://www.cs.ucla.edu/~rupak/\n",
    "http://www.cs.ucla.edu/wp-content/uploads/cs/M...\n",
    "\"\"\"\n",
    "st_temp=Series(st.split())\n"
   ]
  },
  {
   "cell_type": "code",
   "execution_count": null,
   "metadata": {
    "collapsed": false,
    "scrolled": true
   },
   "outputs": [],
   "source": [
    "profiles_not_in_data=d_a_match_not_found[d_a_match_not_found.str.contains(regex)]"
   ]
  },
  {
   "cell_type": "code",
   "execution_count": null,
   "metadata": {
    "collapsed": true
   },
   "outputs": [],
   "source": [
    "profiles_not_in_data=d_a_match_not_found[d_a_match_not_found.str.contains(\"~[\\w]+$\")]"
   ]
  },
  {
   "cell_type": "code",
   "execution_count": null,
   "metadata": {
    "collapsed": false
   },
   "outputs": [],
   "source": [
    "profiles_not_in_data=profiles_not_in_data.append(d_a_match_not_found[d_a_match_not_found.str.contains(\"faculty\\/[\\w-]+$\")])"
   ]
  },
  {
   "cell_type": "code",
   "execution_count": null,
   "metadata": {
    "collapsed": false
   },
   "outputs": [],
   "source": [
    "profiles_not_in_data.to_csv(os.path.join(final_data,\"profiles_not_given_data_set.csv\"))"
   ]
  },
  {
   "cell_type": "code",
   "execution_count": null,
   "metadata": {
    "collapsed": true
   },
   "outputs": [],
   "source": [
    "\"\"\"\n",
    "setting the right display options\n",
    "\"\"\"\n",
    "pd.set_option('display.max_colwidth',-1 )\n",
    "pd.options.display.max_rows=50000"
   ]
  },
  {
   "cell_type": "code",
   "execution_count": null,
   "metadata": {
    "collapsed": false
   },
   "outputs": [],
   "source": [
    "def cleaner(x):\n",
    "    if len(x)>0:\n",
    "        x= x[0]\n",
    "    else:\n",
    "        x= \"\"\n",
    "    return x\n",
    "\n",
    "def cleaner_advanced(x):\n",
    "    x=x[0][1].replace(\" \",\"\")\n",
    "    return x"
   ]
  },
  {
   "cell_type": "code",
   "execution_count": null,
   "metadata": {
    "collapsed": false
   },
   "outputs": [],
   "source": [
    "profiles_not_in_data_remove=pd.read_csv('supoter.txt',header=None)\n",
    "\n",
    "profiles_not_in_data_remove=profiles_not_in_data_remove[0].str.findall(\"^\\d+\")\n",
    "\n",
    "profiles_not_in_data_remove=profiles_not_in_data_remove.apply(cleaner)"
   ]
  },
  {
   "cell_type": "code",
   "execution_count": null,
   "metadata": {
    "collapsed": false,
    "scrolled": false
   },
   "outputs": [],
   "source": [
    "profiles_not_in_data_remove.astype(\"int\").values"
   ]
  },
  {
   "cell_type": "code",
   "execution_count": null,
   "metadata": {
    "collapsed": false,
    "scrolled": true
   },
   "outputs": [],
   "source": [
    "profiles_not_in_data.drop(profiles_not_in_data_remove.astype(\"int\").values,inplace=True)"
   ]
  },
  {
   "cell_type": "code",
   "execution_count": null,
   "metadata": {
    "collapsed": false
   },
   "outputs": [],
   "source": [
    "profiles_not_in_data.shape"
   ]
  },
  {
   "cell_type": "code",
   "execution_count": null,
   "metadata": {
    "collapsed": false
   },
   "outputs": [],
   "source": [
    "st=\"\"\"157181                              \n",
    "157182   \n",
    "157183   \n",
    "157184\n",
    "157185\"\"\"\n",
    "[int(s) for s in st.split()]"
   ]
  },
  {
   "cell_type": "code",
   "execution_count": null,
   "metadata": {
    "collapsed": false
   },
   "outputs": [],
   "source": [
    "profiles_not_in_data.drop(profiles_not_in_data[profiles_not_in_data.isin(d_a[[157181, 157182, 157183, 157184, 157185]])].index,inplace=True)"
   ]
  },
  {
   "cell_type": "code",
   "execution_count": null,
   "metadata": {
    "collapsed": false
   },
   "outputs": [],
   "source": [
    "profiles_not_in_data.shape"
   ]
  },
  {
   "cell_type": "code",
   "execution_count": null,
   "metadata": {
    "collapsed": false
   },
   "outputs": [],
   "source": [
    "d_a_match_not_found.drop(profiles_not_in_data_remove.astype(\"int\").values,inplace=True)"
   ]
  },
  {
   "cell_type": "code",
   "execution_count": null,
   "metadata": {
    "collapsed": false
   },
   "outputs": [],
   "source": [
    "d_a_match_not_found[1]"
   ]
  },
  {
   "cell_type": "code",
   "execution_count": null,
   "metadata": {
    "collapsed": false
   },
   "outputs": [],
   "source": [
    "profiles_not_in_data[profiles_not_in_data.str.contains(regex12)]"
   ]
  },
  {
   "cell_type": "code",
   "execution_count": null,
   "metadata": {
    "collapsed": true
   },
   "outputs": [],
   "source": [
    "\"\"\"\n",
    "ADDING\n",
    "reads the profile saved in the supoter2.txt \n",
    "\"\"\"\n",
    "\n",
    "profiles_not_in_data_add=pd.read_csv('supoter2.txt',header=None)\n",
    "profiles_not_in_data_add=profiles_not_in_data_add[0].str.findall(\"^\\d+\")\n",
    "profiles_not_in_data_add=profiles_not_in_data_add.apply(cleaner)"
   ]
  },
  {
   "cell_type": "code",
   "execution_count": null,
   "metadata": {
    "collapsed": false
   },
   "outputs": [],
   "source": [
    "\"\"\"\n",
    "ADDING\n",
    "adds the profiles in the supoter2.txt to the extra profiles found in the matched data-set\n",
    "\"\"\"\n",
    "\n",
    "profiles_not_in_data=profiles_not_in_data.append(d_a_match_not_found[profiles_not_in_data_add.astype(\"int\").values],ignore_index=True)"
   ]
  },
  {
   "cell_type": "code",
   "execution_count": null,
   "metadata": {
    "collapsed": false
   },
   "outputs": [],
   "source": [
    "\"\"\"\n",
    "ADDING\n",
    "adds profile to extra profile found list when a direct regex works\"\"\"\n",
    "\n",
    "\n",
    "profiles_not_in_data=profiles_not_in_data.append(d_a_match_not_found[d_a_match_not_found.str.contains(regex9)],ignore_index=True)"
   ]
  },
  {
   "cell_type": "code",
   "execution_count": null,
   "metadata": {
    "collapsed": false
   },
   "outputs": [],
   "source": [
    "\"\"\"\n",
    "ADDING\n",
    "CHANGED WHEN LOADED DATA IS BEING USED\n",
    "adds profile to extra profile found list when a direct regex works\"\"\"\n",
    "\n",
    "\n",
    "profiles_not_in_data=profiles_not_in_data.append(d_a_match_not_found[1][d_a_match_not_found[1].str.contains(regex12a)],ignore_index=True)\n",
    "#profiles_not_in_data.append(d_a_match_not_found[1][d_a_match_not_found[1].str.contains(regex11)],ignore_index=True).shape"
   ]
  },
  {
   "cell_type": "code",
   "execution_count": null,
   "metadata": {
    "collapsed": false
   },
   "outputs": [],
   "source": [
    "d_a_match_not_found.shape"
   ]
  },
  {
   "cell_type": "code",
   "execution_count": null,
   "metadata": {
    "collapsed": false,
    "scrolled": true
   },
   "outputs": [],
   "source": [
    "\"\"\"\n",
    "DROPPING\n",
    "AFTER THEY HAVE LOADED FROM THE DISK\n",
    "drops the urls of the profiles that have been added to the found profile list\n",
    "\"\"\"\n",
    "\n",
    "d_a_match_not_found.drop(d_a_match_not_found[1][d_a_match_not_found[1].isin(profiles_not_in_data)].index,inplace=True)"
   ]
  },
  {
   "cell_type": "code",
   "execution_count": null,
   "metadata": {
    "collapsed": false,
    "scrolled": true
   },
   "outputs": [],
   "source": [
    "\"\"\"\n",
    "REMOVE\n",
    "adds the index of urls in supoter.txt file into s remove list \n",
    "\"\"\"\n",
    "profiles_not_in_data_remove=pd.read_csv('supoter.txt',header=None)\n",
    "profiles_not_in_data_remove=profiles_not_in_data_remove[0].str.findall(\"^\\d+\")\n",
    "\n",
    "profiles_not_in_data_remove=profiles_not_in_data_remove.apply(cleaner)"
   ]
  },
  {
   "cell_type": "code",
   "execution_count": null,
   "metadata": {
    "collapsed": false
   },
   "outputs": [],
   "source": [
    "\"\"\"\n",
    "REMOVE\n",
    "REMOVES THE LINKS FROM THE REGEX QUERRY THAT ARE PRESENT IN SUPOTER 1\n",
    "and adds them to EXTRA PROFILES LIST\n",
    "\"\"\"\n",
    "temp=d_a_match_not_found[d_a_match_not_found[1].str.contains(regex12a)].drop(profiles_not_in_data_remove.values.astype(\"int\"))\n",
    "\n",
    "profiles_not_in_data=profiles_not_in_data.append(temp[1])"
   ]
  },
  {
   "cell_type": "code",
   "execution_count": null,
   "metadata": {
    "collapsed": false,
    "scrolled": true
   },
   "outputs": [],
   "source": [
    "\"\"\"\n",
    "REMOVE\n",
    "adds the urls in supoter.txt file into a remove list\n",
    "\"\"\"\n",
    "profiles_not_in_data_remove=pd.read_csv('supoter.txt',header=None)\n",
    "profiles_not_in_data_remove=profiles_not_in_data_remove[0].str.findall(\"(^\\d+)(.+)\").apply(cleaner_advanced)\n"
   ]
  },
  {
   "cell_type": "code",
   "execution_count": null,
   "metadata": {
    "collapsed": false
   },
   "outputs": [],
   "source": [
    "\"\"\"\n",
    "REMOVE\n",
    "remove the link in the supoter file from the extra profile links list\n",
    "\"\"\"\n",
    "profiles_not_in_data.drop(profiles_not_in_data[profiles_not_in_data.isin(profiles_not_in_data_remove)].index,inplace=True)"
   ]
  },
  {
   "cell_type": "code",
   "execution_count": null,
   "metadata": {
    "collapsed": false,
    "scrolled": true
   },
   "outputs": [],
   "source": [
    "\"\"\"\n",
    "REMOVE\n",
    "drops the urls from the extra profile list that were to be removed from the WORKING DATA SET itself\n",
    "\"\"\"\n",
    "\n",
    "d_a_match_not_found.drop(profiles_not_in_data_remove.astype(\"int\").values,inplace=True)"
   ]
  },
  {
   "cell_type": "code",
   "execution_count": null,
   "metadata": {
    "collapsed": false
   },
   "outputs": [],
   "source": [
    "d_a_match_not_found.shape"
   ]
  },
  {
   "cell_type": "code",
   "execution_count": null,
   "metadata": {
    "collapsed": true
   },
   "outputs": [],
   "source": [
    "#to save the working data_sets\n",
    "d_a_match_not_found.to_csv(os.path.join(final_data,\"urls_that_are_not_profiles_in_working_data.csv\"))\n",
    "\n",
    "#d_a_matched.to_csv(os.path.join(final_data,\"working_data.csv\"))\n",
    "\n",
    "profiles_not_in_data.to_csv(os.path.join(final_data,\"extra_profiles_found.csv\"))"
   ]
  },
  {
   "cell_type": "code",
   "execution_count": null,
   "metadata": {
    "collapsed": false
   },
   "outputs": [],
   "source": [
    "#load the saved files\n",
    "profiles_not_in_data=pd.read_csv(os.path.join(final_data,\"extra_profiles_found.csv\"),header=None)[1]\n",
    "\n",
    "d_a_match_not_found=pd.read_csv(os.path.join(final_data,\"urls_that_are_not_profiles_in_working_data.csv\"),header=None)"
   ]
  },
  {
   "cell_type": "code",
   "execution_count": null,
   "metadata": {
    "collapsed": true
   },
   "outputs": [],
   "source": []
  }
 ],
 "metadata": {
  "kernelspec": {
   "display_name": "Python 2",
   "language": "python",
   "name": "python2"
  },
  "language_info": {
   "codemirror_mode": {
    "name": "ipython",
    "version": 2
   },
   "file_extension": ".py",
   "mimetype": "text/x-python",
   "name": "python",
   "nbconvert_exporter": "python",
   "pygments_lexer": "ipython2",
   "version": "2.7.11"
  }
 },
 "nbformat": 4,
 "nbformat_minor": 0
}
