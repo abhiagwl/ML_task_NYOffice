{
 "cells": [
  {
   "cell_type": "code",
   "execution_count": 131,
   "metadata": {
    "collapsed": false
   },
   "outputs": [],
   "source": [
    "%reset_selective -f vectorizerZ"
   ]
  },
  {
   "cell_type": "code",
   "execution_count": 2,
   "metadata": {
    "collapsed": false,
    "scrolled": true
   },
   "outputs": [
    {
     "data": {
      "text/plain": [
       "[]"
      ]
     },
     "execution_count": 2,
     "metadata": {},
     "output_type": "execute_result"
    }
   ],
   "source": [
    "%who_ls"
   ]
  },
  {
   "cell_type": "code",
   "execution_count": 3,
   "metadata": {
    "collapsed": false
   },
   "outputs": [],
   "source": [
    "from nltk import ngrams\n",
    "import pandas as pd\n",
    "import numpy as np \n",
    "from pandas import Series\n",
    "import pickle\n",
    "import cPickle\n",
    "pd.options.display.max_rows=3000\n",
    "root_dir = os.path.abspath('../..')\n",
    "task_dir= os.path.join(root_dir,'user_profile')\n",
    "data_dir=os.path.join(task_dir,'data')\n",
    "final_data=os.path.join(data_dir,\"final_scrap\")"
   ]
  },
  {
   "cell_type": "code",
   "execution_count": 18,
   "metadata": {
    "collapsed": true
   },
   "outputs": [],
   "source": [
    "import re\n",
    "import urlparse\n",
    "def hostname(x):\n",
    "    return urlparse.urlparse(x).hostname\n",
    "\n",
    "def path(x):\n",
    "    return urlparse.urlparse(x).path\n",
    "\n",
    "def preprocessor(list_):\n",
    "    return list(\"\".join(list_))\n",
    "\n",
    "def gram_generator(x):\n",
    "    grams = ngrams(x, 3)\n",
    "    return [\"\".join(gram) for gram in grams]\n",
    "\n",
    "def character_extracter(x):\n",
    "    return x.str.lower().str.replace(\"http\",\".\").str.replace(\"www\",\".\").str.findall(r\"\\w+\").apply(preprocessor)\n",
    "\n",
    "\n",
    "def joined(list_):\n",
    "    return \" \".join(list_)"
   ]
  },
  {
   "cell_type": "code",
   "execution_count": 46,
   "metadata": {
    "collapsed": false
   },
   "outputs": [],
   "source": [
    "x='http://www.math.tamu.edu/~rowell/'"
   ]
  },
  {
   "cell_type": "code",
   "execution_count": 45,
   "metadata": {
    "collapsed": true
   },
   "outputs": [],
   "source": [
    "def string_feature_gen(x):\n",
    "    temp=x\n",
    "    temp=\"\".join(re.findall(r\"\\w+\",x.lower().replace(\"http\",\".\").replace(\"www\",\".\")))\n",
    "    temp=[\" \".join([\"\".join(gram) for gram in ngrams(temp, 3)])]\n",
    "    x_alpha_features=vec_aplha(temp)\n",
    "    special_characters=['#','/', '%', '~', '=','?','&',\"-\",\"(\",\")\",\"+\",\"@\",\"[\",\"]\",\"'\",\"*\"]\n",
    "    temp=\" \".join(re.findall(\"[^\\:\\w\\.]\",x.replace(\"http://|https://\",\"\")))\n",
    "    for n,spcl in enumerate(special_characters):\n",
    "        temp=temp.replace(spcl,str(n+10))\n",
    "    x_special_features=vec_special.transform([temp])\n",
    "    x_features=hstack([x_alpha_features,x_special_features,len(x)])"
   ]
  },
  {
   "cell_type": "code",
   "execution_count": 49,
   "metadata": {
    "collapsed": false
   },
   "outputs": [
    {
     "ename": "NameError",
     "evalue": "global name 'vec_aplha' is not defined",
     "output_type": "error",
     "traceback": [
      "\u001b[1;31m---------------------------------------------------------------------------\u001b[0m",
      "\u001b[1;31mNameError\u001b[0m                                 Traceback (most recent call last)",
      "\u001b[1;32m<ipython-input-49-524f4adf5fd9>\u001b[0m in \u001b[0;36m<module>\u001b[1;34m()\u001b[0m\n\u001b[1;32m----> 1\u001b[1;33m \u001b[0mstring_feature_gen\u001b[0m\u001b[1;33m(\u001b[0m\u001b[0mx\u001b[0m\u001b[1;33m)\u001b[0m\u001b[1;33m\u001b[0m\u001b[0m\n\u001b[0m",
      "\u001b[1;32m<ipython-input-45-6baee49828bc>\u001b[0m in \u001b[0;36mstring_feature_gen\u001b[1;34m(x)\u001b[0m\n\u001b[0;32m      3\u001b[0m     \u001b[0mtemp\u001b[0m\u001b[1;33m=\u001b[0m\u001b[1;34m\"\"\u001b[0m\u001b[1;33m.\u001b[0m\u001b[0mjoin\u001b[0m\u001b[1;33m(\u001b[0m\u001b[0mre\u001b[0m\u001b[1;33m.\u001b[0m\u001b[0mfindall\u001b[0m\u001b[1;33m(\u001b[0m\u001b[1;34mr\"\\w+\"\u001b[0m\u001b[1;33m,\u001b[0m\u001b[0mx\u001b[0m\u001b[1;33m.\u001b[0m\u001b[0mlower\u001b[0m\u001b[1;33m(\u001b[0m\u001b[1;33m)\u001b[0m\u001b[1;33m.\u001b[0m\u001b[0mreplace\u001b[0m\u001b[1;33m(\u001b[0m\u001b[1;34m\"http\"\u001b[0m\u001b[1;33m,\u001b[0m\u001b[1;34m\".\"\u001b[0m\u001b[1;33m)\u001b[0m\u001b[1;33m.\u001b[0m\u001b[0mreplace\u001b[0m\u001b[1;33m(\u001b[0m\u001b[1;34m\"www\"\u001b[0m\u001b[1;33m,\u001b[0m\u001b[1;34m\".\"\u001b[0m\u001b[1;33m)\u001b[0m\u001b[1;33m)\u001b[0m\u001b[1;33m)\u001b[0m\u001b[1;33m\u001b[0m\u001b[0m\n\u001b[0;32m      4\u001b[0m     \u001b[0mtemp\u001b[0m\u001b[1;33m=\u001b[0m\u001b[1;33m[\u001b[0m\u001b[1;34m\" \"\u001b[0m\u001b[1;33m.\u001b[0m\u001b[0mjoin\u001b[0m\u001b[1;33m(\u001b[0m\u001b[1;33m[\u001b[0m\u001b[1;34m\"\"\u001b[0m\u001b[1;33m.\u001b[0m\u001b[0mjoin\u001b[0m\u001b[1;33m(\u001b[0m\u001b[0mgram\u001b[0m\u001b[1;33m)\u001b[0m \u001b[1;32mfor\u001b[0m \u001b[0mgram\u001b[0m \u001b[1;32min\u001b[0m \u001b[0mngrams\u001b[0m\u001b[1;33m(\u001b[0m\u001b[0mtemp\u001b[0m\u001b[1;33m,\u001b[0m \u001b[1;36m3\u001b[0m\u001b[1;33m)\u001b[0m\u001b[1;33m]\u001b[0m\u001b[1;33m)\u001b[0m\u001b[1;33m]\u001b[0m\u001b[1;33m\u001b[0m\u001b[0m\n\u001b[1;32m----> 5\u001b[1;33m     \u001b[0mx_alpha_features\u001b[0m\u001b[1;33m=\u001b[0m\u001b[0mvec_aplha\u001b[0m\u001b[1;33m(\u001b[0m\u001b[0mtemp\u001b[0m\u001b[1;33m)\u001b[0m\u001b[1;33m\u001b[0m\u001b[0m\n\u001b[0m\u001b[0;32m      6\u001b[0m     \u001b[0mspecial_characters\u001b[0m\u001b[1;33m=\u001b[0m\u001b[1;33m[\u001b[0m\u001b[1;34m'#'\u001b[0m\u001b[1;33m,\u001b[0m\u001b[1;34m'/'\u001b[0m\u001b[1;33m,\u001b[0m \u001b[1;34m'%'\u001b[0m\u001b[1;33m,\u001b[0m \u001b[1;34m'~'\u001b[0m\u001b[1;33m,\u001b[0m \u001b[1;34m'='\u001b[0m\u001b[1;33m,\u001b[0m\u001b[1;34m'?'\u001b[0m\u001b[1;33m,\u001b[0m\u001b[1;34m'&'\u001b[0m\u001b[1;33m,\u001b[0m\u001b[1;34m\"-\"\u001b[0m\u001b[1;33m,\u001b[0m\u001b[1;34m\"(\"\u001b[0m\u001b[1;33m,\u001b[0m\u001b[1;34m\")\"\u001b[0m\u001b[1;33m,\u001b[0m\u001b[1;34m\"+\"\u001b[0m\u001b[1;33m,\u001b[0m\u001b[1;34m\"@\"\u001b[0m\u001b[1;33m,\u001b[0m\u001b[1;34m\"[\"\u001b[0m\u001b[1;33m,\u001b[0m\u001b[1;34m\"]\"\u001b[0m\u001b[1;33m,\u001b[0m\u001b[1;34m\"'\"\u001b[0m\u001b[1;33m,\u001b[0m\u001b[1;34m\"*\"\u001b[0m\u001b[1;33m]\u001b[0m\u001b[1;33m\u001b[0m\u001b[0m\n\u001b[0;32m      7\u001b[0m     \u001b[0mtemp\u001b[0m\u001b[1;33m=\u001b[0m\u001b[1;34m\" \"\u001b[0m\u001b[1;33m.\u001b[0m\u001b[0mjoin\u001b[0m\u001b[1;33m(\u001b[0m\u001b[0mre\u001b[0m\u001b[1;33m.\u001b[0m\u001b[0mfindall\u001b[0m\u001b[1;33m(\u001b[0m\u001b[1;34m\"[^\\:\\w\\.]\"\u001b[0m\u001b[1;33m,\u001b[0m\u001b[0mx\u001b[0m\u001b[1;33m.\u001b[0m\u001b[0mreplace\u001b[0m\u001b[1;33m(\u001b[0m\u001b[1;34m\"http://|https://\"\u001b[0m\u001b[1;33m,\u001b[0m\u001b[1;34m\"\"\u001b[0m\u001b[1;33m)\u001b[0m\u001b[1;33m)\u001b[0m\u001b[1;33m)\u001b[0m\u001b[1;33m\u001b[0m\u001b[0m\n",
      "\u001b[1;31mNameError\u001b[0m: global name 'vec_aplha' is not defined"
     ]
    }
   ],
   "source": [
    "string_feature_gen(x)"
   ]
  },
  {
   "cell_type": "code",
   "execution_count": 50,
   "metadata": {
    "collapsed": false,
    "scrolled": true
   },
   "outputs": [
    {
     "data": {
      "text/plain": [
       "['CountVectorizer',\n",
       " 'Series',\n",
       " 'SparseEfficiencyWarning',\n",
       " 'SparseWarning',\n",
       " 'absolute_import',\n",
       " 'base',\n",
       " 'block_diag',\n",
       " 'bmat',\n",
       " 'bsr',\n",
       " 'bsr_matrix',\n",
       " 'cPickle',\n",
       " 'character_extracter',\n",
       " 'compressed',\n",
       " 'construct',\n",
       " 'coo',\n",
       " 'coo_matrix',\n",
       " 'cs_graph_components',\n",
       " 'csc',\n",
       " 'csc_matrix',\n",
       " 'csgraph',\n",
       " 'csr',\n",
       " 'csr_matrix',\n",
       " 'data',\n",
       " 'data_dir',\n",
       " 'dia',\n",
       " 'dia_matrix',\n",
       " 'diags',\n",
       " 'division',\n",
       " 'dok',\n",
       " 'dok_matrix',\n",
       " 'extract',\n",
       " 'eye',\n",
       " 'f',\n",
       " 'fid',\n",
       " 'final_data',\n",
       " 'find',\n",
       " 'gram',\n",
       " 'gram_generator',\n",
       " 'hostname',\n",
       " 'hstack',\n",
       " 'identity',\n",
       " 'issparse',\n",
       " 'isspmatrix',\n",
       " 'isspmatrix_bsr',\n",
       " 'isspmatrix_coo',\n",
       " 'isspmatrix_csc',\n",
       " 'isspmatrix_csr',\n",
       " 'isspmatrix_dia',\n",
       " 'isspmatrix_dok',\n",
       " 'isspmatrix_lil',\n",
       " 'joined',\n",
       " 'kron',\n",
       " 'kronsum',\n",
       " 'lil',\n",
       " 'lil_matrix',\n",
       " 'load_sparse_csr',\n",
       " 'n',\n",
       " 'ngrams',\n",
       " 'non_profile_urls',\n",
       " 'np',\n",
       " 'path',\n",
       " 'pd',\n",
       " 'pickle',\n",
       " 'preprocessor',\n",
       " 'print_function',\n",
       " 'profile_urls',\n",
       " 'rand',\n",
       " 'random',\n",
       " 're',\n",
       " 'root_dir',\n",
       " 'save_sparse_csr',\n",
       " 'shuffle',\n",
       " 'spcl',\n",
       " 'spdiags',\n",
       " 'special_characters',\n",
       " 'spmatrix',\n",
       " 'sputils',\n",
       " 'string_feature_gen',\n",
       " 'svm',\n",
       " 'task_dir',\n",
       " 'temp',\n",
       " 'test_string',\n",
       " 'the_filename',\n",
       " 'tril',\n",
       " 'triu',\n",
       " 'urlparse',\n",
       " 'vec_alpha',\n",
       " 'vec_special',\n",
       " 'vectorizerY',\n",
       " 'vocab_',\n",
       " 'vstack',\n",
       " 'x']"
      ]
     },
     "execution_count": 50,
     "metadata": {},
     "output_type": "execute_result"
    }
   ],
   "source": [
    "%who_ls"
   ]
  },
  {
   "cell_type": "code",
   "execution_count": 40,
   "metadata": {
    "collapsed": false
   },
   "outputs": [],
   "source": [
    "with open('feature_genrator_special_charac.pkl', 'rb') as fid:\n",
    "    vec_special=cPickle.load(fid)"
   ]
  },
  {
   "cell_type": "code",
   "execution_count": 48,
   "metadata": {
    "collapsed": true
   },
   "outputs": [],
   "source": [
    "with open('feature_genrator.pkl', 'rb') as fid:\n",
    "    vec_alpha=cPickle.load(fid)"
   ]
  },
  {
   "cell_type": "code",
   "execution_count": 24,
   "metadata": {
    "collapsed": false
   },
   "outputs": [],
   "source": [
    "x=\"\".join(re.findall(r\"\\w+\",x.lower().replace(\"http\",\".\").replace(\"www\",\".\")))"
   ]
  },
  {
   "cell_type": "code",
   "execution_count": 27,
   "metadata": {
    "collapsed": false
   },
   "outputs": [],
   "source": [
    "x=[\" \".join([\"\".join(gram) for gram in ngrams(x, 3)])]"
   ]
  },
  {
   "cell_type": "code",
   "execution_count": 35,
   "metadata": {
    "collapsed": false
   },
   "outputs": [],
   "source": [
    "temp=\" \".join(re.findall(\"[^\\:\\w\\.]\",x.replace(\"http://|https://\",\"\")))"
   ]
  },
  {
   "cell_type": "code",
   "execution_count": 38,
   "metadata": {
    "collapsed": false
   },
   "outputs": [],
   "source": [
    "for n,spcl in enumerate(special_characters):\n",
    "        temp=temp.replace(spcl,str(n+10))"
   ]
  },
  {
   "cell_type": "code",
   "execution_count": 44,
   "metadata": {
    "collapsed": false
   },
   "outputs": [
    {
     "data": {
      "text/plain": [
       "14"
      ]
     },
     "execution_count": 44,
     "metadata": {},
     "output_type": "execute_result"
    }
   ],
   "source": [
    "len(temp)"
   ]
  },
  {
   "cell_type": "code",
   "execution_count": 5,
   "metadata": {
    "collapsed": true
   },
   "outputs": [],
   "source": [
    "from scipy.sparse import *"
   ]
  },
  {
   "cell_type": "code",
   "execution_count": 150,
   "metadata": {
    "collapsed": false
   },
   "outputs": [],
   "source": [
    "def encoder(x):\n",
    "    x=x.str.replace(\"http://|https://\",\"\").str.findall(\"[^\\:\\w\\.]\").apply(joined)\n",
    "    for n,spcl in enumerate(special_characters):\n",
    "        x=x.str.replace(spcl,str(n+10))\n",
    "    return x"
   ]
  },
  {
   "cell_type": "code",
   "execution_count": 161,
   "metadata": {
    "collapsed": false
   },
   "outputs": [],
   "source": [
    "def complete_processor(x,type_=1):\n",
    "    x=x.iloc[np.random.permutation(x.shape[0])]\n",
    "    x=character_extracter(x)\n",
    "    x=x.apply(gram_generator).apply(joined).values\n",
    "    x_=vectorizerY.transform(x)\n",
    "    if type_==1:\n",
    "        y_=csr_matrix(np.ones((x_.shape[0],1)))\n",
    "    elif type_==0:\n",
    "        y_=csr_matrix(np.zeros((x.shape[0],1)))\n",
    "\n",
    "    return x_,y_"
   ]
  },
  {
   "cell_type": "code",
   "execution_count": 6,
   "metadata": {
    "collapsed": true
   },
   "outputs": [],
   "source": [
    "def save_sparse_csr(filename,array):\n",
    "    np.savez(filename,data = array.data ,indices=array.indices,\n",
    "             indptr =array.indptr, shape=array.shape )\n",
    "\n",
    "def load_sparse_csr(filename):\n",
    "    loader = np.load(filename)\n",
    "    return csr_matrix((  loader['data'], loader['indices'], loader['indptr']),\n",
    "                         shape = loader['shape'])"
   ]
  },
  {
   "cell_type": "code",
   "execution_count": 7,
   "metadata": {
    "collapsed": false
   },
   "outputs": [],
   "source": [
    "from sklearn import svm\n",
    "from sklearn.utils import shuffle"
   ]
  },
  {
   "cell_type": "code",
   "execution_count": 8,
   "metadata": {
    "collapsed": true
   },
   "outputs": [],
   "source": [
    "\"\"\"Opens and stores the vocab for generating 3-gram features into vocab_ list for vectorizer input\"\"\"\n",
    "\n",
    "the_filename=\"test_vocab\"\n",
    "with open(the_filename, 'rb') as f:\n",
    "    vocab_ = pickle.load(f)"
   ]
  },
  {
   "cell_type": "code",
   "execution_count": 192,
   "metadata": {
    "collapsed": true
   },
   "outputs": [],
   "source": [
    "def label_formatter(y):\n",
    "    return np.reshape(y.toarray(),(y.shape[0],))"
   ]
  },
  {
   "cell_type": "code",
   "execution_count": 141,
   "metadata": {
    "collapsed": false
   },
   "outputs": [
    {
     "data": {
      "text/plain": [
       "<1x16 sparse matrix of type '<type 'numpy.int64'>'\n",
       "\twith 16 stored elements in Compressed Sparse Row format>"
      ]
     },
     "execution_count": 141,
     "metadata": {},
     "output_type": "execute_result"
    }
   ],
   "source": [
    "vectorizer_spcl= CountVectorizer(min_df=1)\n",
    "vectorizer_spcl.fit_transform([\" \".join(special_)])"
   ]
  },
  {
   "cell_type": "code",
   "execution_count": 9,
   "metadata": {
    "collapsed": false,
    "scrolled": true
   },
   "outputs": [
    {
     "data": {
      "text/plain": [
       "'generating vocab for feature extraction'"
      ]
     },
     "execution_count": 9,
     "metadata": {},
     "output_type": "execute_result"
    }
   ],
   "source": [
    "from sklearn.feature_extraction.text import CountVectorizer\n",
    "vectorizerY= CountVectorizer(min_df=1)\n",
    "vectorizerY.fit_transform(vocab_)\n",
    "\"\"\"generating vocab for feature extraction\"\"\""
   ]
  },
  {
   "cell_type": "code",
   "execution_count": 28,
   "metadata": {
    "collapsed": false
   },
   "outputs": [
    {
     "data": {
      "text/plain": [
       "<1x17576 sparse matrix of type '<type 'numpy.int64'>'\n",
       "\twith 15 stored elements in Compressed Sparse Row format>"
      ]
     },
     "execution_count": 28,
     "metadata": {},
     "output_type": "execute_result"
    }
   ],
   "source": [
    "vectorizerY.transform(x)"
   ]
  },
  {
   "cell_type": "code",
   "execution_count": 256,
   "metadata": {
    "collapsed": true
   },
   "outputs": [],
   "source": [
    "%reset_selective -f profile_urls\n",
    "%reset_selective -f non_profile_urls\n",
    "%reset_selective -f x_\n",
    "%reset_selective -f y_"
   ]
  },
  {
   "cell_type": "code",
   "execution_count": 10,
   "metadata": {
    "collapsed": true
   },
   "outputs": [],
   "source": [
    "#load the saved files\n",
    "profile_urls=pd.read_csv(os.path.join(final_data,\"profile_urls_from_working_data.csv\"),header=None)[1]\n",
    "non_profile_urls=pd.read_csv(os.path.join(final_data,\"non_profile_urls_from_working_data.csv\"),header=None)[1]"
   ]
  },
  {
   "cell_type": "code",
   "execution_count": 37,
   "metadata": {
    "collapsed": false,
    "scrolled": true
   },
   "outputs": [],
   "source": [
    "special_characters=['#','/', '%', '~', '=','?','&',\"-\",\"(\",\")\",\"+\",\"@\",\"[\",\"]\",\"'\",\"*\"]"
   ]
  },
  {
   "cell_type": "code",
   "execution_count": 13,
   "metadata": {
    "collapsed": false
   },
   "outputs": [
    {
     "data": {
      "text/plain": [
       "<1x17576 sparse matrix of type '<type 'numpy.int64'>'\n",
       "\twith 2 stored elements in Compressed Sparse Row format>"
      ]
     },
     "execution_count": 13,
     "metadata": {},
     "output_type": "execute_result"
    }
   ],
   "source": [
    "vectorizerY.transform([x])"
   ]
  },
  {
   "cell_type": "code",
   "execution_count": null,
   "metadata": {
    "collapsed": true
   },
   "outputs": [],
   "source": [
    "v"
   ]
  },
  {
   "cell_type": "code",
   "execution_count": 185,
   "metadata": {
    "collapsed": false
   },
   "outputs": [
    {
     "data": {
      "text/plain": [
       "<14961x1 sparse matrix of type '<type 'numpy.int64'>'\n",
       "\twith 14961 stored elements in Compressed Sparse Column format>"
      ]
     },
     "execution_count": 185,
     "metadata": {},
     "output_type": "execute_result"
    }
   ],
   "source": [
    "csc_matrix(np.reshape(profile_urls.str.len().as_matrix(),(profile_urls.shape[0],1)))"
   ]
  },
  {
   "cell_type": "code",
   "execution_count": 260,
   "metadata": {
    "collapsed": false
   },
   "outputs": [],
   "source": [
    "x_positive_len=csc_matrix(np.reshape(profile_urls.str.len().as_matrix(),(profile_urls.shape[0],1)))\n",
    "x_negative_len=csc_matrix(np.reshape(non_profile_urls.str.len().as_matrix(),(non_profile_urls.shape[0],1)))"
   ]
  },
  {
   "cell_type": "code",
   "execution_count": 259,
   "metadata": {
    "collapsed": false,
    "scrolled": false
   },
   "outputs": [],
   "source": [
    "x_spcl_positive=vectorizer_spcl.transform(encoder(profile_urls).values)\n",
    "x_spcl_negative=vectorizer_spcl.transform(encoder(non_profile_urls).values)"
   ]
  },
  {
   "cell_type": "code",
   "execution_count": 258,
   "metadata": {
    "collapsed": false
   },
   "outputs": [],
   "source": [
    "x_positive,y_positive=complete_processor(profile_urls,type_=1)\n",
    "x_negative,y_negative=complete_processor(non_profile_urls,type_=0)"
   ]
  },
  {
   "cell_type": "code",
   "execution_count": 188,
   "metadata": {
    "collapsed": false
   },
   "outputs": [
    {
     "data": {
      "text/plain": [
       "(14961, 1)"
      ]
     },
     "execution_count": 188,
     "metadata": {},
     "output_type": "execute_result"
    }
   ],
   "source": [
    "x_positive_len.shape"
   ]
  },
  {
   "cell_type": "code",
   "execution_count": 261,
   "metadata": {
    "collapsed": false
   },
   "outputs": [],
   "source": [
    "x_pos=hstack([x_positive,x_spcl_positive,x_positive_len])\n",
    "x_neg=hstack([x_negative,x_spcl_negative,x_negative_len])"
   ]
  },
  {
   "cell_type": "code",
   "execution_count": 216,
   "metadata": {
    "collapsed": true
   },
   "outputs": [],
   "source": [
    "x_pos=hstack([x_positive,x_positive_len])\n",
    "x_neg=hstack([x_negative,x_negative_len])"
   ]
  },
  {
   "cell_type": "code",
   "execution_count": 238,
   "metadata": {
    "collapsed": true
   },
   "outputs": [],
   "source": [
    "x_pos=hstack([x_spcl_positive,x_positive_len])\n",
    "x_neg=hstack([x_spcl_negative,x_negative_len])"
   ]
  },
  {
   "cell_type": "code",
   "execution_count": 262,
   "metadata": {
    "collapsed": false,
    "scrolled": true
   },
   "outputs": [],
   "source": [
    "x_data=vstack([x_neg,x_pos])\n",
    "y_data=vstack([y_negative,y_positive])\n",
    "x_data,y_data=shuffle(x_data,y_data)"
   ]
  },
  {
   "cell_type": "code",
   "execution_count": 263,
   "metadata": {
    "collapsed": true
   },
   "outputs": [],
   "source": [
    "x_train=x_data[:60000,:]\n",
    "y_train=y_data[:60000,:]\n",
    "x_val=x_data[60000:75000,:]\n",
    "y_val=y_data[60000:75000,:]\n",
    "x_test=x_data[75000:,:]\n",
    "y_test=y_data[75000:,:]"
   ]
  },
  {
   "cell_type": "code",
   "execution_count": 286,
   "metadata": {
    "collapsed": false,
    "scrolled": true
   },
   "outputs": [],
   "source": [
    "clf=svm.LinearSVC(C=0.60).fit(x_train,label_formatter(y_train))"
   ]
  },
  {
   "cell_type": "code",
   "execution_count": 287,
   "metadata": {
    "collapsed": false,
    "scrolled": true
   },
   "outputs": [
    {
     "data": {
      "text/plain": [
       "0.97666666666666668"
      ]
     },
     "execution_count": 287,
     "metadata": {},
     "output_type": "execute_result"
    }
   ],
   "source": [
    "clf.score(x_val,label_formatter(y_val))"
   ]
  },
  {
   "cell_type": "code",
   "execution_count": 288,
   "metadata": {
    "collapsed": false,
    "scrolled": true
   },
   "outputs": [
    {
     "data": {
      "text/plain": [
       "0.9926666666666667"
      ]
     },
     "execution_count": 288,
     "metadata": {},
     "output_type": "execute_result"
    }
   ],
   "source": [
    "clf.score(x_train,label_formatter(y_train))"
   ]
  },
  {
   "cell_type": "code",
   "execution_count": 289,
   "metadata": {
    "collapsed": false,
    "scrolled": true
   },
   "outputs": [
    {
     "data": {
      "text/plain": [
       "0.97805486284289289"
      ]
     },
     "execution_count": 289,
     "metadata": {},
     "output_type": "execute_result"
    }
   ],
   "source": [
    "f1_score(label_formatter(y_train),clf.predict(x_train))"
   ]
  },
  {
   "cell_type": "code",
   "execution_count": 290,
   "metadata": {
    "collapsed": false,
    "scrolled": true
   },
   "outputs": [
    {
     "data": {
      "text/plain": [
       "0.93052798729654618"
      ]
     },
     "execution_count": 290,
     "metadata": {},
     "output_type": "execute_result"
    }
   ],
   "source": [
    "f1_score(label_formatter(y_val),clf.predict(x_val))"
   ]
  },
  {
   "cell_type": "code",
   "execution_count": 277,
   "metadata": {
    "collapsed": false
   },
   "outputs": [
    {
     "data": {
      "text/plain": [
       "0.978024737866516"
      ]
     },
     "execution_count": 277,
     "metadata": {},
     "output_type": "execute_result"
    }
   ],
   "source": [
    "clf.score(x_test,label_formatter(y_test))"
   ]
  },
  {
   "cell_type": "code",
   "execution_count": 279,
   "metadata": {
    "collapsed": false,
    "scrolled": true
   },
   "outputs": [
    {
     "data": {
      "text/plain": [
       "0.98113968734241053"
      ]
     },
     "execution_count": 279,
     "metadata": {},
     "output_type": "execute_result"
    }
   ],
   "source": [
    "precision_score(label_formatter(y_train),clf.predict(x_train))"
   ]
  },
  {
   "cell_type": "code",
   "execution_count": 281,
   "metadata": {
    "collapsed": false
   },
   "outputs": [
    {
     "data": {
      "text/plain": [
       "0.98123865241073227"
      ]
     },
     "execution_count": 281,
     "metadata": {},
     "output_type": "execute_result"
    }
   ],
   "source": [
    "recall_score(label_formatter(y_train),clf.predict(x_train))"
   ]
  },
  {
   "cell_type": "code",
   "execution_count": 200,
   "metadata": {
    "collapsed": true
   },
   "outputs": [],
   "source": [
    "from sklearn.metrics import *"
   ]
  },
  {
   "cell_type": "code",
   "execution_count": 234,
   "metadata": {
    "collapsed": true
   },
   "outputs": [],
   "source": [
    "import cPickle\n",
    "with open('svm_with_higher_recall.pkl', 'wb') as fid:\n",
    "    cPickle.dump(clf, fid)    "
   ]
  },
  {
   "cell_type": "code",
   "execution_count": 255,
   "metadata": {
    "collapsed": false
   },
   "outputs": [],
   "source": [
    "with open('feature_genrator_special_charac.pkl', 'wb') as fid:\n",
    "    cPickle.dump(vectorizer_spcl,fid)"
   ]
  },
  {
   "cell_type": "code",
   "execution_count": 251,
   "metadata": {
    "collapsed": true
   },
   "outputs": [],
   "source": [
    "with open('feature_genrator.pkl', 'rb') as fid:\n",
    "    vec_loaded=cPickle.load(fid)"
   ]
  },
  {
   "cell_type": "code",
   "execution_count": 235,
   "metadata": {
    "collapsed": false
   },
   "outputs": [],
   "source": [
    "import cPickle\n",
    "# load it again\n",
    "with open('svm_with_higher_recall.pkl', 'rb') as fid:\n",
    "    clf_loaded = cPickle.load(fid)"
   ]
  },
  {
   "cell_type": "code",
   "execution_count": null,
   "metadata": {
    "collapsed": true
   },
   "outputs": [],
   "source": []
  }
 ],
 "metadata": {
  "kernelspec": {
   "display_name": "Python 2",
   "language": "python",
   "name": "python2"
  },
  "language_info": {
   "codemirror_mode": {
    "name": "ipython",
    "version": 2
   },
   "file_extension": ".py",
   "mimetype": "text/x-python",
   "name": "python",
   "nbconvert_exporter": "python",
   "pygments_lexer": "ipython2",
   "version": "2.7.11"
  }
 },
 "nbformat": 4,
 "nbformat_minor": 0
}
