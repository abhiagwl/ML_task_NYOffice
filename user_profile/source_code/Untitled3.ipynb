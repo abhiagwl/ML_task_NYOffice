{
 "cells": [
  {
   "cell_type": "code",
   "execution_count": 17,
   "metadata": {
    "collapsed": true
   },
   "outputs": [],
   "source": [
    "from time import time as tim\n",
    "import pandas as pd\n",
    "import numpy as np \n",
    "from pandas import Series\n",
    "domains=pd.read_csv(\"all_domain.csv\",header=None)\n",
    "\n",
    "import os\n",
    "root_dir = os.path.abspath('../..')\n",
    "task_dir= os.path.join(root_dir,'user_profile')\n",
    "data_dir=os.path.join(task_dir,'data')\n",
    "final_data=os.path.join(data_dir,\"final_scrap\")\n",
    "\n",
    "import urllib\n",
    "import re\n",
    "import time\n",
    "from threading import Thread\n",
    "import MySQLdb\n",
    "import mechanize\n",
    "import readability\n",
    "from bs4 import BeautifulSoup\n",
    "from readability.readability import Document\n",
    "import urlparse\n",
    "\n",
    "def scraper(root,steps):\n",
    "    urls = [root]\n",
    "    visited = [root]\n",
    "    counter = 0\n",
    "    scraped=[]\n",
    "    while counter < steps:\n",
    "        step_url = scrapeStep(urls,scraped)\n",
    "        urls = []\n",
    "        for u in step_url:\n",
    "            if u not in visited and str(urlparse.urlparse(u).hostname) in urlparse.urlparse(root).hostname :\n",
    "                urls.append(u)\n",
    "                visited.append(u)\n",
    "        counter+=1\n",
    "    return visited\n",
    "\n",
    "def scrapeStep(root,scraped):\n",
    "    result_urls = []\n",
    "    br = mechanize.Browser()\n",
    "    br.set_handle_robots(False)\n",
    "    br.addheaders = [('User-agent', 'Firefox')]\n",
    "\n",
    "    for url in root:\n",
    "        if url not in scraped:\n",
    "            try:\n",
    "                br.open(url)\n",
    "                for link in br.links():\n",
    "                    newurl = urlparse.urljoin(link.base_url,link.url)\n",
    "                    result_urls.append(newurl)\n",
    "                scraped.append(url)\n",
    "            except:\n",
    "                error= \"error\"\n",
    "    return result_urls\n"
   ]
  },
  {
   "cell_type": "code",
   "execution_count": 15,
   "metadata": {
    "collapsed": false,
    "scrolled": true
   },
   "outputs": [
    {
     "name": "stdout",
     "output_type": "stream",
     "text": [
      "55.2723751068\n",
      "55.1189758778\n",
      "95.8254408836\n",
      "3.44997596741\n",
      "20.8815259933\n",
      "74.3568029404\n",
      "47.7354929447\n",
      "14.6603469849\n",
      "149.029189825\n",
      "8.01013803482\n",
      "8.28087806702\n",
      "8.0127260685\n",
      "30.8851690292\n",
      "198.618042946\n",
      "48.5856511593\n",
      "337.860486984\n",
      "10.372795105\n",
      "30.0470509529\n",
      "46.9122810364\n",
      "2.00318694115\n",
      "10.0406520367\n",
      "21.9634168148\n",
      "5.50250411034\n",
      "2.50847005844\n",
      "151.637122154\n"
     ]
    },
    {
     "ename": "NameError",
     "evalue": "name 'final_data' is not defined",
     "output_type": "error",
     "traceback": [
      "\u001b[1;31m---------------------------------------------------------------------------\u001b[0m",
      "\u001b[1;31mNameError\u001b[0m                                 Traceback (most recent call last)",
      "\u001b[1;32m<ipython-input-15-ed0e695c9140>\u001b[0m in \u001b[0;36m<module>\u001b[1;34m()\u001b[0m\n\u001b[0;32m      6\u001b[0m     \u001b[1;32mprint\u001b[0m\u001b[1;33m(\u001b[0m\u001b[0mt2\u001b[0m\u001b[1;33m-\u001b[0m\u001b[0mt1\u001b[0m\u001b[1;33m)\u001b[0m\u001b[1;33m\u001b[0m\u001b[0m\n\u001b[0;32m      7\u001b[0m     \u001b[1;32mif\u001b[0m \u001b[1;33m(\u001b[0m\u001b[0mn\u001b[0m\u001b[1;33m+\u001b[0m\u001b[1;36m1\u001b[0m\u001b[1;33m)\u001b[0m\u001b[1;33m%\u001b[0m\u001b[1;36m25\u001b[0m\u001b[1;33m==\u001b[0m\u001b[1;36m0\u001b[0m\u001b[1;33m:\u001b[0m\u001b[1;33m\u001b[0m\u001b[0m\n\u001b[1;32m----> 8\u001b[1;33m         \u001b[0mSeries\u001b[0m\u001b[1;33m(\u001b[0m\u001b[0mscraps\u001b[0m\u001b[1;33m)\u001b[0m\u001b[1;33m.\u001b[0m\u001b[0mto_csv\u001b[0m\u001b[1;33m(\u001b[0m\u001b[0mos\u001b[0m\u001b[1;33m.\u001b[0m\u001b[0mpath\u001b[0m\u001b[1;33m.\u001b[0m\u001b[0mjoin\u001b[0m\u001b[1;33m(\u001b[0m\u001b[0mfinal_data\u001b[0m\u001b[1;33m,\u001b[0m\u001b[1;34m\"scraped_data_\"\u001b[0m\u001b[1;33m+\u001b[0m\u001b[0mstr\u001b[0m\u001b[1;33m(\u001b[0m\u001b[0mn\u001b[0m\u001b[1;33m+\u001b[0m\u001b[1;36m1\u001b[0m\u001b[1;33m)\u001b[0m\u001b[1;33m+\u001b[0m\u001b[1;34m\".csv\"\u001b[0m\u001b[1;33m)\u001b[0m\u001b[1;33m)\u001b[0m\u001b[1;33m\u001b[0m\u001b[0m\n\u001b[0m",
      "\u001b[1;31mNameError\u001b[0m: name 'final_data' is not defined"
     ]
    }
   ],
   "source": [
    "scraps=[]\n",
    "for dom,n in zip(domains[1][375:],domains[1][375:].index.values):\n",
    "    t1=tim()\n",
    "    scraps=scraps+scraper(dom,2)[1:]\n",
    "    t2=tim()\n",
    "    print(t2-t1)\n",
    "    if (n+1)%25==0:\n",
    "        Series(scraps).to_csv(os.path.join(final_data,\"scraped_data_\"+str(n+1)+\".csv\"))"
   ]
  },
  {
   "cell_type": "code",
   "execution_count": null,
   "metadata": {
    "collapsed": false,
    "scrolled": false
   },
   "outputs": [
    {
     "name": "stdout",
     "output_type": "stream",
     "text": [
      "2.60201215744\n",
      "57.1081988811\n",
      "5.97024798393\n",
      "4.48832392693\n",
      "182.061649084\n",
      "8.64134883881\n",
      "2.03562903404\n",
      "41.6811640263\n",
      "9.2098031044\n",
      "127.875308037\n",
      "46.9731647968\n",
      "63.3402569294\n",
      "6.10449099541\n",
      "1534.11419797\n",
      "6.95815515518\n",
      "89.1596329212\n",
      "39.4422299862\n",
      "12.8891091347\n",
      "6.11031484604\n",
      "0.0718929767609\n",
      "173.177281857\n",
      "1.51151108742\n",
      "83.5736529827\n"
     ]
    }
   ],
   "source": [
    "scraps_2=[]\n",
    "for dom,n in zip(domains[1][280:375],domains[1][280:375].index.values):\n",
    "    t1=tim()\n",
    "    scraps_2=scraps_2+scraper(dom,2)[1:]\n",
    "    t2=tim()\n",
    "    print(t2-t1)\n",
    "    if (n+1)%25==0:\n",
    "        Series(scraps_2).to_csv(os.path.join(final_data,\"scraped_data_\"+str(n+1)+\".csv\"))"
   ]
  },
  {
   "cell_type": "code",
   "execution_count": 18,
   "metadata": {
    "collapsed": false
   },
   "outputs": [
    {
     "data": {
      "text/plain": [
       "'/home/abhinav/ML_tasks/user_profile/data/final_scrap'"
      ]
     },
     "execution_count": 18,
     "metadata": {},
     "output_type": "execute_result"
    }
   ],
   "source": [
    "final_data"
   ]
  },
  {
   "cell_type": "code",
   "execution_count": 19,
   "metadata": {
    "collapsed": false
   },
   "outputs": [
    {
     "data": {
      "text/plain": [
       "7846"
      ]
     },
     "execution_count": 19,
     "metadata": {},
     "output_type": "execute_result"
    }
   ],
   "source": [
    "len(scraps)"
   ]
  },
  {
   "cell_type": "code",
   "execution_count": 20,
   "metadata": {
    "collapsed": false
   },
   "outputs": [
    {
     "data": {
      "text/plain": [
       "399"
      ]
     },
     "execution_count": 20,
     "metadata": {},
     "output_type": "execute_result"
    }
   ],
   "source": [
    "n"
   ]
  },
  {
   "cell_type": "code",
   "execution_count": 21,
   "metadata": {
    "collapsed": true
   },
   "outputs": [],
   "source": [
    "Series(scraps).to_csv(os.path.join(final_data,\"scraped_data_\"+str(n+1)+\".csv\"))"
   ]
  },
  {
   "cell_type": "code",
   "execution_count": 22,
   "metadata": {
    "collapsed": false,
    "scrolled": true
   },
   "outputs": [
    {
     "name": "stdout",
     "output_type": "stream",
     "text": [
      "142.873800039\n",
      "32.7615170479\n",
      "6.70660614967\n",
      "41.5847709179\n",
      "228.390719891\n",
      "130.189228058\n",
      "47.5132679939\n",
      "42.9997420311\n",
      "46.1500511169\n",
      "41.8550140858\n",
      "270.311576843\n",
      "78.5033991337\n",
      "4.38397598267\n",
      "191.249533892\n",
      "5.08020114899\n",
      "136.288897038\n",
      "0.841253042221\n",
      "48.4155631065\n",
      "92.0263080597\n",
      "27.6097919941\n",
      "5.35514903069\n",
      "17.9150650501\n",
      "84.8938760757\n",
      "16.3307430744\n",
      "1.55988407135\n",
      "19.5785331726\n",
      "1.19620800018\n",
      "5.3582098484\n",
      "43.6636459827\n",
      "44.4177451134\n",
      "1.31122899055\n",
      "27.4442880154\n",
      "92.1154851913\n",
      "12.9357540607\n",
      "0.909982919693\n",
      "123.779853106\n",
      "6.56124901772\n",
      "3.09687995911\n",
      "376.472854137\n",
      "7.20838189125\n",
      "25.7770450115\n",
      "3.19423007965\n",
      "3.44436979294\n",
      "426.92307806\n",
      "28.5117149353\n",
      "17.6498830318\n",
      "54.0934519768\n",
      "17.6436679363\n",
      "3.80742192268\n",
      "6.30903100967\n",
      "1.1914358139\n",
      "6.79276704788\n",
      "3.56855607033\n",
      "141.431978941\n",
      "25.5259869099\n",
      "28.0812571049\n",
      "55.0311450958\n",
      "5.67397904396\n",
      "383.322918892\n",
      "188.500507116\n",
      "1609.24781108\n",
      "1321.54333305\n",
      "13.047219038\n",
      "46.4968509674\n",
      "47.1660919189\n",
      "38.3698217869\n",
      "1120.11902881\n",
      "1.52553296089\n",
      "111.201596022\n",
      "69.2636010647\n",
      "104.484972954\n",
      "1.79383516312\n",
      "9.51982688904\n",
      "2.68827390671\n",
      "49.542265892\n",
      "10.6256079674\n",
      "95.9598689079\n",
      "2252.72747397\n",
      "30.2434391975\n",
      "118.030103922\n",
      "10.6126928329\n",
      "54.7279379368\n",
      "22.5635411739\n",
      "170.942560911\n",
      "3.76953697205\n",
      "13.3718969822\n"
     ]
    }
   ],
   "source": [
    "for dom,n in zip(domains[1][400:],domains[1][400:].index.values):\n",
    "    t1=tim()\n",
    "    scraps=scraps+scraper(dom,2)[1:]\n",
    "    t2=tim()\n",
    "    print(t2-t1)\n",
    "    if (n+1)%25==0:\n",
    "        Series(scraps).to_csv(os.path.join(final_data,\"scraped_data_\"+str(n+1)+\".csv\"))\n",
    "Series(scraps).to_csv(os.path.join(final_data,\"scraped_data_\"+str(n+1)+\".csv\"))"
   ]
  },
  {
   "cell_type": "code",
   "execution_count": 2,
   "metadata": {
    "collapsed": false
   },
   "outputs": [],
   "source": [
    "st=\"\"\"194.751921892\n",
    "2.22423195839\n",
    "8.24457597733\n",
    "217.448575974\n",
    "3.34938502312\n",
    "13.4696619511\n",
    "189.579473972\n",
    "148.757947922\n",
    "90.3442020416\n",
    "159.621577024\n",
    "1.73655700684\n",
    "1.15670800209\n",
    "18.0961639881\n",
    "6.90892291069\n",
    "7.24434804916\n",
    "124.378511906\n",
    "3.43828105927\n",
    "11.1292979717\n",
    "32.9287221432\n",
    "144.899539948\n",
    "142.859950066\n",
    "431.467484951\n",
    "2.63235402107\n",
    "7.32353711128\n",
    "1.77055716515\n",
    "27.0764169693\n",
    "11.6666040421\n",
    "6.07244205475\n",
    "36.0739839077\n",
    "16.7323179245\n",
    "6.58916902542\n",
    "157.045274019\n",
    "58.8701758385\n",
    "56.9023110867\n",
    "5.26991200447\n",
    "4.45962905884\n",
    "51.3621180058\n",
    "185.357097864\n",
    "4.70995378494\n",
    "1.11519598961\n",
    "3.19915294647\n",
    "118.754016876\n",
    "1.5171649456\n",
    "3.49164509773\n",
    "28.1384451389\n",
    "6.47755694389\n",
    "3.33137083054\n",
    "58.0593419075\n",
    "20.3020398617\n",
    "398.862386942\n",
    "2.85668897629\n",
    "48.1289877892\n",
    "40.48447299\n",
    "8.8074529171\n",
    "99.5584480762\n",
    "120.472240925\n",
    "47.5047490597\n",
    "12.7014000416\n",
    "138.53344202\n",
    "242.047641039\n",
    "6.67265200615\n",
    "65.193048954\n",
    "0.177645206451\n",
    "44.9455378056\n",
    "128.099573135\n",
    "169.554277182\n",
    "179.418523073\n",
    "119.261615038\n",
    "2.57776498795\n",
    "232.475931883\n",
    "215.131099224\n",
    "33.9975500107\n",
    "60.6170918941\n",
    "2.02988696098\n",
    "58.5834050179\n",
    "230.89860487\n",
    "16.203815937\n",
    "357.258817911\n",
    "9.27284193039\n",
    "107.923258066\n",
    "30.8095300198\n",
    "178.547682047\n",
    "218.81850791\n",
    "5.06183409691\n",
    "45.3452651501\n",
    "39.2561178207\n",
    "26.4156041145\n",
    "294.315361023\n",
    "338.457037926\n",
    "43.2516131401\n",
    "3.06707787514\n",
    "108.999185085\n",
    "0.927648067474\n",
    "111.783458948\n",
    "139.526983976\n",
    "14527.227747\n",
    "14516.8499491\n",
    "60.8222930431\n",
    "15.5630440712\n",
    "24.0951189995\n",
    "14.8245079517\n",
    "14506.751792\"\"\""
   ]
  },
  {
   "cell_type": "code",
   "execution_count": 3,
   "metadata": {
    "collapsed": false
   },
   "outputs": [
    {
     "data": {
      "text/plain": [
       "102"
      ]
     },
     "execution_count": 3,
     "metadata": {},
     "output_type": "execute_result"
    }
   ],
   "source": [
    "len(st.split())"
   ]
  },
  {
   "cell_type": "code",
   "execution_count": 4,
   "metadata": {
    "collapsed": true
   },
   "outputs": [],
   "source": [
    "s=\"\"\"14.0814049244\n",
    "14506.4269209\n",
    "14440.6525719\n",
    "1.40805101395\n",
    "5.88250303268\n",
    "2.44091105461\n",
    "8.52403497696\n",
    "6.50163006783\n",
    "11.7285578251\n",
    "3.47911500931\n",
    "77.5142281055\n",
    "24.4357609749\n",
    "17.3371219635\"\"\""
   ]
  },
  {
   "cell_type": "code",
   "execution_count": 6,
   "metadata": {
    "collapsed": false
   },
   "outputs": [
    {
     "data": {
      "text/plain": [
       "13"
      ]
     },
     "execution_count": 6,
     "metadata": {},
     "output_type": "execute_result"
    }
   ],
   "source": [
    "len(s.split())"
   ]
  },
  {
   "cell_type": "code",
   "execution_count": null,
   "metadata": {
    "collapsed": true
   },
   "outputs": [],
   "source": []
  }
 ],
 "metadata": {
  "kernelspec": {
   "display_name": "Python 2",
   "language": "python",
   "name": "python2"
  },
  "language_info": {
   "codemirror_mode": {
    "name": "ipython",
    "version": 2
   },
   "file_extension": ".py",
   "mimetype": "text/x-python",
   "name": "python",
   "nbconvert_exporter": "python",
   "pygments_lexer": "ipython2",
   "version": "2.7.11"
  }
 },
 "nbformat": 4,
 "nbformat_minor": 0
}
