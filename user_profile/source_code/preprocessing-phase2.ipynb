{
 "cells": [
  {
   "cell_type": "code",
   "execution_count": 121,
   "metadata": {
    "collapsed": false
   },
   "outputs": [],
   "source": [
    "save_sparse_csr(\"full_working_data\",x_data)\n",
    "save_sparse_csr(\"labels_of_full_working_data\",y_data)"
   ]
  },
  {
   "cell_type": "code",
   "execution_count": 308,
   "metadata": {
    "collapsed": false
   },
   "outputs": [
    {
     "name": "stdout",
     "output_type": "stream",
     "text": [
      "Once deleted, variables cannot be recovered. Proceed (y/[n])? y\n"
     ]
    }
   ],
   "source": [
    "%reset"
   ]
  },
  {
   "cell_type": "code",
   "execution_count": 12,
   "metadata": {
    "collapsed": false
   },
   "outputs": [
    {
     "data": {
      "text/plain": [
       "['Series',\n",
       " 'data_dir',\n",
       " 'data_set',\n",
       " 'final_data',\n",
       " 'ngrams',\n",
       " 'np',\n",
       " 'pd',\n",
       " 'pickle',\n",
       " 'profile_urls',\n",
       " 'root_dir',\n",
       " 'task_dir']"
      ]
     },
     "execution_count": 12,
     "metadata": {},
     "output_type": "execute_result"
    }
   ],
   "source": [
    "%who_ls"
   ]
  },
  {
   "cell_type": "code",
   "execution_count": 316,
   "metadata": {
    "collapsed": true
   },
   "outputs": [],
   "source": [
    "urls=pd.read_csv(os.path.join(final_data,\"final_scraped_urls.csv\"),header=None)[1]"
   ]
  },
  {
   "cell_type": "code",
   "execution_count": 1,
   "metadata": {
    "collapsed": false,
    "scrolled": true
   },
   "outputs": [],
   "source": [
    "from nltk import ngrams\n",
    "import pandas as pd\n",
    "import numpy as np \n",
    "from pandas import Series\n",
    "import pickle\n",
    "import os\n",
    "pd.options.display.max_rows=3000\n",
    "root_dir = os.path.abspath('../..')\n",
    "task_dir= os.path.join(root_dir,'user_profile')\n",
    "data_dir=os.path.join(task_dir,'data')\n",
    "final_data=os.path.join(data_dir,\"final_scrap\")"
   ]
  },
  {
   "cell_type": "code",
   "execution_count": 7,
   "metadata": {
    "collapsed": true
   },
   "outputs": [],
   "source": [
    "import urlparse\n",
    "def hostname(x):\n",
    "    return urlparse.urlparse(x).hostname\n",
    "\n",
    "def path(x):\n",
    "    return urlparse.urlparse(x).path\n",
    "\n",
    "def preprocessor(list_):\n",
    "    return list(\"\".join(list_))\n",
    "\n",
    "def gram_generator(x):\n",
    "    grams = ngrams(x, 3)\n",
    "    return [\"\".join(gram) for gram in grams]\n",
    "\n",
    "def character_extracter(x):\n",
    "    return x.str.lower().str.replace(\"http\",\".\").str.replace(\"www\",\".\").str.findall(r\"\\w+\").apply(preprocessor)\n",
    "\n",
    "\n",
    "def joined(list_):\n",
    "    return \" \".join(list_)"
   ]
  },
  {
   "cell_type": "code",
   "execution_count": 174,
   "metadata": {
    "collapsed": true
   },
   "outputs": [],
   "source": [
    "from scipy.sparse import *"
   ]
  },
  {
   "cell_type": "code",
   "execution_count": 155,
   "metadata": {
    "collapsed": true
   },
   "outputs": [],
   "source": [
    "def save_sparse_csr(filename,array):\n",
    "    np.savez(filename,data = array.data ,indices=array.indices,\n",
    "             indptr =array.indptr, shape=array.shape )\n",
    "\n",
    "def load_sparse_csr(filename):\n",
    "    loader = np.load(filename)\n",
    "    return csr_matrix((  loader['data'], loader['indices'], loader['indptr']),\n",
    "                         shape = loader['shape'])"
   ]
  },
  {
   "cell_type": "code",
   "execution_count": 156,
   "metadata": {
    "collapsed": false
   },
   "outputs": [],
   "source": [
    "from sklearn import svm\n",
    "from sklearn.utils import shuffle"
   ]
  },
  {
   "cell_type": "code",
   "execution_count": 12,
   "metadata": {
    "collapsed": true
   },
   "outputs": [],
   "source": [
    "\"\"\"Opens and stores the vocab for generating 3-gram features into vocab_ list for vectorizer input\"\"\"\n",
    "\n",
    "the_filename=\"test_vocab\"\n",
    "with open(the_filename, 'rb') as f:\n",
    "    vocab_ = pickle.load(f)"
   ]
  },
  {
   "cell_type": "code",
   "execution_count": 18,
   "metadata": {
    "collapsed": false,
    "scrolled": true
   },
   "outputs": [
    {
     "data": {
      "text/plain": [
       "'generating vocab for feature extraction'"
      ]
     },
     "execution_count": 18,
     "metadata": {},
     "output_type": "execute_result"
    }
   ],
   "source": [
    "from sklearn.feature_extraction.text import CountVectorizer\n",
    "vectorizerY= CountVectorizer(min_df=1)\n",
    "vectorizerY.fit_transform(vocab_)\n",
    "\"\"\"generating vocab for feature extraction\"\"\""
   ]
  },
  {
   "cell_type": "code",
   "execution_count": null,
   "metadata": {
    "collapsed": true
   },
   "outputs": [],
   "source": [
    "vectorizerY.transform(profile_urls[])"
   ]
  },
  {
   "cell_type": "code",
   "execution_count": 256,
   "metadata": {
    "collapsed": true
   },
   "outputs": [],
   "source": [
    "%reset_selective -f profile_urls\n",
    "%reset_selective -f non_profile_urls\n",
    "%reset_selective -f x_\n",
    "%reset_selective -f y_"
   ]
  },
  {
   "cell_type": "code",
   "execution_count": 257,
   "metadata": {
    "collapsed": true
   },
   "outputs": [],
   "source": [
    "#load the saved files\n",
    "profile_urls=pd.read_csv(os.path.join(final_data,\"profile_urls_from_working_data.csv\"),header=None)[1]\n",
    "non_profile_urls=pd.read_csv(os.path.join(final_data,\"non_profile_urls_from_working_data.csv\"),header=None)[1]"
   ]
  },
  {
   "cell_type": "code",
   "execution_count": 16,
   "metadata": {
    "collapsed": false,
    "scrolled": true
   },
   "outputs": [],
   "source": [
    "special_characters=['#','/', '%', '~', '=','?','&',\"-\",\"(\",\")\",\"+\",\"@\",\"[\",\"]\",\"'\",\"*\"]"
   ]
  },
  {
   "cell_type": "code",
   "execution_count": 159,
   "metadata": {
    "collapsed": false,
    "scrolled": true
   },
   "outputs": [],
   "source": [
    "special_=[\" \".join(special_)]"
   ]
  },
  {
   "cell_type": "code",
   "execution_count": 141,
   "metadata": {
    "collapsed": false
   },
   "outputs": [
    {
     "data": {
      "text/plain": [
       "<1x16 sparse matrix of type '<type 'numpy.int64'>'\n",
       "\twith 16 stored elements in Compressed Sparse Row format>"
      ]
     },
     "execution_count": 141,
     "metadata": {},
     "output_type": "execute_result"
    }
   ],
   "source": [
    "vectorizer_spcl= CountVectorizer(min_df=1)\n",
    "vectorizer_spcl.fit_transform([\" \".join(special_)])"
   ]
  },
  {
   "cell_type": "code",
   "execution_count": 150,
   "metadata": {
    "collapsed": false
   },
   "outputs": [],
   "source": [
    "def encoder(x):\n",
    "    x=x.str.replace(\"http://|https://\",\"\").str.findall(\"[^\\:\\w\\.]\").apply(joined)\n",
    "    for n,spcl in enumerate(special_characters):\n",
    "        x=x.str.replace(spcl,str(n+10))\n",
    "    return x"
   ]
  },
  {
   "cell_type": "code",
   "execution_count": 185,
   "metadata": {
    "collapsed": false
   },
   "outputs": [
    {
     "data": {
      "text/plain": [
       "<14961x1 sparse matrix of type '<type 'numpy.int64'>'\n",
       "\twith 14961 stored elements in Compressed Sparse Column format>"
      ]
     },
     "execution_count": 185,
     "metadata": {},
     "output_type": "execute_result"
    }
   ],
   "source": [
    "csc_matrix(np.reshape(profile_urls.str.len().as_matrix(),(profile_urls.shape[0],1)))"
   ]
  },
  {
   "cell_type": "code",
   "execution_count": 294,
   "metadata": {
    "collapsed": false
   },
   "outputs": [],
   "source": [
    "x_positive_len=csc_matrix(np.reshape(profile_urls.str.len().as_matrix(),(profile_urls.shape[0],1)))\n",
    "x_negative_len=csc_matrix(np.reshape(non_profile_urls.str.len().as_matrix(),(non_profile_urls.shape[0],1)))"
   ]
  },
  {
   "cell_type": "code",
   "execution_count": 295,
   "metadata": {
    "collapsed": false,
    "scrolled": false
   },
   "outputs": [],
   "source": [
    "x_spcl_positive=vectorizer_spcl.transform(encoder(profile_urls).values)\n",
    "x_spcl_negative=vectorizer_spcl.transform(encoder(non_profile_urls).values)"
   ]
  },
  {
   "cell_type": "code",
   "execution_count": 296,
   "metadata": {
    "collapsed": false
   },
   "outputs": [],
   "source": [
    "x_positive,y_positive=complete_processor(profile_urls,type_=1)\n",
    "x_negative,y_negative=complete_processor(non_profile_urls,type_=0)"
   ]
  },
  {
   "cell_type": "code",
   "execution_count": 188,
   "metadata": {
    "collapsed": false
   },
   "outputs": [
    {
     "data": {
      "text/plain": [
       "(14961, 1)"
      ]
     },
     "execution_count": 188,
     "metadata": {},
     "output_type": "execute_result"
    }
   ],
   "source": [
    "x_positive_len.shape"
   ]
  },
  {
   "cell_type": "code",
   "execution_count": 261,
   "metadata": {
    "collapsed": false
   },
   "outputs": [],
   "source": [
    "x_pos=hstack([x_positive,x_spcl_positive,x_positive_len])\n",
    "x_neg=hstack([x_negative,x_spcl_negative,x_negative_len])"
   ]
  },
  {
   "cell_type": "code",
   "execution_count": 216,
   "metadata": {
    "collapsed": true
   },
   "outputs": [],
   "source": [
    "x_pos=hstack([x_positive,x_positive_len])\n",
    "x_neg=hstack([x_negative,x_negative_len])"
   ]
  },
  {
   "cell_type": "code",
   "execution_count": 297,
   "metadata": {
    "collapsed": true
   },
   "outputs": [],
   "source": [
    "x_pos=hstack([x_spcl_positive,x_positive_len])\n",
    "x_neg=hstack([x_spcl_negative,x_negative_len])"
   ]
  },
  {
   "cell_type": "code",
   "execution_count": 161,
   "metadata": {
    "collapsed": false
   },
   "outputs": [],
   "source": [
    "def complete_processor(x,type_=1):\n",
    "    x=x.iloc[np.random.permutation(x.shape[0])]\n",
    "    x=character_extracter(x)\n",
    "    x=x.apply(gram_generator).apply(joined).values\n",
    "    x_=vectorizerY.transform(x)\n",
    "    if type_==1:\n",
    "        y_=csr_matrix(np.ones((x_.shape[0],1)))\n",
    "    elif type_==0:\n",
    "        y_=csr_matrix(np.zeros((x.shape[0],1)))\n",
    "\n",
    "    return x_,y_"
   ]
  },
  {
   "cell_type": "code",
   "execution_count": 192,
   "metadata": {
    "collapsed": true
   },
   "outputs": [],
   "source": [
    "def label_formatter(y):\n",
    "    return np.reshape(y.toarray(),(y.shape[0],))"
   ]
  },
  {
   "cell_type": "code",
   "execution_count": 298,
   "metadata": {
    "collapsed": false,
    "scrolled": true
   },
   "outputs": [],
   "source": [
    "x_data=vstack([x_neg,x_pos])\n",
    "y_data=vstack([y_negative,y_positive])\n",
    "x_data,y_data=shuffle(x_data,y_data)"
   ]
  },
  {
   "cell_type": "code",
   "execution_count": 299,
   "metadata": {
    "collapsed": true
   },
   "outputs": [],
   "source": [
    "x_train=x_data[:60000,:]\n",
    "y_train=y_data[:60000,:]\n",
    "x_val=x_data[60000:75000,:]\n",
    "y_val=y_data[60000:75000,:]\n",
    "x_test=x_data[75000:,:]\n",
    "y_test=y_data[75000:,:]"
   ]
  },
  {
   "cell_type": "code",
   "execution_count": 300,
   "metadata": {
    "collapsed": false,
    "scrolled": true
   },
   "outputs": [],
   "source": [
    "clf=svm.LinearSVC(C=1.0).fit(x_train,label_formatter(y_train))"
   ]
  },
  {
   "cell_type": "code",
   "execution_count": 287,
   "metadata": {
    "collapsed": false,
    "scrolled": true
   },
   "outputs": [
    {
     "data": {
      "text/plain": [
       "0.97666666666666668"
      ]
     },
     "execution_count": 287,
     "metadata": {},
     "output_type": "execute_result"
    }
   ],
   "source": [
    "clf.score(x_val,label_formatter(y_val))"
   ]
  },
  {
   "cell_type": "code",
   "execution_count": 288,
   "metadata": {
    "collapsed": false,
    "scrolled": true
   },
   "outputs": [
    {
     "data": {
      "text/plain": [
       "0.9926666666666667"
      ]
     },
     "execution_count": 288,
     "metadata": {},
     "output_type": "execute_result"
    }
   ],
   "source": [
    "clf.score(x_train,label_formatter(y_train))"
   ]
  },
  {
   "cell_type": "code",
   "execution_count": 301,
   "metadata": {
    "collapsed": false,
    "scrolled": true
   },
   "outputs": [
    {
     "data": {
      "text/plain": [
       "0.26348348871656357"
      ]
     },
     "execution_count": 301,
     "metadata": {},
     "output_type": "execute_result"
    }
   ],
   "source": [
    "f1_score(label_formatter(y_train),clf.predict(x_train))"
   ]
  },
  {
   "cell_type": "code",
   "execution_count": 302,
   "metadata": {
    "collapsed": false,
    "scrolled": true
   },
   "outputs": [
    {
     "data": {
      "text/plain": [
       "0.26950842213819182"
      ]
     },
     "execution_count": 302,
     "metadata": {},
     "output_type": "execute_result"
    }
   ],
   "source": [
    "f1_score(label_formatter(y_val),clf.predict(x_val))"
   ]
  },
  {
   "cell_type": "code",
   "execution_count": 277,
   "metadata": {
    "collapsed": false
   },
   "outputs": [
    {
     "data": {
      "text/plain": [
       "0.978024737866516"
      ]
     },
     "execution_count": 277,
     "metadata": {},
     "output_type": "execute_result"
    }
   ],
   "source": [
    "clf.score(x_test,label_formatter(y_test))"
   ]
  },
  {
   "cell_type": "code",
   "execution_count": 304,
   "metadata": {
    "collapsed": false,
    "scrolled": true
   },
   "outputs": [
    {
     "data": {
      "text/plain": [
       "0.950345694531741"
      ]
     },
     "execution_count": 304,
     "metadata": {},
     "output_type": "execute_result"
    }
   ],
   "source": [
    "precision_score(label_formatter(y_train),clf.predict(x_train))"
   ]
  },
  {
   "cell_type": "code",
   "execution_count": 303,
   "metadata": {
    "collapsed": false
   },
   "outputs": [
    {
     "data": {
      "text/plain": [
       "0.15294355654460853"
      ]
     },
     "execution_count": 303,
     "metadata": {},
     "output_type": "execute_result"
    }
   ],
   "source": [
    "recall_score(label_formatter(y_train),clf.predict(x_train))"
   ]
  },
  {
   "cell_type": "code",
   "execution_count": 200,
   "metadata": {
    "collapsed": true
   },
   "outputs": [],
   "source": [
    "from sklearn.metrics import *"
   ]
  },
  {
   "cell_type": "code",
   "execution_count": 305,
   "metadata": {
    "collapsed": true
   },
   "outputs": [],
   "source": [
    "import cPickle\n",
    "with open('svm_with_higher_precision.pkl', 'wb') as fid:\n",
    "    cPickle.dump(clf, fid)    "
   ]
  },
  {
   "cell_type": "code",
   "execution_count": 255,
   "metadata": {
    "collapsed": false
   },
   "outputs": [],
   "source": [
    "with open('feature_genrator_special_charac.pkl', 'wb') as fid:\n",
    "    cPickle.dump(vectorizer_spcl,fid)"
   ]
  },
  {
   "cell_type": "code",
   "execution_count": 251,
   "metadata": {
    "collapsed": true
   },
   "outputs": [],
   "source": [
    "with open('feature_genrator.pkl', 'rb') as fid:\n",
    "    vec_loaded=cPickle.load(fid)"
   ]
  },
  {
   "cell_type": "code",
   "execution_count": 235,
   "metadata": {
    "collapsed": false
   },
   "outputs": [],
   "source": [
    "import cPickle\n",
    "# load it again\n",
    "with open('svm_with_higher_recall.pkl', 'rb') as fid:\n",
    "    clf_loaded = cPickle.load(fid)"
   ]
  },
  {
   "cell_type": "code",
   "execution_count": 8,
   "metadata": {
    "collapsed": true
   },
   "outputs": [],
   "source": [
    "data_set=pd.read_csv(os.path.join(data_dir,\"data_augmented.csv\")).Sources1"
   ]
  },
  {
   "cell_type": "code",
   "execution_count": 3,
   "metadata": {
    "collapsed": true
   },
   "outputs": [],
   "source": [
    "profile_urls=pd.read_csv(os.path.join(final_data,\"profile_urls_from_working_data.csv\"),header=None)[1]"
   ]
  },
  {
   "cell_type": "code",
   "execution_count": 9,
   "metadata": {
    "collapsed": true
   },
   "outputs": [],
   "source": [
    "data_set=data_set[np.invert(data_set.isin(profile_urls))]"
   ]
  },
  {
   "cell_type": "code",
   "execution_count": 11,
   "metadata": {
    "collapsed": false
   },
   "outputs": [],
   "source": [
    "data_set.to_csv(os.path.join(data_dir,\"not_captured_in_scrapping.csv\"),index_label=None,index=None)"
   ]
  },
  {
   "cell_type": "code",
   "execution_count": 13,
   "metadata": {
    "collapsed": false
   },
   "outputs": [
    {
     "data": {
      "text/plain": [
       "0      http://www.math.tamu.edu/~rowell/\n",
       "1      http://www.math.tamu.edu/~sdutta/\n",
       "2      http://www.math.tamu.edu/~fulges/\n",
       "3         http://www.math.tamu.edu/~jml/\n",
       "4        http://www.math.tamu.edu/~kerr/\n",
       "5       http://www.math.tamu.edu/~steve/\n",
       "6    http://www.math.tamu.edu/~belmonte/\n",
       "7     http://www.math.tamu.edu/~dmanuel/\n",
       "8       http://www.math.tamu.edu/~fatma/\n",
       "9       http://www.math.tamu.edu/~laura/\n",
       "Name: 1, dtype: object"
      ]
     },
     "execution_count": 13,
     "metadata": {},
     "output_type": "execute_result"
    }
   ],
   "source": [
    "profile_urls[:10]"
   ]
  },
  {
   "cell_type": "code",
   "execution_count": null,
   "metadata": {
    "collapsed": true
   },
   "outputs": [],
   "source": []
  }
 ],
 "metadata": {
  "kernelspec": {
   "display_name": "Python 2",
   "language": "python",
   "name": "python2"
  },
  "language_info": {
   "codemirror_mode": {
    "name": "ipython",
    "version": 2
   },
   "file_extension": ".py",
   "mimetype": "text/x-python",
   "name": "python",
   "nbconvert_exporter": "python",
   "pygments_lexer": "ipython2",
   "version": "2.7.11"
  }
 },
 "nbformat": 4,
 "nbformat_minor": 0
}
