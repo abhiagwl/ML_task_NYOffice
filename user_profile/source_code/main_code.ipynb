{
 "cells": [
  {
   "cell_type": "code",
   "execution_count": 50,
   "metadata": {
    "collapsed": true
   },
   "outputs": [],
   "source": [
    "data_aug.to_csv(os.path.join(data_dir,\"data_augmented.csv\"))"
   ]
  },
  {
   "cell_type": "code",
   "execution_count": 4,
   "metadata": {
    "collapsed": true
   },
   "outputs": [],
   "source": [
    "data_aug=pd.read_csv(os.path.join(data_dir,\"data_augmented.csv\"))"
   ]
  },
  {
   "cell_type": "code",
   "execution_count": 3,
   "metadata": {
    "collapsed": false
   },
   "outputs": [],
   "source": [
    "#import nltk\n",
    "#from nltk import *\n",
    "import os\n",
    "import numpy as np\n",
    "import pandas as pd\n",
    "from pandas import Series\n",
    "pd.options.display.max_rows=3000\n",
    "root_dir = os.path.abspath('../..')\n",
    "task_dir= os.path.join(root_dir,'user_profile')\n",
    "data_dir=os.path.join(task_dir,'data')\n",
    "data_orig=pd.read_csv(os.path.join(data_dir,'Copy of Computer Science Professors from 55 Top US Schools (Brown University HCI project) - Data.csv'))"
   ]
  },
  {
   "cell_type": "code",
   "execution_count": 3,
   "metadata": {
    "collapsed": true
   },
   "outputs": [],
   "source": [
    "pd.options.display.max_rows=3000"
   ]
  },
  {
   "cell_type": "code",
   "execution_count": 5,
   "metadata": {
    "collapsed": false,
    "scrolled": true
   },
   "outputs": [
    {
     "data": {
      "text/html": [
       "<div>\n",
       "<table border=\"1\" class=\"dataframe\">\n",
       "  <thead>\n",
       "    <tr style=\"text-align: right;\">\n",
       "      <th></th>\n",
       "      <th>Unnamed: 0</th>\n",
       "      <th>Name</th>\n",
       "      <th>University</th>\n",
       "      <th>JoinYear</th>\n",
       "      <th>Rank</th>\n",
       "      <th>Subfield</th>\n",
       "      <th>Bachelors</th>\n",
       "      <th>Masters</th>\n",
       "      <th>Doctorate</th>\n",
       "      <th>PostDoc</th>\n",
       "      <th>Sources1</th>\n",
       "      <th>Sources2</th>\n",
       "      <th>url</th>\n",
       "    </tr>\n",
       "  </thead>\n",
       "  <tbody>\n",
       "    <tr>\n",
       "      <th>0</th>\n",
       "      <td>0</td>\n",
       "      <td>Chitta Baral</td>\n",
       "      <td>Arizona State University</td>\n",
       "      <td>1999</td>\n",
       "      <td>Full</td>\n",
       "      <td>Natural Language &amp; Speech</td>\n",
       "      <td>Indian Institute of Technology - Kanpur - India</td>\n",
       "      <td>University of Maryland - College Park - USA</td>\n",
       "      <td>University of Maryland - College Park - USA</td>\n",
       "      <td>NaN</td>\n",
       "      <td>http://cidse.engineering.asu.edu/directory/chi...</td>\n",
       "      <td>NaN</td>\n",
       "      <td>/directory/chitta-baral/</td>\n",
       "    </tr>\n",
       "    <tr>\n",
       "      <th>1</th>\n",
       "      <td>1</td>\n",
       "      <td>Kasim Candan</td>\n",
       "      <td>Arizona State University</td>\n",
       "      <td>1997</td>\n",
       "      <td>Full</td>\n",
       "      <td>Databases</td>\n",
       "      <td>Bilkent University - Turkey</td>\n",
       "      <td>NaN</td>\n",
       "      <td>University of Maryland - College Park - USA</td>\n",
       "      <td>NaN</td>\n",
       "      <td>http://cidse.engineering.asu.edu/directory/can...</td>\n",
       "      <td>NaN</td>\n",
       "      <td>/directory/candan-k-selcuk/</td>\n",
       "    </tr>\n",
       "    <tr>\n",
       "      <th>2</th>\n",
       "      <td>2</td>\n",
       "      <td>Charles Colbourn</td>\n",
       "      <td>Arizona State University</td>\n",
       "      <td>2001</td>\n",
       "      <td>Full</td>\n",
       "      <td>Networks &amp; Communications</td>\n",
       "      <td>University of Toronto - Canada</td>\n",
       "      <td>University of Waterloo - Ontario - Canada</td>\n",
       "      <td>University of Toronto - Canada</td>\n",
       "      <td>NaN</td>\n",
       "      <td>http://cidse.engineering.asu.edu/directory/cha...</td>\n",
       "      <td>NaN</td>\n",
       "      <td>/directory/charles-colbourn/</td>\n",
       "    </tr>\n",
       "    <tr>\n",
       "      <th>3</th>\n",
       "      <td>3</td>\n",
       "      <td>James Collofello</td>\n",
       "      <td>Arizona State University</td>\n",
       "      <td>1979</td>\n",
       "      <td>Full</td>\n",
       "      <td>Software Engineering</td>\n",
       "      <td>Northern Illinois University - USA</td>\n",
       "      <td>Northern Illinois University - USA</td>\n",
       "      <td>Northwestern University - USA</td>\n",
       "      <td>NaN</td>\n",
       "      <td>http://cidse.engineering.asu.edu/directory/col...</td>\n",
       "      <td>NaN</td>\n",
       "      <td>/directory/collofello-james/</td>\n",
       "    </tr>\n",
       "    <tr>\n",
       "      <th>4</th>\n",
       "      <td>4</td>\n",
       "      <td>Sandeep Gupta</td>\n",
       "      <td>Arizona State University</td>\n",
       "      <td>2001</td>\n",
       "      <td>Full</td>\n",
       "      <td>Distributed &amp; Parallel Computing</td>\n",
       "      <td>NaN</td>\n",
       "      <td>NaN</td>\n",
       "      <td>Ohio State University - USA</td>\n",
       "      <td>NaN</td>\n",
       "      <td>http://cidse.engineering.asu.edu/directory/gup...</td>\n",
       "      <td>NaN</td>\n",
       "      <td>/directory/gupta-sandeep/</td>\n",
       "    </tr>\n",
       "  </tbody>\n",
       "</table>\n",
       "</div>"
      ],
      "text/plain": [
       "   Unnamed: 0              Name                University JoinYear  Rank  \\\n",
       "0           0      Chitta Baral  Arizona State University     1999  Full   \n",
       "1           1      Kasim Candan  Arizona State University     1997  Full   \n",
       "2           2  Charles Colbourn  Arizona State University     2001  Full   \n",
       "3           3  James Collofello  Arizona State University     1979  Full   \n",
       "4           4     Sandeep Gupta  Arizona State University     2001  Full   \n",
       "\n",
       "                           Subfield  \\\n",
       "0         Natural Language & Speech   \n",
       "1                         Databases   \n",
       "2         Networks & Communications   \n",
       "3              Software Engineering   \n",
       "4  Distributed & Parallel Computing   \n",
       "\n",
       "                                         Bachelors  \\\n",
       "0  Indian Institute of Technology - Kanpur - India   \n",
       "1                      Bilkent University - Turkey   \n",
       "2                   University of Toronto - Canada   \n",
       "3               Northern Illinois University - USA   \n",
       "4                                              NaN   \n",
       "\n",
       "                                       Masters  \\\n",
       "0  University of Maryland - College Park - USA   \n",
       "1                                          NaN   \n",
       "2    University of Waterloo - Ontario - Canada   \n",
       "3           Northern Illinois University - USA   \n",
       "4                                          NaN   \n",
       "\n",
       "                                     Doctorate PostDoc  \\\n",
       "0  University of Maryland - College Park - USA     NaN   \n",
       "1  University of Maryland - College Park - USA     NaN   \n",
       "2               University of Toronto - Canada     NaN   \n",
       "3                Northwestern University - USA     NaN   \n",
       "4                  Ohio State University - USA     NaN   \n",
       "\n",
       "                                            Sources1 Sources2  \\\n",
       "0  http://cidse.engineering.asu.edu/directory/chi...      NaN   \n",
       "1  http://cidse.engineering.asu.edu/directory/can...      NaN   \n",
       "2  http://cidse.engineering.asu.edu/directory/cha...      NaN   \n",
       "3  http://cidse.engineering.asu.edu/directory/col...      NaN   \n",
       "4  http://cidse.engineering.asu.edu/directory/gup...      NaN   \n",
       "\n",
       "                            url  \n",
       "0      /directory/chitta-baral/  \n",
       "1   /directory/candan-k-selcuk/  \n",
       "2  /directory/charles-colbourn/  \n",
       "3  /directory/collofello-james/  \n",
       "4     /directory/gupta-sandeep/  "
      ]
     },
     "execution_count": 5,
     "metadata": {},
     "output_type": "execute_result"
    }
   ],
   "source": [
    "data_aug.head()"
   ]
  },
  {
   "cell_type": "code",
   "execution_count": 105,
   "metadata": {
    "collapsed": false
   },
   "outputs": [],
   "source": [
    "index=data_orig[data_orig.columns[:11]].Sources1.str.contains(\"\\.edu|\\.com|\\.net|\\.org|\\.uk|\\.us|\\.il|\\.ca|\\.dk|\\.in|\\.me|\\.de|\\.info\")"
   ]
  },
  {
   "cell_type": "code",
   "execution_count": 47,
   "metadata": {
    "collapsed": true
   },
   "outputs": [],
   "source": [
    "data_aug=data_orig[data_orig.columns[:11]]"
   ]
  },
  {
   "cell_type": "code",
   "execution_count": 6,
   "metadata": {
    "collapsed": false,
    "scrolled": true
   },
   "outputs": [],
   "source": [
    "Source=data_orig.Sources1"
   ]
  },
  {
   "cell_type": "code",
   "execution_count": 22,
   "metadata": {
    "collapsed": false
   },
   "outputs": [],
   "source": [
    "st=\"\\.edu|\\.com|\\.net|\\.org|\\.uk|\\.us|\\.il|\\.ca|\\.dk|\\.in|\\.me|\\.de|\\.info\"\n",
    "domain_ext=st.replace(\"\\\\\",\"\").split(\"|\")"
   ]
  },
  {
   "cell_type": "code",
   "execution_count": 29,
   "metadata": {
    "collapsed": false
   },
   "outputs": [],
   "source": [
    "domain_ext.remove(\".edu\")"
   ]
  },
  {
   "cell_type": "code",
   "execution_count": 31,
   "metadata": {
    "collapsed": false
   },
   "outputs": [],
   "source": [
    "temp=Source.str.partition(\".edu\")[2].replace(\"\",float(\"NaN\"))"
   ]
  },
  {
   "cell_type": "code",
   "execution_count": 34,
   "metadata": {
    "collapsed": true
   },
   "outputs": [],
   "source": [
    "for dom in domain_ext:\n",
    "    temp=temp.combine_first(Source.str.partition(dom)[2].replace(\"\",float(\"NaN\")))"
   ]
  },
  {
   "cell_type": "code",
   "execution_count": 39,
   "metadata": {
    "collapsed": false
   },
   "outputs": [
    {
     "data": {
      "text/plain": [
       "642     NaN\n",
       "1053    NaN\n",
       "Name: 2, dtype: object"
      ]
     },
     "execution_count": 39,
     "metadata": {},
     "output_type": "execute_result"
    }
   ],
   "source": [
    "temp[temp.isnull()]"
   ]
  },
  {
   "cell_type": "code",
   "execution_count": 48,
   "metadata": {
    "collapsed": false
   },
   "outputs": [
    {
     "name": "stderr",
     "output_type": "stream",
     "text": [
      "/home/abhinav/miniconda3/envs/py35/lib/python3.5/site-packages/ipykernel/__main__.py:1: SettingWithCopyWarning: \n",
      "A value is trying to be set on a copy of a slice from a DataFrame.\n",
      "Try using .loc[row_indexer,col_indexer] = value instead\n",
      "\n",
      "See the caveats in the documentation: http://pandas.pydata.org/pandas-docs/stable/indexing.html#indexing-view-versus-copy\n",
      "  if __name__ == '__main__':\n"
     ]
    }
   ],
   "source": [
    "data_aug[\"url\"]=temp"
   ]
  },
  {
   "cell_type": "code",
   "execution_count": 55,
   "metadata": {
    "collapsed": false
   },
   "outputs": [],
   "source": [
    "data_aug[\"tilda\"]=temp.str.contains(\"~\")\n",
    "data_aug[\"pdf\"]=temp.str.contains(\".pdf\")"
   ]
  },
  {
   "cell_type": "code",
   "execution_count": null,
   "metadata": {
    "collapsed": true
   },
   "outputs": [],
   "source": [
    "part1=source.str.partition(\".edu\")\n",
    "data_aug[\"tilda\"]=part1[2].str.contains(\"~\")\n",
    "data_aug[\"pdf\"]=part1[2].str.contains(\".pdf\")"
   ]
  },
  {
   "cell_type": "code",
   "execution_count": 68,
   "metadata": {
    "collapsed": false
   },
   "outputs": [],
   "source": [
    "url=temp.replace(float(\"NaN\"),\"\")"
   ]
  },
  {
   "cell_type": "code",
   "execution_count": 10,
   "metadata": {
    "collapsed": false
   },
   "outputs": [
    {
     "data": {
      "text/plain": [
       "array(['http://cidse.engineering.asu.edu/directory/chitta-baral/',\n",
       "       'http://cidse.engineering.asu.edu/directory/candan-k-selcuk/',\n",
       "       'http://cidse.engineering.asu.edu/directory/charles-colbourn/',\n",
       "       'http://cidse.engineering.asu.edu/directory/collofello-james/',\n",
       "       'http://cidse.engineering.asu.edu/directory/gupta-sandeep/',\n",
       "       'http://cidse.engineering.asu.edu/directory/subbarao-kambhampati/',\n",
       "       'http://cidse.engineering.asu.edu/directory/huan-liu/',\n",
       "       'http://cidse.engineering.asu.edu/directory/sen-arunabha/',\n",
       "       'http://cidse.engineering.asu.edu/directory/tsai-wei-tek/',\n",
       "       'http://cidse.engineering.asu.edu/directory/kurt-vanlehn/',\n",
       "       'http://cidse.engineering.asu.edu/directory/xue-guoliang/',\n",
       "       'http://cidse.engineering.asu.edu/directory/rida-bazzi/',\n",
       "       'http://cidse.engineering.asu.edu/directory/dasgupta-partha/',\n",
       "       'http://cidse.engineering.asu.edu/directory/davulcu-hasan/',\n",
       "       'http://cidse.engineering.asu.edu/directory/joohyung-lee/',\n",
       "       'http://cidse.engineering.asu.edu/directory/nelson-brian/',\n",
       "       'http://cidse.engineering.asu.edu/directory/andrea-richa/',\n",
       "       'http://cidse.engineering.asu.edu/directory/syrotiuk-violet/',\n",
       "       'http://cidse.engineering.asu.edu/directory/wonka-peter/',\n",
       "       'http://cidse.engineering.asu.edu/directory/ye-jieping/'], dtype=object)"
      ]
     },
     "execution_count": 10,
     "metadata": {},
     "output_type": "execute_result"
    }
   ],
   "source": [
    "Source[:20].values"
   ]
  },
  {
   "cell_type": "code",
   "execution_count": 69,
   "metadata": {
    "collapsed": false,
    "scrolled": true
   },
   "outputs": [],
   "source": [
    "first_col=url.str.replace(\"^[~/]+\",'').str.findall(r\"^\\w+\")\n",
    "second_col=url.str.replace(r\"^[~/]+\\w+[./-]\",'').str.findall(r\"^\\w+\")\n",
    "third_col=url.str.replace(r\"^[~/]+\\w+[./-]\\w+[./-]+\",'').str.findall(r\"^\\w+\")"
   ]
  },
  {
   "cell_type": "code",
   "execution_count": 17,
   "metadata": {
    "collapsed": true
   },
   "outputs": [],
   "source": [
    "def convert_list(x):\n",
    "    if len(x)>0:\n",
    "        x=x[0]\n",
    "    else:\n",
    "        x=''\n",
    "    return x "
   ]
  },
  {
   "cell_type": "code",
   "execution_count": 72,
   "metadata": {
    "collapsed": false
   },
   "outputs": [],
   "source": [
    "first_col=first_col.apply(convert_list)\n",
    "second_col=second_col.apply(convert_list)\n",
    "third_col=third_col.apply(convert_list)"
   ]
  },
  {
   "cell_type": "code",
   "execution_count": 75,
   "metadata": {
    "collapsed": true
   },
   "outputs": [],
   "source": [
    "data_aug[\"first_col\"]=first_col\n",
    "data_aug[\"second_col\"]=second_col\n",
    "data_aug[\"third_col\"]=third_col"
   ]
  },
  {
   "cell_type": "code",
   "execution_count": 86,
   "metadata": {
    "collapsed": false
   },
   "outputs": [
    {
     "data": {
      "text/plain": [
       "                              1224\n",
       "html                           114\n",
       "pdf                            100\n",
       "view_faculty                    49\n",
       "findprofile                     37\n",
       "people                          32\n",
       "php                             26\n",
       "cv                              26\n",
       "faculty                         25\n",
       "index                           11\n",
       "bio                              9\n",
       "CV                               8\n",
       "htm                              6\n",
       "biography                        5\n",
       "vita                             5\n",
       "asp                              4\n",
       "files                            4\n",
       "cmu                              4\n",
       "shtml                            3\n",
       "resume                           3\n",
       "hml                              2\n",
       "staff                            2\n",
       "events                           2\n",
       "math                             2\n",
       "martin                           2\n",
       "fac                              2\n",
       "hld                              2\n",
       "aspx                             2\n",
       "about                            2\n",
       "pmwiki                           2\n",
       "FacultyDetail                    2\n",
       "a                                2\n",
       "michael                          2\n",
       "Home                             2\n",
       "chen                             2\n",
       "home                             2\n",
       "klappi                           1\n",
       "sitaraman_ramesh                 1\n",
       "walker                           1\n",
       "ninghui                          1\n",
       "ddd                              1\n",
       "lana_cv                          1\n",
       "kedem                            1\n",
       "Santosh                          1\n",
       "shenker                          1\n",
       "special                          1\n",
       "aref                             1\n",
       "debra                            1\n",
       "sapiro                           1\n",
       "vandenberg                       1\n",
       "bec                              1\n",
       "nasko                            1\n",
       "neuro                            1\n",
       "mishras                          1\n",
       "arvind                           1\n",
       "mccallum_andrew                  1\n",
       "IVRam                            1\n",
       "hartline                         1\n",
       "MichaelKifer                     1\n",
       "jackson                          1\n",
       "zilberstein_shlomo               1\n",
       "info                             1\n",
       "Frank_Dellaert                   1\n",
       "Larry                            1\n",
       "jun2013                          1\n",
       "cai                              1\n",
       "suresh                           1\n",
       "wallach_hanna                    1\n",
       "grigoryan                        1\n",
       "demillo                          1\n",
       "joseph                           1\n",
       "chai                             1\n",
       "xu                               1\n",
       "wileden_jack                     1\n",
       "89                               1\n",
       "basole_cv                        1\n",
       "ollie                            1\n",
       "schwartz                         1\n",
       "liu                              1\n",
       "guoliang                         1\n",
       "jbk                              1\n",
       "gaetano                          1\n",
       "peter                            1\n",
       "2013                             1\n",
       "vishy                            1\n",
       "ayg                              1\n",
       "Beki                             1\n",
       "hirani                           1\n",
       "corner_mark                      1\n",
       "sheldon_dan                      1\n",
       "xmt                              1\n",
       "hanj                             1\n",
       "Waterman                         1\n",
       "jappavoo                         1\n",
       "new                              1\n",
       "barrington_david                 1\n",
       "imielinski                       1\n",
       "paxson                           1\n",
       "venkataramani_arun               1\n",
       "5354                             1\n",
       "violet                           1\n",
       "mukherjee                        1\n",
       "ssw                              1\n",
       "gu                               1\n",
       "weimer                           1\n",
       "hoque_m                          1\n",
       "sicker                           1\n",
       "guerra                           1\n",
       "shasha                           1\n",
       "yadav0                           1\n",
       "fox                              1\n",
       "ioerger                          1\n",
       "peye9704                         1\n",
       "mohri                            1\n",
       "borning                          1\n",
       "eli                              1\n",
       "skadron                          1\n",
       "jrs                              1\n",
       "dkihara                          1\n",
       "ungor                            1\n",
       "smt                              1\n",
       "pu                               1\n",
       "learned                          1\n",
       "mja                              1\n",
       "Bailey                           1\n",
       "energy                           1\n",
       "cmh                              1\n",
       "Grigore_Rosu_                    1\n",
       "breuer                           1\n",
       "tlw                              1\n",
       "dgleich                          1\n",
       "michaelmozer                     1\n",
       "lee                              1\n",
       "ranka                            1\n",
       "ghosal                           1\n",
       "ECE                              1\n",
       "kambhampati                      1\n",
       "b                                1\n",
       "dec                              1\n",
       "Dinda                            1\n",
       "davidson                         1\n",
       "lsi                              1\n",
       "elb                              1\n",
       "daily                            1\n",
       "Welcome                          1\n",
       "matloff                          1\n",
       "mishra                           1\n",
       "grupen_roderic                   1\n",
       "sanders                          1\n",
       "mpalmer                          1\n",
       "clifton                          1\n",
       "spaf                             1\n",
       "patel                            1\n",
       "pace9311                         1\n",
       "2014                             1\n",
       "qobi                             1\n",
       "CVs                              1\n",
       "DOC                              1\n",
       "andreask                         1\n",
       "ma                               1\n",
       "13                               1\n",
       "wakefield                        1\n",
       "Don                              1\n",
       "lazowska                         1\n",
       "rauchwerger                      1\n",
       "2006                             1\n",
       "culler                           1\n",
       "allan_james                      1\n",
       "aarti_online                     1\n",
       "peikert                          1\n",
       "HusseinBadr                      1\n",
       "Wei                              1\n",
       "03                               1\n",
       "Panayotis_Mavromatis             1\n",
       "curriculum                       1\n",
       "jrl                              1\n",
       "lok                              1\n",
       "d                                1\n",
       "c                                1\n",
       "cole                             1\n",
       "todorov                          1\n",
       "ja                               1\n",
       "HOME                             1\n",
       "hosking                          1\n",
       "aacl0007                         1\n",
       "aames                            1\n",
       "kalogerakis_evangelos            1\n",
       "zegura                           1\n",
       "seitz                            1\n",
       "llhunter                         1\n",
       "sunil                            1\n",
       "jv                               1\n",
       "gerasoulis                       1\n",
       "bodik                            1\n",
       "Oct312008_ProfVictorZue_DL       1\n",
       "xyzhang                          1\n",
       "cvs                              1\n",
       "roger                            1\n",
       "skeel                            1\n",
       "Selim                            1\n",
       "ladner                           1\n",
       "_Keith_Edwards                   1\n",
       "ant                              1\n",
       "karp                             1\n",
       "keyser                           1\n",
       "seh                              1\n",
       "psz                              1\n",
       "lv                               1\n",
       "About                            1\n",
       "dovrolis                         1\n",
       "jiang                            1\n",
       "levitt                           1\n",
       "hansen                           1\n",
       "guestrin                         1\n",
       "_Davis                           1\n",
       "james                            1\n",
       "magda                            1\n",
       "um                               1\n",
       "12                               1\n",
       "venkitasubramaniam_muthu         1\n",
       "weld                             1\n",
       "2007                             1\n",
       "tannen                           1\n",
       "osterweil_leon                   1\n",
       "lizb                             1\n",
       "profile                          1\n",
       "goldberg                         1\n",
       "Chung                            1\n",
       "i                                1\n",
       "wang_rui                         1\n",
       "egrigore                         1\n",
       "jacob                            1\n",
       "jorg                             1\n",
       "evans                            1\n",
       "09                               1\n",
       "mynatt                           1\n",
       "_Atkins_III                      1\n",
       "rohde_cv                         1\n",
       "_James_F                         1\n",
       "tcm                              1\n",
       "Singh                            1\n",
       "_about_me                        1\n",
       "content                          1\n",
       "mcl                              1\n",
       "arunava                          1\n",
       "wei                              1\n",
       "yiannis                          1\n",
       "wyatt                            1\n",
       "moss_j                           1\n",
       "essa                             1\n",
       "jie_cv                           1\n",
       "srirams                          1\n",
       "2012                             1\n",
       "thesis                           1\n",
       "miklau_gerome                    1\n",
       "People                           1\n",
       "bishop                           1\n",
       "1224                             1\n",
       "jfogarty                         1\n",
       "andrzej                          1\n",
       "nersessian                       1\n",
       "partha                           1\n",
       "current                          1\n",
       "bin                              1\n",
       "xiaodong                         1\n",
       "timxb                            1\n",
       "tompa                            1\n",
       "sheila                           1\n",
       "entezari                         1\n",
       "beame                            1\n",
       "vice                             1\n",
       "linois                           1\n",
       "moll_robert                      1\n",
       "levin                            1\n",
       "Peter                            1\n",
       "extendedCV_5                     1\n",
       "weems_charles                    1\n",
       "Hwang                            1\n",
       "ramachandran                     1\n",
       "brian                            1\n",
       "david                            1\n",
       "marlin_benjamin                  1\n",
       "2002                             1\n",
       "davis                            1\n",
       "schaefer                         1\n",
       "spencer                          1\n",
       "uploads                          1\n",
       "profiles                         1\n",
       "vanlehn                          1\n",
       "davise                           1\n",
       "tufo                             1\n",
       "_Singh                           1\n",
       "spa                              1\n",
       "jeffe                            1\n",
       "dshell                           1\n",
       "elliot_soloway                   1\n",
       "ake                              1\n",
       "txt                              1\n",
       "caverlee                         1\n",
       "cvc                              1\n",
       "butz                             1\n",
       "max                              1\n",
       "kim                              1\n",
       "default                          1\n",
       "amato                            1\n",
       "mhall                            1\n",
       "_Black                           1\n",
       "ovitek                           1\n",
       "lanthony                         1\n",
       "levine_brian                     1\n",
       "genesereth                       1\n",
       "sitharam                         1\n",
       "calderbank                       1\n",
       "manuel                           1\n",
       "crisn                            1\n",
       "arunabha                         1\n",
       "dxu                              1\n",
       "shapiro                          1\n",
       "lrs                              1\n",
       "ernst                            1\n",
       "sun                              1\n",
       "kirlik                           1\n",
       "hciresearch                      1\n",
       "adityagp                         1\n",
       "grinspun                         1\n",
       "Matthew                          1\n",
       "lopez                            1\n",
       "hirsh                            1\n",
       "mahadevan_sridhar                1\n",
       "rhan                             1\n",
       "Horace                           1\n",
       "Kristian                         1\n",
       "jieping                          1\n",
       "wu510                            1\n",
       "_Lipton                          1\n",
       "yalin                            1\n",
       "leadership                       1\n",
       "kompella                         1\n",
       "shenoy_prashant                  1\n",
       "loguinov                         1\n",
       "colbourn                         1\n",
       "muriel                           1\n",
       "RajeevRamCV_000                  1\n",
       "croft_w                          1\n",
       "jrblack                          1\n",
       "georgios                         1\n",
       "eisenbea                         1\n",
       "franklin                         1\n",
       "kena                             1\n",
       "science                          1\n",
       "welcome                          1\n",
       "yap                              1\n",
       "health                           1\n",
       "overton                          1\n",
       "suciu                            1\n",
       "baral                            1\n",
       "wu                               1\n",
       "immerman_neil                    1\n",
       "hasan                            1\n",
       "researchers                      1\n",
       "old                              1\n",
       "grunwald                         1\n",
       "lastra_cv                        1\n",
       "horn                             1\n",
       "guha_arjun                       1\n",
       "apostolico                       1\n",
       "diao_yanlei                      1\n",
       "geiger                           1\n",
       "Robert                           1\n",
       "Bruckman                         1\n",
       "Randy                            1\n",
       "palen                            1\n",
       "landay                           1\n",
       "william                          1\n",
       "Shanlin                          1\n",
       "Moses                            1\n",
       "choe                             1\n",
       "kkarahal                         1\n",
       "peir                             1\n",
       "eps                              1\n",
       "jae                              1\n",
       "short                            1\n",
       "seelig                           1\n",
       "vijay                            1\n",
       "demmel                           1\n",
       "naik                             1\n",
       "documents                        1\n",
       "TumblinCV_2009aug                1\n",
       "Foley                            1\n",
       "www                              1\n",
       "tsitsiklis                       1\n",
       "schraterlab                      1\n",
       "fahmy                            1\n",
       "shelat                           1\n",
       "cv3                              1\n",
       "berger_emery                     1\n",
       "bertino                          1\n",
       "gusfield                         1\n",
       "scott                            1\n",
       "gregory                          1\n",
       "rhc                              1\n",
       "clayton                          1\n",
       "farber                           1\n",
       "yna                              1\n",
       "s                                1\n",
       "Carbonell                        1\n",
       "towsley_donald                   1\n",
       "cv_                              1\n",
       "homepage                         1\n",
       "jheer                            1\n",
       "anderson                         1\n",
       "elfar                            1\n",
       "bazzi                            1\n",
       "sbasu                            1\n",
       "may2008                          1\n",
       "karlin                           1\n",
       "peugster                         1\n",
       "sandeep                          1\n",
       "research                         1\n",
       "Seda                             1\n",
       "ec                               1\n",
       "grishman                         1\n",
       "CSvita                           1\n",
       "alfonso                          1\n",
       "pages                            1\n",
       "lsz                              1\n",
       "yunglu                           1\n",
       "zha                              1\n",
       "devanbu                          1\n",
       "j                                1\n",
       "bxd                              1\n",
       "ArieKaufman                      1\n",
       "neville                          1\n",
       "megretski                        1\n",
       "Manijeh                          1\n",
       "amenta                           1\n",
       "collin                           1\n",
       "aliaga                           1\n",
       "clarke_lori                      1\n",
       "XianfengGu                       1\n",
       "general                          1\n",
       "pitt                             1\n",
       "contact                          1\n",
       "ganesan_deepak                   1\n",
       "sumner                           1\n",
       "ci                               1\n",
       "siegelmann_hava                  1\n",
       "k                                1\n",
       "prabhat                          1\n",
       "ncorrell                         1\n",
       "avd                              1\n",
       "ruzzo                            1\n",
       "luisceze                         1\n",
       "kurose_james                     1\n",
       "jeffp                            1\n",
       "apm                              1\n",
       "m_pollack                        1\n",
       "harfoush                         1\n",
       "bjl                              1\n",
       "duck                             1\n",
       "Hammer                           1\n",
       "kais                             1\n",
       "gjs                              1\n",
       "sullivan                         1\n",
       "scip                             1\n",
       "welch                            1\n",
       "bb                               1\n",
       "Fu                               1\n",
       "klara                            1\n",
       "node4                            1\n",
       "Feng                             1\n",
       "rgutier                          1\n",
       "download_fileâ                   1\n",
       "onur_cv                          1\n",
       "gygi                             1\n",
       "arkin                            1\n",
       "aviral                           1\n",
       "jason                            1\n",
       "srivastava                       1\n",
       "quinones                         1\n",
       "Vita                             1\n",
       "vitapub                          1\n",
       "widlund                          1\n",
       "collberg                         1\n",
       "jensen_david                     1\n",
       "cv_mh                            1\n",
       "taylor                           1\n",
       "EaktaJain                        1\n",
       "puter                            1\n",
       "alexandra_meliou                 1\n",
       "canny                            1\n",
       "fo                               1\n",
       "dechoudhury                      1\n",
       "richa                            1\n",
       "andruid                          1\n",
       "main_cv                          1\n",
       "murphy                           1\n",
       "mcgregor_andrew                  1\n",
       "gnf                              1\n",
       "EECSLS                           1\n",
       "jessup                           1\n",
       "manuel_blum_cv                   1\n",
       "rogaway                          1\n",
       "awards                           1\n",
       "Name: 2, dtype: int64"
      ]
     },
     "execution_count": 86,
     "metadata": {},
     "output_type": "execute_result"
    }
   ],
   "source": [
    "third_col.value_counts()"
   ]
  },
  {
   "cell_type": "code",
   "execution_count": 368,
   "metadata": {
    "collapsed": true
   },
   "outputs": [],
   "source": [
    "non_noun_corpus=['people', 'faculty', 'directory', 'users', 'user', 'cs', '', 'cms',\n",
    "       'fac', 'pdf', 'home', 'u', 'Faculty', 'Facultydetail', 'homes',\n",
    "       'computer', 'sites', 'news', 'FacultyDetail', 'bio',\n",
    "       'engineering', 'dept', 'about', 'db', 'research', \n",
    "       'projects', 'index', 'cv', 'docs',  'eecs', 'facultydirectory',\n",
    "       'display','propernoun']"
   ]
  },
  {
   "cell_type": "code",
   "execution_count": 371,
   "metadata": {
    "collapsed": false
   },
   "outputs": [],
   "source": [
    "for word in words:\n",
    "    if word in non_noun_corpus:\n",
    "        words.remove(word)\n",
    "    "
   ]
  },
  {
   "cell_type": "code",
   "execution_count": 370,
   "metadata": {
    "collapsed": false
   },
   "outputs": [],
   "source": [
    "words=['directory', 'fac', 'cs', 'canetti', 'pdf', 'people', 'myresearch',\n",
    "       'new', 'research', 'propernoun', 'ugur', 'alains', 'index', 'umans',\n",
    "       'winfree', 'slow', 'vidick', '', 'facultydirectory', 'anind',\n",
    "       'user', 'anupamg', 'arielpro', 'cprose', 'clegoues', 'qolt',\n",
    "       'ebrun', 'epxing', 'zkolter', 'jxc', 'jhoe', 'bio', 'peoplepages',\n",
    "       'aldrich', 'crary', 'roeder', 'larry', 'biglou', 'me', 'nsp',\n",
    "       'omutlu', 'rms', 'MurphyCV', 'odonnell', 'seth', 'brookes',\n",
    "       'rudich', 'aleven', 'wls', 'yiming', 'yuvraja', 'alewko', 'nieh',\n",
    "       'web', 'gross', 'kathy', 'luca', 'mcollins', 'sfchang', 'nayar',\n",
    "       'sedwards', 'feiner', 'nowick', 'tal', 'misra', 'gomes', 'cv',\n",
    "       'home', 'kozen', 'djames', 'hweather', 'faculty', 'johannes', 'ken',\n",
    "       'snavely', 'rdk', 'People', 'ac', 'lkf', 'lorenzo', 'scot', 'thc',\n",
    "       'amink', 'ashwin', 'labs', 'brd', 'sorin', 'forbes', 'chase', 'db',\n",
    "       'kamesh', 'kst', 'krish', 'lpcox', 'raw', 'parr', 'sayan',\n",
    "       'jenkins', 'aendert3', 'aboldyre', 'athomaz', 'computing', 'isbell',\n",
    "       'reporting', 'randall', 'dellaert', 'lsong', 'projects', 'ninamf',\n",
    "       'guzdial', 'attachments', 'uploads', 'milos', 'Mostafa', 'feamster',\n",
    "       'sham', 'sites', 'computer', 'chong', 'ajbattle', 'langmea',\n",
    "       'yarowsky', 'ateniese', 'mgreen', 'mdinitz', 'rht', 's', 'susan',\n",
    "       'vova', 'lixints', 'Users', 'asuman', 'liskov', 'dina',\n",
    "       'Faculty_Pages', 'minsky', 'acbs', 'sclaser', 'tommi', 'barrett',\n",
    "       'perlin', 'object', 'mwalfish', 'faculty_bios', 'files', 'khot',\n",
    "       'wies', 'newhires', 'stamant', 'sheber', 'billy', 'sahakian', 'p',\n",
    "       'argall', 'dguo', 'ddowney', 'ian', 'plonus', 'docs', 'ychen',\n",
    "       'anish', 'rountev', 'chunyi', 'xuan', 'mbelkin', 'paolo',\n",
    "       'teodores', 'wenger', 'crawfis', 'engineering', 'mji', 'berman',\n",
    "       'rcollins', 'hallgren', 'aslp', 'appel', 'bwk', 'felten', 'mrm',\n",
    "       'mfreed', 'moses', 'fiebrink', 'arora', 'smr', 'vivek', 'homes',\n",
    "       'isaacd', 'hengji', 'xial', 'zaki', 'moorthy', 'eglash', 'brings',\n",
    "       'Homepages', 'Facultydetail', 'FacultyDetail', 'elgammal', 'phatak',\n",
    "       'kulikows', 'ruccs', 'grigoria', 'NaftalyMinsky', 'ricardob',\n",
    "       'santosh', 'uli', 'aiken', 'billd_webpage_new', 'manning',\n",
    "       'cheriton', 'Bejerano', 'valiant', 'dept', 'jks', 'users', 'groups',\n",
    "       'pal', 'coopers', 'samaras', 'ezk', 'stark', 'hgupta', 'long',\n",
    "       'leortiz', 'sekar', 'mechanical', 'dzsong', 'media', 'pete', 'alon',\n",
    "       'ram', 'adj', 'bjoern', 'Faculty', 'dawnsong', 'brewer', 'ksen',\n",
    "       'maneesh', 'prasad', 'satishr', 'franklin', 'ArchLabPersonnel',\n",
    "       'pandey', 'filkov', 'wmt', 'eli', 'sahai', 'eeskin', 'palsberg',\n",
    "       'jp_home', 'cho', 'weiwang', 'gary', 'kamalika', 'ravir', 'amr',\n",
    "       'ebelding', 'almeroth', 'rich', 'yfwang', 'helmy', 'adobra',\n",
    "       'traynor', 'display', 'zilles', 'indy', 'kale', 'pipermail',\n",
    "       'about', 'taoxie', 'atif', 'nau', 'dvanhorn', 'djacobs', 'oleary',\n",
    "       'perlis', 'elman', 'hollings', 'keleher', 'ramani', 'kuipers',\n",
    "       'bnoble', 'eecs', 'farnam', 'gregory', 'jflinn', 'jhayes', 'kjc',\n",
    "       'marios', 'mingyan', 'mazum', 'prabal', 'qstout', 'rada', 'nsatish',\n",
    "       'mahlke', 'hopper', 'npapas', 'yew', 'kuang', 'mccamant', 'cms',\n",
    "       'plaisted', 'prins', 'aaroth', 'ahae', 'nenkova', 'jean',\n",
    "       'devietti', 'departmental', 'ungar', 'mkearns', 'sweirich',\n",
    "       'speakers', 'zives', 'u', 'cding', 'bkrishna', 'Shahabi', 'dkempe',\n",
    "       'Francisco', 'how', 'jbarbic', 'natural', 'itti', 'maja',\n",
    "       'programs', 'mdhuang', 'ayanian', 'kalia', 'shaddin', 'cgit',\n",
    "       'liu32', 'klivans', 'bwaters', 'dana', 'u0681115', 'riloff',\n",
    "       'parker', 'zachary', 'regehr', 'kstevens', 'u0176314',\n",
    "       'MatthewMight', 'kirby', 'u0456963', 'suresh', 'fletcher',\n",
    "       'u0729347', 'tch', 'bytes', 'papers', 'robins', 'whitehouse',\n",
    "       'humphrey', 'ali', 'oskin', 'nasmith', 'shwetak', 'gshyam',\n",
    "       'gribble', 'reps', 'foxinfo', 'ramakris', 'mccricks', 'WJLou']"
   ]
  },
  {
   "cell_type": "code",
   "execution_count": 281,
   "metadata": {
    "collapsed": false
   },
   "outputs": [
    {
     "data": {
      "text/plain": [
       "array(['directory', 'directory', 'directory', ..., 'people', 'people',\n",
       "       'people'], dtype=object)"
      ]
     },
     "execution_count": 281,
     "metadata": {},
     "output_type": "execute_result"
    }
   ],
   "source": [
    "first_col_converted.values"
   ]
  },
  {
   "cell_type": "code",
   "execution_count": 320,
   "metadata": {
    "collapsed": false,
    "scrolled": true
   },
   "outputs": [],
   "source": [
    "tagged_text=pos_tag(vectorizerX.vocabulary_.keys())"
   ]
  },
  {
   "cell_type": "code",
   "execution_count": null,
   "metadata": {
    "collapsed": false,
    "scrolled": false
   },
   "outputs": [],
   "source": [
    "words = [word for word,pos in tagged_text if (pos == 'NN')|(pos == 'NNP')]\n",
    "words"
   ]
  },
  {
   "cell_type": "code",
   "execution_count": 307,
   "metadata": {
    "collapsed": false
   },
   "outputs": [],
   "source": [
    "text=word_tokenize(\" \".join(first_col_converted.values))"
   ]
  },
  {
   "cell_type": "code",
   "execution_count": 313,
   "metadata": {
    "collapsed": false,
    "scrolled": true
   },
   "outputs": [],
   "source": [
    "from sklearn.feature_extraction.text import CountVectorizer\n",
    "vectorizerX = CountVectorizer(min_df=1)"
   ]
  },
  {
   "cell_type": "code",
   "execution_count": 314,
   "metadata": {
    "collapsed": true
   },
   "outputs": [],
   "source": [
    "X = vectorizerX.fit_transform(first_col_converted.values)"
   ]
  },
  {
   "cell_type": "code",
   "execution_count": 326,
   "metadata": {
    "collapsed": false,
    "scrolled": true
   },
   "outputs": [
    {
     "data": {
      "text/plain": [
       "1094"
      ]
     },
     "execution_count": 326,
     "metadata": {},
     "output_type": "execute_result"
    }
   ],
   "source": [
    "len(vectorizerX.vocabulary_.keys())"
   ]
  },
  {
   "cell_type": "code",
   "execution_count": 372,
   "metadata": {
    "collapsed": true
   },
   "outputs": [],
   "source": [
    "propernoun=words"
   ]
  },
  {
   "cell_type": "code",
   "execution_count": null,
   "metadata": {
    "collapsed": false,
    "scrolled": true
   },
   "outputs": [],
   "source": [
    "first_col_converted.replace(propernoun,\"propernoun\").unique()"
   ]
  },
  {
   "cell_type": "code",
   "execution_count": 18,
   "metadata": {
    "collapsed": false,
    "scrolled": true
   },
   "outputs": [
    {
     "data": {
      "text/plain": [
       "['cidse.engineering.asu.edu']"
      ]
     },
     "execution_count": 18,
     "metadata": {},
     "output_type": "execute_result"
    }
   ],
   "source": [
    "convert_list(Source[:100].str.findall(\"^(?:https?:\\/\\/)?([^:\\/\\n]+)\"))"
   ]
  },
  {
   "cell_type": "code",
   "execution_count": 20,
   "metadata": {
    "collapsed": false
   },
   "outputs": [],
   "source": [
    "t=Source[:100].str.findall(\"^(?:https?:\\/\\/)?([^:\\/\\n]+)\")"
   ]
  },
  {
   "cell_type": "code",
   "execution_count": 30,
   "metadata": {
    "collapsed": false,
    "scrolled": true
   },
   "outputs": [],
   "source": [
    "Series(Source.str.findall(\"^(?:https?:\\/\\/)?([^:\\/\\n]+)\").apply(convert_list).apply(append_http).unique()).to_csv(\"all_domain.csv\")"
   ]
  },
  {
   "cell_type": "code",
   "execution_count": 23,
   "metadata": {
    "collapsed": false
   },
   "outputs": [],
   "source": [
    "def append_http(x):\n",
    "    x=\"http://\"+x\n",
    "    return x"
   ]
  },
  {
   "cell_type": "code",
   "execution_count": 16,
   "metadata": {
    "collapsed": false,
    "scrolled": true
   },
   "outputs": [
    {
     "data": {
      "text/plain": [
       "0     http://cidse.engineering.asu.edu/directory/chi...\n",
       "1     http://cidse.engineering.asu.edu/directory/can...\n",
       "2     http://cidse.engineering.asu.edu/directory/cha...\n",
       "3     http://cidse.engineering.asu.edu/directory/col...\n",
       "4     http://cidse.engineering.asu.edu/directory/gup...\n",
       "5     http://cidse.engineering.asu.edu/directory/sub...\n",
       "6     http://cidse.engineering.asu.edu/directory/hua...\n",
       "7     http://cidse.engineering.asu.edu/directory/sen...\n",
       "8     http://cidse.engineering.asu.edu/directory/tsa...\n",
       "9     http://cidse.engineering.asu.edu/directory/kur...\n",
       "10    http://cidse.engineering.asu.edu/directory/xue...\n",
       "11    http://cidse.engineering.asu.edu/directory/rid...\n",
       "12    http://cidse.engineering.asu.edu/directory/das...\n",
       "13    http://cidse.engineering.asu.edu/directory/dav...\n",
       "14    http://cidse.engineering.asu.edu/directory/joo...\n",
       "15    http://cidse.engineering.asu.edu/directory/nel...\n",
       "16    http://cidse.engineering.asu.edu/directory/and...\n",
       "17    http://cidse.engineering.asu.edu/directory/syr...\n",
       "18    http://cidse.engineering.asu.edu/directory/won...\n",
       "19    http://cidse.engineering.asu.edu/directory/ye-...\n",
       "20    http://cidse.engineering.asu.edu/directory/fai...\n",
       "21    http://cidse.engineering.asu.edu/directory/shr...\n",
       "22    http://cidse.engineering.asu.edu/directory/wan...\n",
       "23                     http://www.cs.bu.edu/fac/kfoury/\n",
       "24                           http://azer.bestavros.net/\n",
       "25                   http://www.cs.bu.edu/fac/evimaria/\n",
       "26                   http://www.cs.bu.edu/fac/gkollios/\n",
       "27                       http://www.cs.bu.edu/fac/hwxi/\n",
       "28                      http://www.cs.bu.edu/fac/matta/\n",
       "29                      http://www.cs.bu.edu/fac/byers/\n",
       "30    http://www.cs.bu.edu/fac/jappavoo/jappavoo.git...\n",
       "31                   http://www.bu.edu/cs/leonid-levin/\n",
       "32                     http://www.cs.bu.edu/fac/reyzin/\n",
       "33                                 http://orecchia.net/\n",
       "34                      http://www.cs.bu.edu/fac/betke/\n",
       "35                   http://www.cs.bu.edu/fac/crovella/\n",
       "36                       http://www.cs.bu.edu/fac/gacs/\n",
       "37                       http://www.cs.bu.edu/~canetti/\n",
       "38                   http://www.cs.bu.edu/fac/richwest/\n",
       "39                     http://www.cs.bu.edu/fac/goldbe/\n",
       "40                   http://www.cs.bu.edu/fac/sclaroff/\n",
       "41                      http://www.cs.bu.edu/fac/homer/\n",
       "42                     http://www.cs.bu.edu/fac/snyder/\n",
       "43    https://research.brown.edu/pdf/1106970084.pdf?...\n",
       "44          http://cs.brown.edu/people/faculty/avd.html\n",
       "45    https://research.brown.edu/pdf/1106970028.pdf?...\n",
       "46    https://research.brown.edu/pdf/1154701099.pdf?...\n",
       "47    https://research.brown.edu/pdf/10404.pdf?nocac...\n",
       "48    http://cs.brown.edu/people/claire/vita-public.pdf\n",
       "49    https://research.brown.edu/pdf/1106970029.pdf?...\n",
       "50         http://cs.brown.edu/people/eli/biography.htm\n",
       "51         http://cs.brown.edu/people/sudderth/bio.html\n",
       "52               http://cs.brown.edu/people/faculty/ec/\n",
       "53    https://research.brown.edu/pdf/1106970027.pdf?...\n",
       "54                     http://cs.brown.edu/people/hays/\n",
       "55                                http://jeffhuang.com/\n",
       "56    https://research.brown.edu/pdf/1106970082.pdf?...\n",
       "57    https://research.brown.edu/pdf/1106970026.pdf?...\n",
       "58    https://research.brown.edu/pdf/1106970166.pdf?...\n",
       "59    https://research.brown.edu/myresearch/Michael_...\n",
       "60    http://news.brown.edu/new-faculty/2012-13/paul...\n",
       "61                      http://cs.brown.edu/people/pff/\n",
       "62    https://research.brown.edu/pdf/1106970030.pdf?...\n",
       "63    https://research.brown.edu/research/profile.ph...\n",
       "64    https://research.brown.edu/pdf/1270227184.pdf?...\n",
       "65    https://research.brown.edu/pdf/1134569382.pdf?...\n",
       "66    https://research.brown.edu/pdf/1127248942.pdf?...\n",
       "67                        http://www.cs.brown.edu/~sbz/\n",
       "68       http://cs.brown.edu/people/stefie10/index.html\n",
       "69    https://research.brown.edu/pdf/1106970168.pdf?...\n",
       "70    https://research.brown.edu/pdf/1106970085.pdf?...\n",
       "71           http://cs.brown.edu/people/kraskat/cv.html\n",
       "72    https://sites.google.com/a/brown.edu/ugur-ceti...\n",
       "73                 http://users.cms.caltech.edu/~adamw/\n",
       "74                http://users.cms.caltech.edu/~alains/\n",
       "75                 http://www.gg.caltech.edu/index.html\n",
       "76                 http://users.cms.caltech.edu/~umans/\n",
       "77                 http://www.dna.caltech.edu/~winfree/\n",
       "78               http://users.cms.caltech.edu/~katrina/\n",
       "79              http://users.cms.caltech.edu/~schulman/\n",
       "80            http://www.geometry.caltech.edu/~mathieu/\n",
       "81       http://www.cms.caltech.edu/people/3197/profile\n",
       "82                  http://users.cms.caltech.edu/~slow/\n",
       "83                  http://people.csail.mit.edu/vidick/\n",
       "84                     http://www.its.caltech.edu/~tho/\n",
       "85               http://users.cms.caltech.edu/~venkatc/\n",
       "86                         http://www.work.caltech.edu/\n",
       "87                            http://www.yisongyue.com/\n",
       "88    http://www.cs.cmu.edu/~aarti/bio-aarti_online.pdf\n",
       "89                     http://www.cs.cmu.edu/~treuille/\n",
       "90           http://en.wikipedia.org/wiki/Alan_W._Black\n",
       "91    http://public.tepper.cmu.edu/facultydirectory/...\n",
       "92                               http://alex.smola.org/\n",
       "93                  http://www.cs.cmu.edu/~ahw/bio.html\n",
       "94                                  http://amyogan.com/\n",
       "95            http://symbolaris.com/meta/Platzer-CV.pdf\n",
       "96                        http://www-2.cs.cmu.edu/~awm/\n",
       "97                        http://www.cs.cmu.edu/~pavlo/\n",
       "98                  http://kittur.org/img/Kittur_CV.pdf\n",
       "99                        http://www.cs.cmu.edu/~anind/\n",
       "Name: Sources1, dtype: object"
      ]
     },
     "execution_count": 16,
     "metadata": {},
     "output_type": "execute_result"
    }
   ],
   "source": [
    "Source[:100]"
   ]
  },
  {
   "cell_type": "code",
   "execution_count": null,
   "metadata": {
    "collapsed": true
   },
   "outputs": [],
   "source": []
  }
 ],
 "metadata": {
  "kernelspec": {
   "display_name": "Python 2",
   "language": "python",
   "name": "python2"
  },
  "language_info": {
   "codemirror_mode": {
    "name": "ipython",
    "version": 2
   },
   "file_extension": ".py",
   "mimetype": "text/x-python",
   "name": "python",
   "nbconvert_exporter": "python",
   "pygments_lexer": "ipython2",
   "version": "2.7.11"
  }
 },
 "nbformat": 4,
 "nbformat_minor": 0
}
