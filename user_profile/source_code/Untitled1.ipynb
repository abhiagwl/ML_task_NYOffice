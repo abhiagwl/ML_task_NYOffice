{
 "cells": [
  {
   "cell_type": "code",
   "execution_count": 3,
   "metadata": {
    "collapsed": true
   },
   "outputs": [],
   "source": [
    "from time import time as tim\n",
    "import pandas as pd\n",
    "import numpy as np \n",
    "from pandas import Series\n",
    "domains=pd.read_csv(\"all_domain.csv\",header=None)\n",
    "\n",
    "import os\n",
    "root_dir = os.path.abspath('../..')\n",
    "task_dir= os.path.join(root_dir,'user_profile')\n",
    "data_dir=os.path.join(task_dir,'data')\n",
    "final_data=os.path.join(data_dir,\"final_scrap\")\n",
    "\n",
    "import urllib\n",
    "import re\n",
    "import time\n",
    "from threading import Thread\n",
    "import MySQLdb\n",
    "import mechanize\n",
    "import readability\n",
    "from bs4 import BeautifulSoup\n",
    "from readability.readability import Document\n",
    "import urlparse\n",
    "\n",
    "def scraper(root,steps):\n",
    "    urls = [root]\n",
    "    visited = [root]\n",
    "    counter = 0\n",
    "    scraped=[]\n",
    "    while counter < steps:\n",
    "        step_url = scrapeStep(urls,scraped)\n",
    "        urls = []\n",
    "        for u in step_url:\n",
    "            if u not in visited and str(urlparse.urlparse(u).hostname) in urlparse.urlparse(root).hostname :\n",
    "                urls.append(u)\n",
    "                visited.append(u)\n",
    "        counter+=1\n",
    "    return visited\n",
    "\n",
    "def scrapeStep(root,scraped):\n",
    "    result_urls = []\n",
    "    br = mechanize.Browser()\n",
    "    br.set_handle_robots(False)\n",
    "    br.addheaders = [('User-agent', 'Firefox')]\n",
    "\n",
    "    for url in root:\n",
    "        if url not in scraped:\n",
    "            try:\n",
    "                br.open(url)\n",
    "                for link in br.links():\n",
    "                    newurl = urlparse.urljoin(link.base_url,link.url)\n",
    "                    result_urls.append(newurl)\n",
    "                scraped.append(url)\n",
    "            except:\n",
    "                error= \"error\"\n",
    "    return result_urls\n"
   ]
  },
  {
   "cell_type": "code",
   "execution_count": 4,
   "metadata": {
    "collapsed": false,
    "scrolled": true
   },
   "outputs": [
    {
     "name": "stdout",
     "output_type": "stream",
     "text": [
      "131.584636927\n",
      "49.6384930611\n",
      "6.1280310154\n",
      "6.82148218155\n",
      "517.595145941\n",
      "38.7550389767\n",
      "0.713097810745\n",
      "2.38732886314\n",
      "35.7187569141\n",
      "7.08896899223\n",
      "13.1804549694\n",
      "2.56235289574\n",
      "7.98190593719\n",
      "57.9831631184\n",
      "111.800957918\n",
      "5.24982905388\n",
      "7.46105194092\n",
      "25.4268300533\n",
      "20.3880660534\n",
      "24.0180490017\n",
      "2.93540620804\n",
      "22.5543069839\n",
      "1.18770003319\n",
      "28.4463880062\n",
      "5.56700396538\n",
      "77.2570638657\n",
      "1.71558308601\n",
      "1.13869285583\n",
      "5.70930409431\n",
      "6.01442313194\n",
      "170.81159091\n",
      "15.1029820442\n",
      "0.740208864212\n",
      "24.5590238571\n",
      "1.14051580429\n",
      "179.523913145\n",
      "56.4382629395\n",
      "62.4136109352\n",
      "58.0632369518\n",
      "8.79700613022\n",
      "1.25925803185\n",
      "11.8243060112\n",
      "92.33339715\n",
      "8.45826411247\n",
      "180.641834021\n",
      "7.64370584488\n",
      "71.9617938995\n",
      "252.096698046\n",
      "9.00896596909\n",
      "11.0905528069\n",
      "27.9127678871\n",
      "152.962807894\n",
      "6.33233499527\n",
      "8.98312211037\n",
      "1.23292303085\n",
      "1.23049902916\n",
      "13.6548860073\n",
      "40.5275771618\n",
      "0.894442081451\n",
      "41.9910190105\n",
      "88.8424971104\n",
      "4.97970509529\n",
      "22.7840828896\n",
      "0.339105844498\n",
      "2.28265500069\n",
      "3.06273794174\n",
      "4.53242611885\n",
      "5.57242488861\n",
      "39.6104500294\n",
      "1.17142820358\n",
      "2.96258115768\n",
      "1.66161584854\n",
      "37.6637129784\n",
      "122.468597889\n",
      "2.91081190109\n",
      "88.7322421074\n",
      "66.3677020073\n",
      "2.41974782944\n",
      "126.637792826\n",
      "1223.80026889\n",
      "10.8242309093\n",
      "91.8190948963\n",
      "67.3742930889\n",
      "6.01697802544\n",
      "90.8949248791\n",
      "3.91298604012\n",
      "5.7441341877\n",
      "4.36492800713\n",
      "303.866535902\n",
      "414.892372131\n",
      "363.811291933\n",
      "179.053040028\n",
      "183.128887892\n",
      "13.6801798344\n",
      "9.47943687439\n",
      "146.260708094\n",
      "23.8650770187\n",
      "26.0801520348\n",
      "474.443128824\n",
      "8.67441010475\n",
      "14.2266159058\n",
      "159.261891127\n",
      "23.7229738235\n",
      "2.98447299004\n",
      "11.7702980042\n",
      "6.81944704056\n",
      "2.29360103607\n",
      "1.28437185287\n",
      "45.1255381107\n",
      "148.599154949\n",
      "94.142840147\n",
      "4.62203097343\n",
      "95.146296978\n",
      "6.54567694664\n",
      "54.9542818069\n",
      "549.268831015\n",
      "201.538316011\n",
      "1.68428182602\n",
      "0.0487020015717\n",
      "22.2273550034\n",
      "73.7376770973\n",
      "1966.38404179\n",
      "38.0783100128\n",
      "90.0576810837\n",
      "9.82970094681\n"
     ]
    }
   ],
   "source": [
    "scraps=[]\n",
    "for dom,n in zip(domains[1][125:250],domains[1][125:250].index.values):\n",
    "    t1=tim()\n",
    "    scraps=scraps+scraper(dom,2)[1:]\n",
    "    t2=tim()\n",
    "    print(t2-t1)\n",
    "    if (n+1)%25==0:\n",
    "        Series(scraps).to_csv(os.path.join(final_data,\"scraped_data_\"+str(n+1)+\".csv\"))"
   ]
  },
  {
   "cell_type": "code",
   "execution_count": 6,
   "metadata": {
    "collapsed": false,
    "scrolled": true
   },
   "outputs": [
    {
     "name": "stdout",
     "output_type": "stream",
     "text": [
      "14.0814049244\n",
      "14506.4269209\n",
      "14440.6525719\n",
      "1.40805101395\n",
      "5.88250303268\n",
      "2.44091105461\n",
      "8.52403497696\n",
      "6.50163006783\n",
      "11.7285578251\n",
      "3.47911500931\n",
      "77.5142281055\n",
      "24.4357609749\n",
      "17.3371219635\n",
      "23976.099555\n",
      "8.39026999474\n",
      "256.460481882\n",
      "139.780390978\n",
      "4.19337105751\n",
      "2.05578589439\n",
      "104.343044043\n",
      "20.3864438534\n",
      "7.01510906219\n",
      "3.48563480377\n",
      "96.3705880642\n",
      "2.78504610062\n"
     ]
    }
   ],
   "source": [
    "scraps=[]\n",
    "for dom,n in zip(domains[1][100:125],domains[1][100:125].index.values):\n",
    "    t1=tim()\n",
    "    scraps=scraps+scraper(dom,2)[1:]\n",
    "    t2=tim()\n",
    "    print(t2-t1)\n",
    "    if (n+1)%25==0:\n",
    "        Series(scraps).to_csv(os.path.join(final_data,\"scraped_data_100\"+str(n+1)+\".csv\"))"
   ]
  },
  {
   "cell_type": "code",
   "execution_count": 7,
   "metadata": {
    "collapsed": false
   },
   "outputs": [
    {
     "data": {
      "text/plain": [
       "25"
      ]
     },
     "execution_count": 7,
     "metadata": {},
     "output_type": "execute_result"
    }
   ],
   "source": [
    "st=\"\"\"14.0814049244\n",
    "14506.4269209\n",
    "14440.6525719\n",
    "1.40805101395\n",
    "5.88250303268\n",
    "2.44091105461\n",
    "8.52403497696\n",
    "6.50163006783\n",
    "11.7285578251\n",
    "3.47911500931\n",
    "77.5142281055\n",
    "24.4357609749\n",
    "17.3371219635\n",
    "23976.099555\n",
    "8.39026999474\n",
    "256.460481882\n",
    "139.780390978\n",
    "4.19337105751\n",
    "2.05578589439\n",
    "104.343044043\n",
    "20.3864438534\n",
    "7.01510906219\n",
    "3.48563480377\n",
    "96.3705880642\n",
    "2.78504610062\"\"\"\n",
    "len(st.split())"
   ]
  },
  {
   "cell_type": "code",
   "execution_count": 8,
   "metadata": {
    "collapsed": false
   },
   "outputs": [
    {
     "data": {
      "text/plain": [
       "4953"
      ]
     },
     "execution_count": 8,
     "metadata": {},
     "output_type": "execute_result"
    }
   ],
   "source": [
    "len(scraps)"
   ]
  },
  {
   "cell_type": "code",
   "execution_count": 9,
   "metadata": {
    "collapsed": false
   },
   "outputs": [
    {
     "data": {
      "text/plain": [
       "124"
      ]
     },
     "execution_count": 9,
     "metadata": {},
     "output_type": "execute_result"
    }
   ],
   "source": [
    "n"
   ]
  },
  {
   "cell_type": "code",
   "execution_count": null,
   "metadata": {
    "collapsed": true
   },
   "outputs": [],
   "source": [
    "Series(scraps).to_csv(os.path.join(final_data,\"scraped_data_100\"+str(n+1)+\".csv\"))"
   ]
  }
 ],
 "metadata": {
  "kernelspec": {
   "display_name": "Python 2",
   "language": "python",
   "name": "python2"
  },
  "language_info": {
   "codemirror_mode": {
    "name": "ipython",
    "version": 2
   },
   "file_extension": ".py",
   "mimetype": "text/x-python",
   "name": "python",
   "nbconvert_exporter": "python",
   "pygments_lexer": "ipython2",
   "version": "2.7.11"
  }
 },
 "nbformat": 4,
 "nbformat_minor": 0
}
